{
 "cells": [
  {
   "cell_type": "code",
   "execution_count": 6,
   "id": "1064c485",
   "metadata": {
    "scrolled": true
   },
   "outputs": [
    {
     "name": "stdout",
     "output_type": "stream",
     "text": [
      "Requirement already satisfied: seaborn in /opt/conda/lib/python3.7/site-packages (0.11.2)\n",
      "Requirement already satisfied: numpy>=1.15 in /opt/conda/lib/python3.7/site-packages (from seaborn) (1.21.4)\n",
      "Requirement already satisfied: pandas>=0.23 in /opt/conda/lib/python3.7/site-packages (from seaborn) (1.1.4)\n",
      "Requirement already satisfied: matplotlib>=2.2 in /opt/conda/lib/python3.7/site-packages (from seaborn) (3.1.1)\n",
      "Requirement already satisfied: scipy>=1.0 in /opt/conda/lib/python3.7/site-packages (from seaborn) (1.7.3)\n",
      "Requirement already satisfied: pytz>=2017.2 in /opt/conda/lib/python3.7/site-packages (from pandas>=0.23->seaborn) (2021.3)\n",
      "Requirement already satisfied: python-dateutil>=2.7.3 in /opt/conda/lib/python3.7/site-packages (from pandas>=0.23->seaborn) (2.8.2)\n",
      "Requirement already satisfied: cycler>=0.10 in /opt/conda/lib/python3.7/site-packages (from matplotlib>=2.2->seaborn) (0.11.0)\n",
      "Requirement already satisfied: kiwisolver>=1.0.1 in /opt/conda/lib/python3.7/site-packages (from matplotlib>=2.2->seaborn) (1.3.2)\n",
      "Requirement already satisfied: pyparsing!=2.0.4,!=2.1.2,!=2.1.6,>=2.0.1 in /opt/conda/lib/python3.7/site-packages (from matplotlib>=2.2->seaborn) (3.0.6)\n",
      "Requirement already satisfied: six>=1.5 in /opt/conda/lib/python3.7/site-packages (from python-dateutil>=2.7.3->pandas>=0.23->seaborn) (1.16.0)\n",
      "\u001b[33mWARNING: You are using pip version 19.3.1; however, version 21.3.1 is available.\n",
      "You should consider upgrading via the 'pip install --upgrade pip' command.\u001b[0m\n"
     ]
    }
   ],
   "source": [
    "!pip3 install seaborn"
   ]
  },
  {
   "cell_type": "code",
   "execution_count": 7,
   "id": "41b4af6a",
   "metadata": {},
   "outputs": [],
   "source": [
    "import numpy as np\n",
    "import pandas as pd\n",
    "import seaborn as sns\n",
    "sns.set_theme(style=\"darkgrid\")"
   ]
  },
  {
   "cell_type": "code",
   "execution_count": 9,
   "id": "03d0c3ac",
   "metadata": {},
   "outputs": [],
   "source": [
    "df = pd.read_csv('/data/lens_demo_feature_engineering_2022_01_22_11_25_42_061.csv')"
   ]
  },
  {
   "cell_type": "code",
   "execution_count": 11,
   "id": "49960e70",
   "metadata": {},
   "outputs": [
    {
     "data": {
      "text/plain": [
       "(7043, 20)"
      ]
     },
     "execution_count": 11,
     "metadata": {},
     "output_type": "execute_result"
    }
   ],
   "source": [
    "df.shape"
   ]
  },
  {
   "cell_type": "code",
   "execution_count": 17,
   "id": "425ed4b3",
   "metadata": {
    "scrolled": true
   },
   "outputs": [
    {
     "data": {
      "text/html": [
       "<style  type=\"text/css\" >\n",
       "#T_d3a23342_7b4b_11ec_b17f_769d2bd5e301row0_col0,#T_d3a23342_7b4b_11ec_b17f_769d2bd5e301row0_col1,#T_d3a23342_7b4b_11ec_b17f_769d2bd5e301row0_col2,#T_d3a23342_7b4b_11ec_b17f_769d2bd5e301row0_col3,#T_d3a23342_7b4b_11ec_b17f_769d2bd5e301row0_col4,#T_d3a23342_7b4b_11ec_b17f_769d2bd5e301row0_col5,#T_d3a23342_7b4b_11ec_b17f_769d2bd5e301row0_col6,#T_d3a23342_7b4b_11ec_b17f_769d2bd5e301row0_col7,#T_d3a23342_7b4b_11ec_b17f_769d2bd5e301row0_col8,#T_d3a23342_7b4b_11ec_b17f_769d2bd5e301row0_col9,#T_d3a23342_7b4b_11ec_b17f_769d2bd5e301row0_col10,#T_d3a23342_7b4b_11ec_b17f_769d2bd5e301row0_col11,#T_d3a23342_7b4b_11ec_b17f_769d2bd5e301row0_col12,#T_d3a23342_7b4b_11ec_b17f_769d2bd5e301row0_col13,#T_d3a23342_7b4b_11ec_b17f_769d2bd5e301row0_col14,#T_d3a23342_7b4b_11ec_b17f_769d2bd5e301row0_col15,#T_d3a23342_7b4b_11ec_b17f_769d2bd5e301row0_col16,#T_d3a23342_7b4b_11ec_b17f_769d2bd5e301row0_col17,#T_d3a23342_7b4b_11ec_b17f_769d2bd5e301row0_col18,#T_d3a23342_7b4b_11ec_b17f_769d2bd5e301row0_col19,#T_d3a23342_7b4b_11ec_b17f_769d2bd5e301row1_col0,#T_d3a23342_7b4b_11ec_b17f_769d2bd5e301row1_col1,#T_d3a23342_7b4b_11ec_b17f_769d2bd5e301row1_col2,#T_d3a23342_7b4b_11ec_b17f_769d2bd5e301row1_col3,#T_d3a23342_7b4b_11ec_b17f_769d2bd5e301row1_col4,#T_d3a23342_7b4b_11ec_b17f_769d2bd5e301row1_col5,#T_d3a23342_7b4b_11ec_b17f_769d2bd5e301row1_col6,#T_d3a23342_7b4b_11ec_b17f_769d2bd5e301row1_col7,#T_d3a23342_7b4b_11ec_b17f_769d2bd5e301row1_col8,#T_d3a23342_7b4b_11ec_b17f_769d2bd5e301row1_col9,#T_d3a23342_7b4b_11ec_b17f_769d2bd5e301row1_col10,#T_d3a23342_7b4b_11ec_b17f_769d2bd5e301row1_col11,#T_d3a23342_7b4b_11ec_b17f_769d2bd5e301row1_col12,#T_d3a23342_7b4b_11ec_b17f_769d2bd5e301row1_col13,#T_d3a23342_7b4b_11ec_b17f_769d2bd5e301row1_col14,#T_d3a23342_7b4b_11ec_b17f_769d2bd5e301row1_col15,#T_d3a23342_7b4b_11ec_b17f_769d2bd5e301row1_col16,#T_d3a23342_7b4b_11ec_b17f_769d2bd5e301row1_col17,#T_d3a23342_7b4b_11ec_b17f_769d2bd5e301row1_col18,#T_d3a23342_7b4b_11ec_b17f_769d2bd5e301row1_col19,#T_d3a23342_7b4b_11ec_b17f_769d2bd5e301row2_col0,#T_d3a23342_7b4b_11ec_b17f_769d2bd5e301row2_col1,#T_d3a23342_7b4b_11ec_b17f_769d2bd5e301row2_col2,#T_d3a23342_7b4b_11ec_b17f_769d2bd5e301row2_col3,#T_d3a23342_7b4b_11ec_b17f_769d2bd5e301row2_col4,#T_d3a23342_7b4b_11ec_b17f_769d2bd5e301row2_col5,#T_d3a23342_7b4b_11ec_b17f_769d2bd5e301row2_col6,#T_d3a23342_7b4b_11ec_b17f_769d2bd5e301row2_col7,#T_d3a23342_7b4b_11ec_b17f_769d2bd5e301row2_col8,#T_d3a23342_7b4b_11ec_b17f_769d2bd5e301row2_col9,#T_d3a23342_7b4b_11ec_b17f_769d2bd5e301row2_col10,#T_d3a23342_7b4b_11ec_b17f_769d2bd5e301row2_col11,#T_d3a23342_7b4b_11ec_b17f_769d2bd5e301row2_col12,#T_d3a23342_7b4b_11ec_b17f_769d2bd5e301row2_col13,#T_d3a23342_7b4b_11ec_b17f_769d2bd5e301row2_col14,#T_d3a23342_7b4b_11ec_b17f_769d2bd5e301row2_col15,#T_d3a23342_7b4b_11ec_b17f_769d2bd5e301row2_col16,#T_d3a23342_7b4b_11ec_b17f_769d2bd5e301row2_col17,#T_d3a23342_7b4b_11ec_b17f_769d2bd5e301row2_col18,#T_d3a23342_7b4b_11ec_b17f_769d2bd5e301row2_col19,#T_d3a23342_7b4b_11ec_b17f_769d2bd5e301row3_col0,#T_d3a23342_7b4b_11ec_b17f_769d2bd5e301row3_col1,#T_d3a23342_7b4b_11ec_b17f_769d2bd5e301row3_col2,#T_d3a23342_7b4b_11ec_b17f_769d2bd5e301row3_col3,#T_d3a23342_7b4b_11ec_b17f_769d2bd5e301row3_col4,#T_d3a23342_7b4b_11ec_b17f_769d2bd5e301row3_col5,#T_d3a23342_7b4b_11ec_b17f_769d2bd5e301row3_col6,#T_d3a23342_7b4b_11ec_b17f_769d2bd5e301row3_col7,#T_d3a23342_7b4b_11ec_b17f_769d2bd5e301row3_col8,#T_d3a23342_7b4b_11ec_b17f_769d2bd5e301row3_col9,#T_d3a23342_7b4b_11ec_b17f_769d2bd5e301row3_col10,#T_d3a23342_7b4b_11ec_b17f_769d2bd5e301row3_col11,#T_d3a23342_7b4b_11ec_b17f_769d2bd5e301row3_col12,#T_d3a23342_7b4b_11ec_b17f_769d2bd5e301row3_col13,#T_d3a23342_7b4b_11ec_b17f_769d2bd5e301row3_col14,#T_d3a23342_7b4b_11ec_b17f_769d2bd5e301row3_col15,#T_d3a23342_7b4b_11ec_b17f_769d2bd5e301row3_col16,#T_d3a23342_7b4b_11ec_b17f_769d2bd5e301row3_col17,#T_d3a23342_7b4b_11ec_b17f_769d2bd5e301row3_col18,#T_d3a23342_7b4b_11ec_b17f_769d2bd5e301row3_col19,#T_d3a23342_7b4b_11ec_b17f_769d2bd5e301row4_col0,#T_d3a23342_7b4b_11ec_b17f_769d2bd5e301row4_col1,#T_d3a23342_7b4b_11ec_b17f_769d2bd5e301row4_col2,#T_d3a23342_7b4b_11ec_b17f_769d2bd5e301row4_col3,#T_d3a23342_7b4b_11ec_b17f_769d2bd5e301row4_col4,#T_d3a23342_7b4b_11ec_b17f_769d2bd5e301row4_col5,#T_d3a23342_7b4b_11ec_b17f_769d2bd5e301row4_col6,#T_d3a23342_7b4b_11ec_b17f_769d2bd5e301row4_col7,#T_d3a23342_7b4b_11ec_b17f_769d2bd5e301row4_col8,#T_d3a23342_7b4b_11ec_b17f_769d2bd5e301row4_col9,#T_d3a23342_7b4b_11ec_b17f_769d2bd5e301row4_col10,#T_d3a23342_7b4b_11ec_b17f_769d2bd5e301row4_col11,#T_d3a23342_7b4b_11ec_b17f_769d2bd5e301row4_col12,#T_d3a23342_7b4b_11ec_b17f_769d2bd5e301row4_col13,#T_d3a23342_7b4b_11ec_b17f_769d2bd5e301row4_col14,#T_d3a23342_7b4b_11ec_b17f_769d2bd5e301row4_col15,#T_d3a23342_7b4b_11ec_b17f_769d2bd5e301row4_col16,#T_d3a23342_7b4b_11ec_b17f_769d2bd5e301row4_col17,#T_d3a23342_7b4b_11ec_b17f_769d2bd5e301row4_col18,#T_d3a23342_7b4b_11ec_b17f_769d2bd5e301row4_col19{\n",
       "            background-color:  black;\n",
       "            color:  red;\n",
       "        }</style><table id=\"T_d3a23342_7b4b_11ec_b17f_769d2bd5e301\" ><thead>    <tr>        <th class=\"blank level0\" ></th>        <th class=\"col_heading level0 col0\" >gender</th>        <th class=\"col_heading level0 col1\" >seniorcitizen</th>        <th class=\"col_heading level0 col2\" >partner</th>        <th class=\"col_heading level0 col3\" >dependents</th>        <th class=\"col_heading level0 col4\" >tenure</th>        <th class=\"col_heading level0 col5\" >phoneservice</th>        <th class=\"col_heading level0 col6\" >multiplelines</th>        <th class=\"col_heading level0 col7\" >internetservice</th>        <th class=\"col_heading level0 col8\" >onlinesecurity</th>        <th class=\"col_heading level0 col9\" >onlinebackup</th>        <th class=\"col_heading level0 col10\" >deviceprotection</th>        <th class=\"col_heading level0 col11\" >techsupport</th>        <th class=\"col_heading level0 col12\" >streamingtv</th>        <th class=\"col_heading level0 col13\" >streamingmovies</th>        <th class=\"col_heading level0 col14\" >contract</th>        <th class=\"col_heading level0 col15\" >paperlessbilling</th>        <th class=\"col_heading level0 col16\" >paymentmethod</th>        <th class=\"col_heading level0 col17\" >monthlycharges</th>        <th class=\"col_heading level0 col18\" >totalcharges</th>        <th class=\"col_heading level0 col19\" >churn</th>    </tr></thead><tbody>\n",
       "                <tr>\n",
       "                        <th id=\"T_d3a23342_7b4b_11ec_b17f_769d2bd5e301level0_row0\" class=\"row_heading level0 row0\" >0</th>\n",
       "                        <td id=\"T_d3a23342_7b4b_11ec_b17f_769d2bd5e301row0_col0\" class=\"data row0 col0\" >Female</td>\n",
       "                        <td id=\"T_d3a23342_7b4b_11ec_b17f_769d2bd5e301row0_col1\" class=\"data row0 col1\" >0</td>\n",
       "                        <td id=\"T_d3a23342_7b4b_11ec_b17f_769d2bd5e301row0_col2\" class=\"data row0 col2\" >Yes</td>\n",
       "                        <td id=\"T_d3a23342_7b4b_11ec_b17f_769d2bd5e301row0_col3\" class=\"data row0 col3\" >No</td>\n",
       "                        <td id=\"T_d3a23342_7b4b_11ec_b17f_769d2bd5e301row0_col4\" class=\"data row0 col4\" >1</td>\n",
       "                        <td id=\"T_d3a23342_7b4b_11ec_b17f_769d2bd5e301row0_col5\" class=\"data row0 col5\" >No</td>\n",
       "                        <td id=\"T_d3a23342_7b4b_11ec_b17f_769d2bd5e301row0_col6\" class=\"data row0 col6\" >No phone service</td>\n",
       "                        <td id=\"T_d3a23342_7b4b_11ec_b17f_769d2bd5e301row0_col7\" class=\"data row0 col7\" >DSL</td>\n",
       "                        <td id=\"T_d3a23342_7b4b_11ec_b17f_769d2bd5e301row0_col8\" class=\"data row0 col8\" >No</td>\n",
       "                        <td id=\"T_d3a23342_7b4b_11ec_b17f_769d2bd5e301row0_col9\" class=\"data row0 col9\" >Yes</td>\n",
       "                        <td id=\"T_d3a23342_7b4b_11ec_b17f_769d2bd5e301row0_col10\" class=\"data row0 col10\" >No</td>\n",
       "                        <td id=\"T_d3a23342_7b4b_11ec_b17f_769d2bd5e301row0_col11\" class=\"data row0 col11\" >No</td>\n",
       "                        <td id=\"T_d3a23342_7b4b_11ec_b17f_769d2bd5e301row0_col12\" class=\"data row0 col12\" >No</td>\n",
       "                        <td id=\"T_d3a23342_7b4b_11ec_b17f_769d2bd5e301row0_col13\" class=\"data row0 col13\" >No</td>\n",
       "                        <td id=\"T_d3a23342_7b4b_11ec_b17f_769d2bd5e301row0_col14\" class=\"data row0 col14\" >Month-to-month</td>\n",
       "                        <td id=\"T_d3a23342_7b4b_11ec_b17f_769d2bd5e301row0_col15\" class=\"data row0 col15\" >Yes</td>\n",
       "                        <td id=\"T_d3a23342_7b4b_11ec_b17f_769d2bd5e301row0_col16\" class=\"data row0 col16\" >Electronic check</td>\n",
       "                        <td id=\"T_d3a23342_7b4b_11ec_b17f_769d2bd5e301row0_col17\" class=\"data row0 col17\" >29.850000</td>\n",
       "                        <td id=\"T_d3a23342_7b4b_11ec_b17f_769d2bd5e301row0_col18\" class=\"data row0 col18\" >29</td>\n",
       "                        <td id=\"T_d3a23342_7b4b_11ec_b17f_769d2bd5e301row0_col19\" class=\"data row0 col19\" >No</td>\n",
       "            </tr>\n",
       "            <tr>\n",
       "                        <th id=\"T_d3a23342_7b4b_11ec_b17f_769d2bd5e301level0_row1\" class=\"row_heading level0 row1\" >1</th>\n",
       "                        <td id=\"T_d3a23342_7b4b_11ec_b17f_769d2bd5e301row1_col0\" class=\"data row1 col0\" >Male</td>\n",
       "                        <td id=\"T_d3a23342_7b4b_11ec_b17f_769d2bd5e301row1_col1\" class=\"data row1 col1\" >0</td>\n",
       "                        <td id=\"T_d3a23342_7b4b_11ec_b17f_769d2bd5e301row1_col2\" class=\"data row1 col2\" >No</td>\n",
       "                        <td id=\"T_d3a23342_7b4b_11ec_b17f_769d2bd5e301row1_col3\" class=\"data row1 col3\" >No</td>\n",
       "                        <td id=\"T_d3a23342_7b4b_11ec_b17f_769d2bd5e301row1_col4\" class=\"data row1 col4\" >34</td>\n",
       "                        <td id=\"T_d3a23342_7b4b_11ec_b17f_769d2bd5e301row1_col5\" class=\"data row1 col5\" >Yes</td>\n",
       "                        <td id=\"T_d3a23342_7b4b_11ec_b17f_769d2bd5e301row1_col6\" class=\"data row1 col6\" >No</td>\n",
       "                        <td id=\"T_d3a23342_7b4b_11ec_b17f_769d2bd5e301row1_col7\" class=\"data row1 col7\" >DSL</td>\n",
       "                        <td id=\"T_d3a23342_7b4b_11ec_b17f_769d2bd5e301row1_col8\" class=\"data row1 col8\" >Yes</td>\n",
       "                        <td id=\"T_d3a23342_7b4b_11ec_b17f_769d2bd5e301row1_col9\" class=\"data row1 col9\" >No</td>\n",
       "                        <td id=\"T_d3a23342_7b4b_11ec_b17f_769d2bd5e301row1_col10\" class=\"data row1 col10\" >Yes</td>\n",
       "                        <td id=\"T_d3a23342_7b4b_11ec_b17f_769d2bd5e301row1_col11\" class=\"data row1 col11\" >No</td>\n",
       "                        <td id=\"T_d3a23342_7b4b_11ec_b17f_769d2bd5e301row1_col12\" class=\"data row1 col12\" >No</td>\n",
       "                        <td id=\"T_d3a23342_7b4b_11ec_b17f_769d2bd5e301row1_col13\" class=\"data row1 col13\" >No</td>\n",
       "                        <td id=\"T_d3a23342_7b4b_11ec_b17f_769d2bd5e301row1_col14\" class=\"data row1 col14\" >One year</td>\n",
       "                        <td id=\"T_d3a23342_7b4b_11ec_b17f_769d2bd5e301row1_col15\" class=\"data row1 col15\" >No</td>\n",
       "                        <td id=\"T_d3a23342_7b4b_11ec_b17f_769d2bd5e301row1_col16\" class=\"data row1 col16\" >Mailed check</td>\n",
       "                        <td id=\"T_d3a23342_7b4b_11ec_b17f_769d2bd5e301row1_col17\" class=\"data row1 col17\" >56.950000</td>\n",
       "                        <td id=\"T_d3a23342_7b4b_11ec_b17f_769d2bd5e301row1_col18\" class=\"data row1 col18\" >1889</td>\n",
       "                        <td id=\"T_d3a23342_7b4b_11ec_b17f_769d2bd5e301row1_col19\" class=\"data row1 col19\" >No</td>\n",
       "            </tr>\n",
       "            <tr>\n",
       "                        <th id=\"T_d3a23342_7b4b_11ec_b17f_769d2bd5e301level0_row2\" class=\"row_heading level0 row2\" >2</th>\n",
       "                        <td id=\"T_d3a23342_7b4b_11ec_b17f_769d2bd5e301row2_col0\" class=\"data row2 col0\" >Male</td>\n",
       "                        <td id=\"T_d3a23342_7b4b_11ec_b17f_769d2bd5e301row2_col1\" class=\"data row2 col1\" >0</td>\n",
       "                        <td id=\"T_d3a23342_7b4b_11ec_b17f_769d2bd5e301row2_col2\" class=\"data row2 col2\" >No</td>\n",
       "                        <td id=\"T_d3a23342_7b4b_11ec_b17f_769d2bd5e301row2_col3\" class=\"data row2 col3\" >No</td>\n",
       "                        <td id=\"T_d3a23342_7b4b_11ec_b17f_769d2bd5e301row2_col4\" class=\"data row2 col4\" >2</td>\n",
       "                        <td id=\"T_d3a23342_7b4b_11ec_b17f_769d2bd5e301row2_col5\" class=\"data row2 col5\" >Yes</td>\n",
       "                        <td id=\"T_d3a23342_7b4b_11ec_b17f_769d2bd5e301row2_col6\" class=\"data row2 col6\" >No</td>\n",
       "                        <td id=\"T_d3a23342_7b4b_11ec_b17f_769d2bd5e301row2_col7\" class=\"data row2 col7\" >DSL</td>\n",
       "                        <td id=\"T_d3a23342_7b4b_11ec_b17f_769d2bd5e301row2_col8\" class=\"data row2 col8\" >Yes</td>\n",
       "                        <td id=\"T_d3a23342_7b4b_11ec_b17f_769d2bd5e301row2_col9\" class=\"data row2 col9\" >Yes</td>\n",
       "                        <td id=\"T_d3a23342_7b4b_11ec_b17f_769d2bd5e301row2_col10\" class=\"data row2 col10\" >No</td>\n",
       "                        <td id=\"T_d3a23342_7b4b_11ec_b17f_769d2bd5e301row2_col11\" class=\"data row2 col11\" >No</td>\n",
       "                        <td id=\"T_d3a23342_7b4b_11ec_b17f_769d2bd5e301row2_col12\" class=\"data row2 col12\" >No</td>\n",
       "                        <td id=\"T_d3a23342_7b4b_11ec_b17f_769d2bd5e301row2_col13\" class=\"data row2 col13\" >No</td>\n",
       "                        <td id=\"T_d3a23342_7b4b_11ec_b17f_769d2bd5e301row2_col14\" class=\"data row2 col14\" >Month-to-month</td>\n",
       "                        <td id=\"T_d3a23342_7b4b_11ec_b17f_769d2bd5e301row2_col15\" class=\"data row2 col15\" >Yes</td>\n",
       "                        <td id=\"T_d3a23342_7b4b_11ec_b17f_769d2bd5e301row2_col16\" class=\"data row2 col16\" >Mailed check</td>\n",
       "                        <td id=\"T_d3a23342_7b4b_11ec_b17f_769d2bd5e301row2_col17\" class=\"data row2 col17\" >53.850000</td>\n",
       "                        <td id=\"T_d3a23342_7b4b_11ec_b17f_769d2bd5e301row2_col18\" class=\"data row2 col18\" >108</td>\n",
       "                        <td id=\"T_d3a23342_7b4b_11ec_b17f_769d2bd5e301row2_col19\" class=\"data row2 col19\" >Yes</td>\n",
       "            </tr>\n",
       "            <tr>\n",
       "                        <th id=\"T_d3a23342_7b4b_11ec_b17f_769d2bd5e301level0_row3\" class=\"row_heading level0 row3\" >3</th>\n",
       "                        <td id=\"T_d3a23342_7b4b_11ec_b17f_769d2bd5e301row3_col0\" class=\"data row3 col0\" >Male</td>\n",
       "                        <td id=\"T_d3a23342_7b4b_11ec_b17f_769d2bd5e301row3_col1\" class=\"data row3 col1\" >0</td>\n",
       "                        <td id=\"T_d3a23342_7b4b_11ec_b17f_769d2bd5e301row3_col2\" class=\"data row3 col2\" >No</td>\n",
       "                        <td id=\"T_d3a23342_7b4b_11ec_b17f_769d2bd5e301row3_col3\" class=\"data row3 col3\" >No</td>\n",
       "                        <td id=\"T_d3a23342_7b4b_11ec_b17f_769d2bd5e301row3_col4\" class=\"data row3 col4\" >45</td>\n",
       "                        <td id=\"T_d3a23342_7b4b_11ec_b17f_769d2bd5e301row3_col5\" class=\"data row3 col5\" >No</td>\n",
       "                        <td id=\"T_d3a23342_7b4b_11ec_b17f_769d2bd5e301row3_col6\" class=\"data row3 col6\" >No phone service</td>\n",
       "                        <td id=\"T_d3a23342_7b4b_11ec_b17f_769d2bd5e301row3_col7\" class=\"data row3 col7\" >DSL</td>\n",
       "                        <td id=\"T_d3a23342_7b4b_11ec_b17f_769d2bd5e301row3_col8\" class=\"data row3 col8\" >Yes</td>\n",
       "                        <td id=\"T_d3a23342_7b4b_11ec_b17f_769d2bd5e301row3_col9\" class=\"data row3 col9\" >No</td>\n",
       "                        <td id=\"T_d3a23342_7b4b_11ec_b17f_769d2bd5e301row3_col10\" class=\"data row3 col10\" >Yes</td>\n",
       "                        <td id=\"T_d3a23342_7b4b_11ec_b17f_769d2bd5e301row3_col11\" class=\"data row3 col11\" >Yes</td>\n",
       "                        <td id=\"T_d3a23342_7b4b_11ec_b17f_769d2bd5e301row3_col12\" class=\"data row3 col12\" >No</td>\n",
       "                        <td id=\"T_d3a23342_7b4b_11ec_b17f_769d2bd5e301row3_col13\" class=\"data row3 col13\" >No</td>\n",
       "                        <td id=\"T_d3a23342_7b4b_11ec_b17f_769d2bd5e301row3_col14\" class=\"data row3 col14\" >One year</td>\n",
       "                        <td id=\"T_d3a23342_7b4b_11ec_b17f_769d2bd5e301row3_col15\" class=\"data row3 col15\" >No</td>\n",
       "                        <td id=\"T_d3a23342_7b4b_11ec_b17f_769d2bd5e301row3_col16\" class=\"data row3 col16\" >Bank transfer (automatic)</td>\n",
       "                        <td id=\"T_d3a23342_7b4b_11ec_b17f_769d2bd5e301row3_col17\" class=\"data row3 col17\" >42.300000</td>\n",
       "                        <td id=\"T_d3a23342_7b4b_11ec_b17f_769d2bd5e301row3_col18\" class=\"data row3 col18\" >1840</td>\n",
       "                        <td id=\"T_d3a23342_7b4b_11ec_b17f_769d2bd5e301row3_col19\" class=\"data row3 col19\" >No</td>\n",
       "            </tr>\n",
       "            <tr>\n",
       "                        <th id=\"T_d3a23342_7b4b_11ec_b17f_769d2bd5e301level0_row4\" class=\"row_heading level0 row4\" >4</th>\n",
       "                        <td id=\"T_d3a23342_7b4b_11ec_b17f_769d2bd5e301row4_col0\" class=\"data row4 col0\" >Female</td>\n",
       "                        <td id=\"T_d3a23342_7b4b_11ec_b17f_769d2bd5e301row4_col1\" class=\"data row4 col1\" >0</td>\n",
       "                        <td id=\"T_d3a23342_7b4b_11ec_b17f_769d2bd5e301row4_col2\" class=\"data row4 col2\" >No</td>\n",
       "                        <td id=\"T_d3a23342_7b4b_11ec_b17f_769d2bd5e301row4_col3\" class=\"data row4 col3\" >No</td>\n",
       "                        <td id=\"T_d3a23342_7b4b_11ec_b17f_769d2bd5e301row4_col4\" class=\"data row4 col4\" >2</td>\n",
       "                        <td id=\"T_d3a23342_7b4b_11ec_b17f_769d2bd5e301row4_col5\" class=\"data row4 col5\" >Yes</td>\n",
       "                        <td id=\"T_d3a23342_7b4b_11ec_b17f_769d2bd5e301row4_col6\" class=\"data row4 col6\" >No</td>\n",
       "                        <td id=\"T_d3a23342_7b4b_11ec_b17f_769d2bd5e301row4_col7\" class=\"data row4 col7\" >Fiber optic</td>\n",
       "                        <td id=\"T_d3a23342_7b4b_11ec_b17f_769d2bd5e301row4_col8\" class=\"data row4 col8\" >No</td>\n",
       "                        <td id=\"T_d3a23342_7b4b_11ec_b17f_769d2bd5e301row4_col9\" class=\"data row4 col9\" >No</td>\n",
       "                        <td id=\"T_d3a23342_7b4b_11ec_b17f_769d2bd5e301row4_col10\" class=\"data row4 col10\" >No</td>\n",
       "                        <td id=\"T_d3a23342_7b4b_11ec_b17f_769d2bd5e301row4_col11\" class=\"data row4 col11\" >No</td>\n",
       "                        <td id=\"T_d3a23342_7b4b_11ec_b17f_769d2bd5e301row4_col12\" class=\"data row4 col12\" >No</td>\n",
       "                        <td id=\"T_d3a23342_7b4b_11ec_b17f_769d2bd5e301row4_col13\" class=\"data row4 col13\" >No</td>\n",
       "                        <td id=\"T_d3a23342_7b4b_11ec_b17f_769d2bd5e301row4_col14\" class=\"data row4 col14\" >Month-to-month</td>\n",
       "                        <td id=\"T_d3a23342_7b4b_11ec_b17f_769d2bd5e301row4_col15\" class=\"data row4 col15\" >Yes</td>\n",
       "                        <td id=\"T_d3a23342_7b4b_11ec_b17f_769d2bd5e301row4_col16\" class=\"data row4 col16\" >Electronic check</td>\n",
       "                        <td id=\"T_d3a23342_7b4b_11ec_b17f_769d2bd5e301row4_col17\" class=\"data row4 col17\" >70.700000</td>\n",
       "                        <td id=\"T_d3a23342_7b4b_11ec_b17f_769d2bd5e301row4_col18\" class=\"data row4 col18\" >151</td>\n",
       "                        <td id=\"T_d3a23342_7b4b_11ec_b17f_769d2bd5e301row4_col19\" class=\"data row4 col19\" >Yes</td>\n",
       "            </tr>\n",
       "    </tbody></table>"
      ],
      "text/plain": [
       "<pandas.io.formats.style.Styler at 0x7f8b38559550>"
      ]
     },
     "execution_count": 17,
     "metadata": {},
     "output_type": "execute_result"
    }
   ],
   "source": [
    "df.head(5).style.set_properties(**{'background-color':'black',\n",
    "                                     'color': 'red'})"
   ]
  },
  {
   "cell_type": "code",
   "execution_count": 18,
   "id": "f3674b6b",
   "metadata": {},
   "outputs": [
    {
     "name": "stdout",
     "output_type": "stream",
     "text": [
      "<class 'pandas.core.frame.DataFrame'>\n",
      "RangeIndex: 7043 entries, 0 to 7042\n",
      "Data columns (total 20 columns):\n",
      " #   Column            Non-Null Count  Dtype  \n",
      "---  ------            --------------  -----  \n",
      " 0   gender            7043 non-null   object \n",
      " 1   seniorcitizen     7043 non-null   int64  \n",
      " 2   partner           7043 non-null   object \n",
      " 3   dependents        7043 non-null   object \n",
      " 4   tenure            7043 non-null   int64  \n",
      " 5   phoneservice      7043 non-null   object \n",
      " 6   multiplelines     7043 non-null   object \n",
      " 7   internetservice   7043 non-null   object \n",
      " 8   onlinesecurity    7043 non-null   object \n",
      " 9   onlinebackup      7043 non-null   object \n",
      " 10  deviceprotection  7043 non-null   object \n",
      " 11  techsupport       7043 non-null   object \n",
      " 12  streamingtv       7043 non-null   object \n",
      " 13  streamingmovies   7043 non-null   object \n",
      " 14  contract          7043 non-null   object \n",
      " 15  paperlessbilling  7043 non-null   object \n",
      " 16  paymentmethod     7043 non-null   object \n",
      " 17  monthlycharges    7043 non-null   float64\n",
      " 18  totalcharges      7043 non-null   int64  \n",
      " 19  churn             7043 non-null   object \n",
      "dtypes: float64(1), int64(3), object(16)\n",
      "memory usage: 1.1+ MB\n"
     ]
    }
   ],
   "source": [
    "df.info()"
   ]
  },
  {
   "cell_type": "markdown",
   "id": "946eb53f",
   "metadata": {},
   "source": [
    "### Do note we have already\n",
    "####  excluded Customer ID using Lens\n",
    "####  converted totalcharges to integer\n",
    "####  replaced blank values in totalcharges by Median\n",
    "## using Refract Lens functionality."
   ]
  },
  {
   "cell_type": "code",
   "execution_count": 20,
   "id": "2b77ad53",
   "metadata": {},
   "outputs": [
    {
     "data": {
      "text/html": [
       "<style  type=\"text/css\" >\n",
       "#T_8f5a024a_7b4c_11ec_b17f_769d2bd5e301row0_col0,#T_8f5a024a_7b4c_11ec_b17f_769d2bd5e301row0_col1,#T_8f5a024a_7b4c_11ec_b17f_769d2bd5e301row0_col2,#T_8f5a024a_7b4c_11ec_b17f_769d2bd5e301row0_col3,#T_8f5a024a_7b4c_11ec_b17f_769d2bd5e301row1_col0,#T_8f5a024a_7b4c_11ec_b17f_769d2bd5e301row1_col1,#T_8f5a024a_7b4c_11ec_b17f_769d2bd5e301row1_col2,#T_8f5a024a_7b4c_11ec_b17f_769d2bd5e301row1_col3,#T_8f5a024a_7b4c_11ec_b17f_769d2bd5e301row2_col0,#T_8f5a024a_7b4c_11ec_b17f_769d2bd5e301row2_col1,#T_8f5a024a_7b4c_11ec_b17f_769d2bd5e301row2_col2,#T_8f5a024a_7b4c_11ec_b17f_769d2bd5e301row2_col3,#T_8f5a024a_7b4c_11ec_b17f_769d2bd5e301row3_col0,#T_8f5a024a_7b4c_11ec_b17f_769d2bd5e301row3_col1,#T_8f5a024a_7b4c_11ec_b17f_769d2bd5e301row3_col2,#T_8f5a024a_7b4c_11ec_b17f_769d2bd5e301row3_col3,#T_8f5a024a_7b4c_11ec_b17f_769d2bd5e301row4_col0,#T_8f5a024a_7b4c_11ec_b17f_769d2bd5e301row4_col1,#T_8f5a024a_7b4c_11ec_b17f_769d2bd5e301row4_col2,#T_8f5a024a_7b4c_11ec_b17f_769d2bd5e301row4_col3,#T_8f5a024a_7b4c_11ec_b17f_769d2bd5e301row5_col0,#T_8f5a024a_7b4c_11ec_b17f_769d2bd5e301row5_col1,#T_8f5a024a_7b4c_11ec_b17f_769d2bd5e301row5_col2,#T_8f5a024a_7b4c_11ec_b17f_769d2bd5e301row5_col3,#T_8f5a024a_7b4c_11ec_b17f_769d2bd5e301row6_col0,#T_8f5a024a_7b4c_11ec_b17f_769d2bd5e301row6_col1,#T_8f5a024a_7b4c_11ec_b17f_769d2bd5e301row6_col2,#T_8f5a024a_7b4c_11ec_b17f_769d2bd5e301row6_col3,#T_8f5a024a_7b4c_11ec_b17f_769d2bd5e301row7_col0,#T_8f5a024a_7b4c_11ec_b17f_769d2bd5e301row7_col1,#T_8f5a024a_7b4c_11ec_b17f_769d2bd5e301row7_col2,#T_8f5a024a_7b4c_11ec_b17f_769d2bd5e301row7_col3{\n",
       "            background-color:  black;\n",
       "            color:  red;\n",
       "        }</style><table id=\"T_8f5a024a_7b4c_11ec_b17f_769d2bd5e301\" ><thead>    <tr>        <th class=\"blank level0\" ></th>        <th class=\"col_heading level0 col0\" >seniorcitizen</th>        <th class=\"col_heading level0 col1\" >tenure</th>        <th class=\"col_heading level0 col2\" >monthlycharges</th>        <th class=\"col_heading level0 col3\" >totalcharges</th>    </tr></thead><tbody>\n",
       "                <tr>\n",
       "                        <th id=\"T_8f5a024a_7b4c_11ec_b17f_769d2bd5e301level0_row0\" class=\"row_heading level0 row0\" >count</th>\n",
       "                        <td id=\"T_8f5a024a_7b4c_11ec_b17f_769d2bd5e301row0_col0\" class=\"data row0 col0\" >7043.000000</td>\n",
       "                        <td id=\"T_8f5a024a_7b4c_11ec_b17f_769d2bd5e301row0_col1\" class=\"data row0 col1\" >7043.000000</td>\n",
       "                        <td id=\"T_8f5a024a_7b4c_11ec_b17f_769d2bd5e301row0_col2\" class=\"data row0 col2\" >7043.000000</td>\n",
       "                        <td id=\"T_8f5a024a_7b4c_11ec_b17f_769d2bd5e301row0_col3\" class=\"data row0 col3\" >7043.000000</td>\n",
       "            </tr>\n",
       "            <tr>\n",
       "                        <th id=\"T_8f5a024a_7b4c_11ec_b17f_769d2bd5e301level0_row1\" class=\"row_heading level0 row1\" >mean</th>\n",
       "                        <td id=\"T_8f5a024a_7b4c_11ec_b17f_769d2bd5e301row1_col0\" class=\"data row1 col0\" >0.162147</td>\n",
       "                        <td id=\"T_8f5a024a_7b4c_11ec_b17f_769d2bd5e301row1_col1\" class=\"data row1 col1\" >32.371149</td>\n",
       "                        <td id=\"T_8f5a024a_7b4c_11ec_b17f_769d2bd5e301row1_col2\" class=\"data row1 col2\" >64.761692</td>\n",
       "                        <td id=\"T_8f5a024a_7b4c_11ec_b17f_769d2bd5e301row1_col3\" class=\"data row1 col3\" >2281.446969</td>\n",
       "            </tr>\n",
       "            <tr>\n",
       "                        <th id=\"T_8f5a024a_7b4c_11ec_b17f_769d2bd5e301level0_row2\" class=\"row_heading level0 row2\" >std</th>\n",
       "                        <td id=\"T_8f5a024a_7b4c_11ec_b17f_769d2bd5e301row2_col0\" class=\"data row2 col0\" >0.368612</td>\n",
       "                        <td id=\"T_8f5a024a_7b4c_11ec_b17f_769d2bd5e301row2_col1\" class=\"data row2 col1\" >24.559481</td>\n",
       "                        <td id=\"T_8f5a024a_7b4c_11ec_b17f_769d2bd5e301row2_col2\" class=\"data row2 col2\" >30.090047</td>\n",
       "                        <td id=\"T_8f5a024a_7b4c_11ec_b17f_769d2bd5e301row2_col3\" class=\"data row2 col3\" >2265.267532</td>\n",
       "            </tr>\n",
       "            <tr>\n",
       "                        <th id=\"T_8f5a024a_7b4c_11ec_b17f_769d2bd5e301level0_row3\" class=\"row_heading level0 row3\" >min</th>\n",
       "                        <td id=\"T_8f5a024a_7b4c_11ec_b17f_769d2bd5e301row3_col0\" class=\"data row3 col0\" >0.000000</td>\n",
       "                        <td id=\"T_8f5a024a_7b4c_11ec_b17f_769d2bd5e301row3_col1\" class=\"data row3 col1\" >0.000000</td>\n",
       "                        <td id=\"T_8f5a024a_7b4c_11ec_b17f_769d2bd5e301row3_col2\" class=\"data row3 col2\" >18.250000</td>\n",
       "                        <td id=\"T_8f5a024a_7b4c_11ec_b17f_769d2bd5e301row3_col3\" class=\"data row3 col3\" >18.000000</td>\n",
       "            </tr>\n",
       "            <tr>\n",
       "                        <th id=\"T_8f5a024a_7b4c_11ec_b17f_769d2bd5e301level0_row4\" class=\"row_heading level0 row4\" >25%</th>\n",
       "                        <td id=\"T_8f5a024a_7b4c_11ec_b17f_769d2bd5e301row4_col0\" class=\"data row4 col0\" >0.000000</td>\n",
       "                        <td id=\"T_8f5a024a_7b4c_11ec_b17f_769d2bd5e301row4_col1\" class=\"data row4 col1\" >9.000000</td>\n",
       "                        <td id=\"T_8f5a024a_7b4c_11ec_b17f_769d2bd5e301row4_col2\" class=\"data row4 col2\" >35.500000</td>\n",
       "                        <td id=\"T_8f5a024a_7b4c_11ec_b17f_769d2bd5e301row4_col3\" class=\"data row4 col3\" >401.500000</td>\n",
       "            </tr>\n",
       "            <tr>\n",
       "                        <th id=\"T_8f5a024a_7b4c_11ec_b17f_769d2bd5e301level0_row5\" class=\"row_heading level0 row5\" >50%</th>\n",
       "                        <td id=\"T_8f5a024a_7b4c_11ec_b17f_769d2bd5e301row5_col0\" class=\"data row5 col0\" >0.000000</td>\n",
       "                        <td id=\"T_8f5a024a_7b4c_11ec_b17f_769d2bd5e301row5_col1\" class=\"data row5 col1\" >29.000000</td>\n",
       "                        <td id=\"T_8f5a024a_7b4c_11ec_b17f_769d2bd5e301row5_col2\" class=\"data row5 col2\" >70.350000</td>\n",
       "                        <td id=\"T_8f5a024a_7b4c_11ec_b17f_769d2bd5e301row5_col3\" class=\"data row5 col3\" >1397.000000</td>\n",
       "            </tr>\n",
       "            <tr>\n",
       "                        <th id=\"T_8f5a024a_7b4c_11ec_b17f_769d2bd5e301level0_row6\" class=\"row_heading level0 row6\" >75%</th>\n",
       "                        <td id=\"T_8f5a024a_7b4c_11ec_b17f_769d2bd5e301row6_col0\" class=\"data row6 col0\" >0.000000</td>\n",
       "                        <td id=\"T_8f5a024a_7b4c_11ec_b17f_769d2bd5e301row6_col1\" class=\"data row6 col1\" >55.000000</td>\n",
       "                        <td id=\"T_8f5a024a_7b4c_11ec_b17f_769d2bd5e301row6_col2\" class=\"data row6 col2\" >89.850000</td>\n",
       "                        <td id=\"T_8f5a024a_7b4c_11ec_b17f_769d2bd5e301row6_col3\" class=\"data row6 col3\" >3786.500000</td>\n",
       "            </tr>\n",
       "            <tr>\n",
       "                        <th id=\"T_8f5a024a_7b4c_11ec_b17f_769d2bd5e301level0_row7\" class=\"row_heading level0 row7\" >max</th>\n",
       "                        <td id=\"T_8f5a024a_7b4c_11ec_b17f_769d2bd5e301row7_col0\" class=\"data row7 col0\" >1.000000</td>\n",
       "                        <td id=\"T_8f5a024a_7b4c_11ec_b17f_769d2bd5e301row7_col1\" class=\"data row7 col1\" >72.000000</td>\n",
       "                        <td id=\"T_8f5a024a_7b4c_11ec_b17f_769d2bd5e301row7_col2\" class=\"data row7 col2\" >118.750000</td>\n",
       "                        <td id=\"T_8f5a024a_7b4c_11ec_b17f_769d2bd5e301row7_col3\" class=\"data row7 col3\" >8684.000000</td>\n",
       "            </tr>\n",
       "    </tbody></table>"
      ],
      "text/plain": [
       "<pandas.io.formats.style.Styler at 0x7f8b38583d50>"
      ]
     },
     "execution_count": 20,
     "metadata": {},
     "output_type": "execute_result"
    }
   ],
   "source": [
    "df.describe().style.set_properties(**{'background-color':'black',\n",
    "                                     'color': 'red'})"
   ]
  },
  {
   "cell_type": "code",
   "execution_count": 26,
   "id": "338e6dac",
   "metadata": {},
   "outputs": [
    {
     "data": {
      "text/html": [
       "<style  type=\"text/css\" >\n",
       "#T_ccc442d4_7b4d_11ec_b17f_769d2bd5e301row0_col0,#T_ccc442d4_7b4d_11ec_b17f_769d2bd5e301row0_col1,#T_ccc442d4_7b4d_11ec_b17f_769d2bd5e301row0_col2,#T_ccc442d4_7b4d_11ec_b17f_769d2bd5e301row0_col3,#T_ccc442d4_7b4d_11ec_b17f_769d2bd5e301row1_col0,#T_ccc442d4_7b4d_11ec_b17f_769d2bd5e301row1_col1,#T_ccc442d4_7b4d_11ec_b17f_769d2bd5e301row1_col2,#T_ccc442d4_7b4d_11ec_b17f_769d2bd5e301row1_col3,#T_ccc442d4_7b4d_11ec_b17f_769d2bd5e301row2_col0,#T_ccc442d4_7b4d_11ec_b17f_769d2bd5e301row2_col1,#T_ccc442d4_7b4d_11ec_b17f_769d2bd5e301row2_col2,#T_ccc442d4_7b4d_11ec_b17f_769d2bd5e301row2_col3,#T_ccc442d4_7b4d_11ec_b17f_769d2bd5e301row3_col0,#T_ccc442d4_7b4d_11ec_b17f_769d2bd5e301row3_col1,#T_ccc442d4_7b4d_11ec_b17f_769d2bd5e301row3_col2,#T_ccc442d4_7b4d_11ec_b17f_769d2bd5e301row3_col3{\n",
       "            background-color:  black;\n",
       "            color:  red;\n",
       "        }</style><table id=\"T_ccc442d4_7b4d_11ec_b17f_769d2bd5e301\" ><thead>    <tr>        <th class=\"blank level0\" ></th>        <th class=\"col_heading level0 col0\" >seniorcitizen</th>        <th class=\"col_heading level0 col1\" >tenure</th>        <th class=\"col_heading level0 col2\" >monthlycharges</th>        <th class=\"col_heading level0 col3\" >totalcharges</th>    </tr></thead><tbody>\n",
       "                <tr>\n",
       "                        <th id=\"T_ccc442d4_7b4d_11ec_b17f_769d2bd5e301level0_row0\" class=\"row_heading level0 row0\" >seniorcitizen</th>\n",
       "                        <td id=\"T_ccc442d4_7b4d_11ec_b17f_769d2bd5e301row0_col0\" class=\"data row0 col0\" >1.000000</td>\n",
       "                        <td id=\"T_ccc442d4_7b4d_11ec_b17f_769d2bd5e301row0_col1\" class=\"data row0 col1\" >0.016567</td>\n",
       "                        <td id=\"T_ccc442d4_7b4d_11ec_b17f_769d2bd5e301row0_col2\" class=\"data row0 col2\" >0.220173</td>\n",
       "                        <td id=\"T_ccc442d4_7b4d_11ec_b17f_769d2bd5e301row0_col3\" class=\"data row0 col3\" >0.102653</td>\n",
       "            </tr>\n",
       "            <tr>\n",
       "                        <th id=\"T_ccc442d4_7b4d_11ec_b17f_769d2bd5e301level0_row1\" class=\"row_heading level0 row1\" >tenure</th>\n",
       "                        <td id=\"T_ccc442d4_7b4d_11ec_b17f_769d2bd5e301row1_col0\" class=\"data row1 col0\" >0.016567</td>\n",
       "                        <td id=\"T_ccc442d4_7b4d_11ec_b17f_769d2bd5e301row1_col1\" class=\"data row1 col1\" >1.000000</td>\n",
       "                        <td id=\"T_ccc442d4_7b4d_11ec_b17f_769d2bd5e301row1_col2\" class=\"data row1 col2\" >0.247900</td>\n",
       "                        <td id=\"T_ccc442d4_7b4d_11ec_b17f_769d2bd5e301row1_col3\" class=\"data row1 col3\" >0.825465</td>\n",
       "            </tr>\n",
       "            <tr>\n",
       "                        <th id=\"T_ccc442d4_7b4d_11ec_b17f_769d2bd5e301level0_row2\" class=\"row_heading level0 row2\" >monthlycharges</th>\n",
       "                        <td id=\"T_ccc442d4_7b4d_11ec_b17f_769d2bd5e301row2_col0\" class=\"data row2 col0\" >0.220173</td>\n",
       "                        <td id=\"T_ccc442d4_7b4d_11ec_b17f_769d2bd5e301row2_col1\" class=\"data row2 col1\" >0.247900</td>\n",
       "                        <td id=\"T_ccc442d4_7b4d_11ec_b17f_769d2bd5e301row2_col2\" class=\"data row2 col2\" >1.000000</td>\n",
       "                        <td id=\"T_ccc442d4_7b4d_11ec_b17f_769d2bd5e301row2_col3\" class=\"data row2 col3\" >0.650864</td>\n",
       "            </tr>\n",
       "            <tr>\n",
       "                        <th id=\"T_ccc442d4_7b4d_11ec_b17f_769d2bd5e301level0_row3\" class=\"row_heading level0 row3\" >totalcharges</th>\n",
       "                        <td id=\"T_ccc442d4_7b4d_11ec_b17f_769d2bd5e301row3_col0\" class=\"data row3 col0\" >0.102653</td>\n",
       "                        <td id=\"T_ccc442d4_7b4d_11ec_b17f_769d2bd5e301row3_col1\" class=\"data row3 col1\" >0.825465</td>\n",
       "                        <td id=\"T_ccc442d4_7b4d_11ec_b17f_769d2bd5e301row3_col2\" class=\"data row3 col2\" >0.650864</td>\n",
       "                        <td id=\"T_ccc442d4_7b4d_11ec_b17f_769d2bd5e301row3_col3\" class=\"data row3 col3\" >1.000000</td>\n",
       "            </tr>\n",
       "    </tbody></table>"
      ],
      "text/plain": [
       "<pandas.io.formats.style.Styler at 0x7f8b38149290>"
      ]
     },
     "execution_count": 26,
     "metadata": {},
     "output_type": "execute_result"
    }
   ],
   "source": [
    "df.corr().style.set_properties(**{'background-color':'black',\n",
    "                                     'color': 'red'})"
   ]
  },
  {
   "cell_type": "code",
   "execution_count": 25,
   "id": "e43ab81f",
   "metadata": {
    "scrolled": true
   },
   "outputs": [
    {
     "data": {
      "text/plain": [
       "<seaborn.axisgrid.FacetGrid at 0x7f8b39a90f90>"
      ]
     },
     "execution_count": 25,
     "metadata": {},
     "output_type": "execute_result"
    },
    {
     "data": {
      "image/png": "[encoded data removed]",
      "text/plain": [
       "<Figure size 360x360 with 1 Axes>"
      ]
     },
     "metadata": {},
     "output_type": "display_data"
    }
   ],
   "source": [
    "#Check the distribution of Churn {target class}\n",
    "sns.catplot(x=\"churn\", kind=\"count\", data=df)"
   ]
  },
  {
   "cell_type": "markdown",
   "id": "97b76ce9",
   "metadata": {},
   "source": [
    "#### Let's check Impact of features on Monthly charges ####"
   ]
  },
  {
   "cell_type": "code",
   "execution_count": null,
   "id": "eeb6757c",
   "metadata": {},
   "outputs": [],
   "source": []
  },
  {
   "cell_type": "code",
   "execution_count": null,
   "id": "a3f9628d",
   "metadata": {},
   "outputs": [],
   "source": []
  },
  {
   "cell_type": "code",
   "execution_count": null,
   "id": "89aae520",
   "metadata": {},
   "outputs": [],
   "source": []
  },
  {
   "cell_type": "code",
   "execution_count": null,
   "id": "d21f64d7",
   "metadata": {},
   "outputs": [],
   "source": []
  },
  {
   "cell_type": "code",
   "execution_count": null,
   "id": "27075207",
   "metadata": {},
   "outputs": [],
   "source": []
  },
  {
   "cell_type": "code",
   "execution_count": null,
   "id": "4c328640",
   "metadata": {},
   "outputs": [],
   "source": []
  },
  {
   "cell_type": "code",
   "execution_count": null,
   "id": "155add32",
   "metadata": {},
   "outputs": [],
   "source": []
  },
  {
   "cell_type": "code",
   "execution_count": null,
   "id": "7b1e6348",
   "metadata": {},
   "outputs": [],
   "source": []
  },
  {
   "cell_type": "code",
   "execution_count": null,
   "id": "aed4b002",
   "metadata": {},
   "outputs": [],
   "source": []
  },
  {
   "cell_type": "code",
   "execution_count": null,
   "id": "28589451",
   "metadata": {},
   "outputs": [],
   "source": []
  },
  {
   "cell_type": "code",
   "execution_count": null,
   "id": "6a389031",
   "metadata": {},
   "outputs": [],
   "source": []
  },
  {
   "cell_type": "code",
   "execution_count": null,
   "id": "b998d9e5",
   "metadata": {},
   "outputs": [],
   "source": []
  },
  {
   "cell_type": "code",
   "execution_count": null,
   "id": "1a7ded00",
   "metadata": {},
   "outputs": [],
   "source": []
  },
  {
   "cell_type": "code",
   "execution_count": null,
   "id": "66412bc2",
   "metadata": {},
   "outputs": [],
   "source": []
  },
  {
   "cell_type": "code",
   "execution_count": null,
   "id": "89e311d5",
   "metadata": {},
   "outputs": [],
   "source": []
  },
  {
   "cell_type": "code",
   "execution_count": null,
   "id": "b603870a",
   "metadata": {},
   "outputs": [],
   "source": []
  },
  {
   "cell_type": "code",
   "execution_count": null,
   "id": "7877f1fb",
   "metadata": {},
   "outputs": [],
   "source": []
  },
  {
   "cell_type": "code",
   "execution_count": null,
   "id": "c90d2644",
   "metadata": {},
   "outputs": [],
   "source": []
  }
 ],
 "metadata": {
  "kernelspec": {
   "display_name": "Python 3",
   "language": "python",
   "name": "python3"
  },
  "language_info": {
   "codemirror_mode": {
    "name": "ipython",
    "version": 3
   },
   "file_extension": ".py",
   "mimetype": "text/x-python",
   "name": "python",
   "nbconvert_exporter": "python",
   "pygments_lexer": "ipython3",
   "version": "3.7.12"
  }
 },
 "nbformat": 4,
 "nbformat_minor": 5
}
