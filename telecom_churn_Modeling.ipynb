{
 "cells": [
  {
   "cell_type": "code",
   "execution_count": 23,
   "id": "273f4a45",
   "metadata": {
    "scrolled": false
   },
   "outputs": [
    {
     "name": "stdout",
     "output_type": "stream",
     "text": [
      "Requirement already satisfied: imbalanced-learn in /opt/conda/lib/python3.7/site-packages (0.9.0)\n",
      "Requirement already satisfied: scipy>=1.1.0 in /opt/conda/lib/python3.7/site-packages (from imbalanced-learn) (1.7.3)\n",
      "Requirement already satisfied: threadpoolctl>=2.0.0 in /opt/conda/lib/python3.7/site-packages (from imbalanced-learn) (3.0.0)\n",
      "Requirement already satisfied: joblib>=0.11 in /opt/conda/lib/python3.7/site-packages (from imbalanced-learn) (1.1.0)\n",
      "Requirement already satisfied: numpy>=1.14.6 in /opt/conda/lib/python3.7/site-packages (from imbalanced-learn) (1.21.4)\n",
      "Requirement already satisfied: scikit-learn>=1.0.1 in /opt/conda/lib/python3.7/site-packages (from imbalanced-learn) (1.0.2)\n",
      "\u001b[33mWARNING: You are using pip version 19.3.1; however, version 21.3.1 is available.\n",
      "You should consider upgrading via the 'pip install --upgrade pip' command.\u001b[0m\n"
     ]
    }
   ],
   "source": [
    "!pip3 install imbalanced-learn"
   ]
  },
  {
   "cell_type": "code",
   "execution_count": 24,
   "id": "ca5d4fbf",
   "metadata": {},
   "outputs": [
    {
     "name": "stdout",
     "output_type": "stream",
     "text": [
      "Requirement already up-to-date: scikit-learn in /opt/conda/lib/python3.7/site-packages (1.0.2)\n",
      "Requirement already satisfied, skipping upgrade: joblib>=0.11 in /opt/conda/lib/python3.7/site-packages (from scikit-learn) (1.1.0)\n",
      "Requirement already satisfied, skipping upgrade: scipy>=1.1.0 in /opt/conda/lib/python3.7/site-packages (from scikit-learn) (1.7.3)\n",
      "Requirement already satisfied, skipping upgrade: threadpoolctl>=2.0.0 in /opt/conda/lib/python3.7/site-packages (from scikit-learn) (3.0.0)\n",
      "Requirement already satisfied, skipping upgrade: numpy>=1.14.6 in /opt/conda/lib/python3.7/site-packages (from scikit-learn) (1.21.4)\n",
      "\u001b[33mWARNING: You are using pip version 19.3.1; however, version 21.3.1 is available.\n",
      "You should consider upgrading via the 'pip install --upgrade pip' command.\u001b[0m\n"
     ]
    }
   ],
   "source": [
    "!pip install -U scikit-learn"
   ]
  },
  {
   "cell_type": "code",
   "execution_count": 25,
   "id": "0bed6fb8",
   "metadata": {},
   "outputs": [
    {
     "data": {
      "text/plain": [
       "'1.0.2'"
      ]
     },
     "execution_count": 25,
     "metadata": {},
     "output_type": "execute_result"
    }
   ],
   "source": [
    "import sklearn\n",
    "sklearn.__version__"
   ]
  },
  {
   "cell_type": "code",
   "execution_count": 26,
   "id": "d1df4801",
   "metadata": {},
   "outputs": [],
   "source": [
    "import warnings\n",
    "warnings.filterwarnings(\"ignore\")"
   ]
  },
  {
   "cell_type": "code",
   "execution_count": 27,
   "id": "9751dee8",
   "metadata": {},
   "outputs": [],
   "source": [
    "from connector.mosaicio import MosaicioConnector\n",
    "ioConnector = MosaicioConnector()"
   ]
  },
  {
   "cell_type": "code",
   "execution_count": 28,
   "id": "36891999",
   "metadata": {
    "scrolled": true
   },
   "outputs": [],
   "source": [
    "from imblearn.over_sampling import RandomOverSampler, SMOTE"
   ]
  },
  {
   "cell_type": "code",
   "execution_count": 29,
   "id": "d9e24ee6",
   "metadata": {},
   "outputs": [],
   "source": [
    "import numpy as np \n",
    "import pandas as pd\n",
    "import matplotlib.pyplot as plt\n",
    "from sklearn.model_selection import train_test_split\n",
    "from sklearn.model_selection import KFold, StratifiedKFold, RepeatedStratifiedKFold\n",
    "from sklearn.model_selection import cross_val_score, cross_val_predict\n",
    "from sklearn.model_selection import GridSearchCV, RandomizedSearchCV\n",
    "from sklearn.preprocessing import LabelEncoder\n",
    "from sklearn.preprocessing import StandardScaler\n",
    "from sklearn.preprocessing import MinMaxScaler\n",
    "from sklearn.preprocessing import RobustScaler"
   ]
  },
  {
   "cell_type": "code",
   "execution_count": 30,
   "id": "545fa0be",
   "metadata": {},
   "outputs": [],
   "source": [
    "from sklearn.tree import DecisionTreeClassifier\n",
    "from sklearn.neural_network import MLPClassifier\n",
    "from sklearn.neighbors import KNeighborsClassifier\n",
    "from sklearn.ensemble import ExtraTreesClassifier\n",
    "from sklearn.ensemble import GradientBoostingClassifier\n",
    "from sklearn.ensemble import RandomForestClassifier\n",
    "from sklearn.linear_model import LogisticRegression"
   ]
  },
  {
   "cell_type": "code",
   "execution_count": 31,
   "id": "736ba317",
   "metadata": {},
   "outputs": [],
   "source": [
    "from sklearn.metrics import confusion_matrix, classification_report\n",
    "from sklearn.metrics import accuracy_score, f1_score,recall_score, precision_score\n",
    "from sklearn.metrics import average_precision_score, roc_auc_score, roc_curve, auc"
   ]
  },
  {
   "cell_type": "code",
   "execution_count": 32,
   "id": "d7bc55a5",
   "metadata": {},
   "outputs": [],
   "source": [
    "df = pd.read_csv('telecom_churn_preprocess_data.csv')"
   ]
  },
  {
   "cell_type": "code",
   "execution_count": 33,
   "id": "578dfeb7",
   "metadata": {
    "scrolled": true
   },
   "outputs": [
    {
     "data": {
      "text/html": [
       "<div>\n",
       "<style scoped>\n",
       "    .dataframe tbody tr th:only-of-type {\n",
       "        vertical-align: middle;\n",
       "    }\n",
       "\n",
       "    .dataframe tbody tr th {\n",
       "        vertical-align: top;\n",
       "    }\n",
       "\n",
       "    .dataframe thead th {\n",
       "        text-align: right;\n",
       "    }\n",
       "</style>\n",
       "<table border=\"1\" class=\"dataframe\">\n",
       "  <thead>\n",
       "    <tr style=\"text-align: right;\">\n",
       "      <th></th>\n",
       "      <th>Unnamed: 0</th>\n",
       "      <th>gender</th>\n",
       "      <th>seniorcitizen</th>\n",
       "      <th>partner</th>\n",
       "      <th>dependents</th>\n",
       "      <th>tenure</th>\n",
       "      <th>phoneservice</th>\n",
       "      <th>multiplelines</th>\n",
       "      <th>internetservice</th>\n",
       "      <th>onlinesecurity</th>\n",
       "      <th>...</th>\n",
       "      <th>streamingmovies</th>\n",
       "      <th>paperlessbilling</th>\n",
       "      <th>monthlycharges</th>\n",
       "      <th>totalcharges</th>\n",
       "      <th>churn</th>\n",
       "      <th>contract_One year</th>\n",
       "      <th>contract_Two year</th>\n",
       "      <th>paymentmethod_Credit card (automatic)</th>\n",
       "      <th>paymentmethod_Electronic check</th>\n",
       "      <th>paymentmethod_Mailed check</th>\n",
       "    </tr>\n",
       "  </thead>\n",
       "  <tbody>\n",
       "    <tr>\n",
       "      <th>0</th>\n",
       "      <td>0</td>\n",
       "      <td>0</td>\n",
       "      <td>0</td>\n",
       "      <td>1</td>\n",
       "      <td>0</td>\n",
       "      <td>1</td>\n",
       "      <td>0</td>\n",
       "      <td>1</td>\n",
       "      <td>0</td>\n",
       "      <td>0</td>\n",
       "      <td>...</td>\n",
       "      <td>0</td>\n",
       "      <td>1</td>\n",
       "      <td>29.85</td>\n",
       "      <td>29</td>\n",
       "      <td>0</td>\n",
       "      <td>0</td>\n",
       "      <td>0</td>\n",
       "      <td>0</td>\n",
       "      <td>1</td>\n",
       "      <td>0</td>\n",
       "    </tr>\n",
       "    <tr>\n",
       "      <th>1</th>\n",
       "      <td>1</td>\n",
       "      <td>1</td>\n",
       "      <td>0</td>\n",
       "      <td>0</td>\n",
       "      <td>0</td>\n",
       "      <td>34</td>\n",
       "      <td>1</td>\n",
       "      <td>0</td>\n",
       "      <td>0</td>\n",
       "      <td>2</td>\n",
       "      <td>...</td>\n",
       "      <td>0</td>\n",
       "      <td>0</td>\n",
       "      <td>56.95</td>\n",
       "      <td>1889</td>\n",
       "      <td>0</td>\n",
       "      <td>1</td>\n",
       "      <td>0</td>\n",
       "      <td>0</td>\n",
       "      <td>0</td>\n",
       "      <td>1</td>\n",
       "    </tr>\n",
       "    <tr>\n",
       "      <th>2</th>\n",
       "      <td>2</td>\n",
       "      <td>1</td>\n",
       "      <td>0</td>\n",
       "      <td>0</td>\n",
       "      <td>0</td>\n",
       "      <td>2</td>\n",
       "      <td>1</td>\n",
       "      <td>0</td>\n",
       "      <td>0</td>\n",
       "      <td>2</td>\n",
       "      <td>...</td>\n",
       "      <td>0</td>\n",
       "      <td>1</td>\n",
       "      <td>53.85</td>\n",
       "      <td>108</td>\n",
       "      <td>1</td>\n",
       "      <td>0</td>\n",
       "      <td>0</td>\n",
       "      <td>0</td>\n",
       "      <td>0</td>\n",
       "      <td>1</td>\n",
       "    </tr>\n",
       "    <tr>\n",
       "      <th>3</th>\n",
       "      <td>3</td>\n",
       "      <td>1</td>\n",
       "      <td>0</td>\n",
       "      <td>0</td>\n",
       "      <td>0</td>\n",
       "      <td>45</td>\n",
       "      <td>0</td>\n",
       "      <td>1</td>\n",
       "      <td>0</td>\n",
       "      <td>2</td>\n",
       "      <td>...</td>\n",
       "      <td>0</td>\n",
       "      <td>0</td>\n",
       "      <td>42.30</td>\n",
       "      <td>1840</td>\n",
       "      <td>0</td>\n",
       "      <td>1</td>\n",
       "      <td>0</td>\n",
       "      <td>0</td>\n",
       "      <td>0</td>\n",
       "      <td>0</td>\n",
       "    </tr>\n",
       "    <tr>\n",
       "      <th>4</th>\n",
       "      <td>4</td>\n",
       "      <td>0</td>\n",
       "      <td>0</td>\n",
       "      <td>0</td>\n",
       "      <td>0</td>\n",
       "      <td>2</td>\n",
       "      <td>1</td>\n",
       "      <td>0</td>\n",
       "      <td>1</td>\n",
       "      <td>0</td>\n",
       "      <td>...</td>\n",
       "      <td>0</td>\n",
       "      <td>1</td>\n",
       "      <td>70.70</td>\n",
       "      <td>151</td>\n",
       "      <td>1</td>\n",
       "      <td>0</td>\n",
       "      <td>0</td>\n",
       "      <td>0</td>\n",
       "      <td>1</td>\n",
       "      <td>0</td>\n",
       "    </tr>\n",
       "  </tbody>\n",
       "</table>\n",
       "<p>5 rows × 24 columns</p>\n",
       "</div>"
      ],
      "text/plain": [
       "   Unnamed: 0  gender  seniorcitizen  partner  dependents  tenure  \\\n",
       "0           0       0              0        1           0       1   \n",
       "1           1       1              0        0           0      34   \n",
       "2           2       1              0        0           0       2   \n",
       "3           3       1              0        0           0      45   \n",
       "4           4       0              0        0           0       2   \n",
       "\n",
       "   phoneservice  multiplelines  internetservice  onlinesecurity  ...  \\\n",
       "0             0              1                0               0  ...   \n",
       "1             1              0                0               2  ...   \n",
       "2             1              0                0               2  ...   \n",
       "3             0              1                0               2  ...   \n",
       "4             1              0                1               0  ...   \n",
       "\n",
       "   streamingmovies  paperlessbilling  monthlycharges  totalcharges  churn  \\\n",
       "0                0                 1           29.85            29      0   \n",
       "1                0                 0           56.95          1889      0   \n",
       "2                0                 1           53.85           108      1   \n",
       "3                0                 0           42.30          1840      0   \n",
       "4                0                 1           70.70           151      1   \n",
       "\n",
       "   contract_One year  contract_Two year  \\\n",
       "0                  0                  0   \n",
       "1                  1                  0   \n",
       "2                  0                  0   \n",
       "3                  1                  0   \n",
       "4                  0                  0   \n",
       "\n",
       "   paymentmethod_Credit card (automatic)  paymentmethod_Electronic check  \\\n",
       "0                                      0                               1   \n",
       "1                                      0                               0   \n",
       "2                                      0                               0   \n",
       "3                                      0                               0   \n",
       "4                                      0                               1   \n",
       "\n",
       "   paymentmethod_Mailed check  \n",
       "0                           0  \n",
       "1                           1  \n",
       "2                           1  \n",
       "3                           0  \n",
       "4                           0  \n",
       "\n",
       "[5 rows x 24 columns]"
      ]
     },
     "execution_count": 33,
     "metadata": {},
     "output_type": "execute_result"
    }
   ],
   "source": [
    "df.head()"
   ]
  },
  {
   "cell_type": "code",
   "execution_count": 34,
   "id": "d68baf25",
   "metadata": {},
   "outputs": [],
   "source": [
    "df.drop('Unnamed: 0', axis=1, inplace=True)"
   ]
  },
  {
   "cell_type": "code",
   "execution_count": 35,
   "id": "d47dc419",
   "metadata": {},
   "outputs": [],
   "source": [
    "x = df.drop(\"churn\", axis = 1)\n",
    "y = df['churn']"
   ]
  },
  {
   "cell_type": "code",
   "execution_count": 36,
   "id": "6d2e2ade",
   "metadata": {},
   "outputs": [],
   "source": [
    "#We are deleting totalcharges due to high correlation with tenure column.\n",
    "x.drop('totalcharges', axis=1, inplace=True)"
   ]
  },
  {
   "cell_type": "code",
   "execution_count": 37,
   "id": "ad16bb94",
   "metadata": {
    "scrolled": true
   },
   "outputs": [
    {
     "name": "stdout",
     "output_type": "stream",
     "text": [
      "0    3614\n",
      "1    1300\n",
      "Name: churn, dtype: int64\n"
     ]
    }
   ],
   "source": [
    "x_train, x_test, y_train, y_test = train_test_split(x, y, random_state =100 ,stratify=y, test_size = 0.3)\n",
    "print(y_train.value_counts())"
   ]
  },
  {
   "cell_type": "code",
   "execution_count": 38,
   "id": "1b77f6a6",
   "metadata": {},
   "outputs": [],
   "source": [
    "scale = MinMaxScaler()\n",
    "col = x_train.columns\n",
    "\n",
    "x_train[col] = scale.fit_transform(x_train[col])\n",
    "x_test[col] = scale.transform(x_test[col])"
   ]
  },
  {
   "cell_type": "code",
   "execution_count": 39,
   "id": "c4e1ddcb",
   "metadata": {},
   "outputs": [],
   "source": [
    "#Fit basic model on imbalanced dataset\n",
    "DT = DecisionTreeClassifier(random_state=0)\n",
    "cross_val_DT = cross_val_score(DT, x_train, y_train , scoring = 'accuracy' ) \n",
    "cross_val_DT_f1 = cross_val_score(DT, x_train, y_train , scoring = 'f1') \n",
    "\n",
    "RF = RandomForestClassifier(random_state=0)\n",
    "cross_val_RF = cross_val_score(RF, x_train, y_train , scoring = 'accuracy' ) \n",
    "cross_val_RF_f1 = cross_val_score(RF, x_train, y_train , scoring = 'f1') \n",
    "\n",
    "ET = ExtraTreesClassifier(random_state=0)\n",
    "cross_val_ET = cross_val_score(ET, x_train, y_train , scoring = 'accuracy' ) \n",
    "cross_val_ET_f1 = cross_val_score(ET, x_train, y_train , scoring = 'f1') \n",
    "\n",
    "MLP = MLPClassifier(random_state=0)\n",
    "cross_val_MLP = cross_val_score(MLP, x_train, y_train , scoring = 'accuracy' ) \n",
    "cross_val_MLP_f1 = cross_val_score(MLP, x_train, y_train , scoring = 'f1') \n",
    "\n",
    "GB = GradientBoostingClassifier(random_state=0)\n",
    "cross_val_GB = cross_val_score(GB, x_train, y_train , scoring = 'accuracy' ) \n",
    "cross_val_GB_f1 = cross_val_score(GB, x_train, y_train , scoring = 'f1') \n",
    "\n",
    "LR = LogisticRegression(random_state=0)\n",
    "cross_val_LR = cross_val_score(LR, x_train, y_train , scoring = 'accuracy' ) \n",
    "cross_val_LR_f1 = cross_val_score(LR, x_train, y_train , scoring = 'f1') \n",
    "\n",
    "KNN = KNeighborsClassifier()\n",
    "cross_val_KNN = cross_val_score(KNN, x_train, y_train , scoring = 'accuracy' ) \n",
    "cross_val_KNN_f1 = cross_val_score(KNN, x_train, y_train , scoring = 'f1') "
   ]
  },
  {
   "cell_type": "code",
   "execution_count": 40,
   "id": "a8d083b7",
   "metadata": {},
   "outputs": [],
   "source": [
    "compare_models = [('Decision Tree', cross_val_DT.mean(),cross_val_DT_f1.mean()),\n",
    "                  ('Random Forest', cross_val_RF.mean(),cross_val_RF_f1.mean()),\n",
    "                  ('Neural Network', cross_val_MLP.mean(),cross_val_MLP_f1.mean()),\n",
    "                  ('Extra Tree', cross_val_ET.mean(),cross_val_ET_f1.mean()),\n",
    "                  ('GradientBoosting', cross_val_GB.mean(),cross_val_GB_f1.mean()),\n",
    "                  ('Logistic Regression', cross_val_LR.mean(),cross_val_LR_f1.mean()),\n",
    "                  ('KNN', cross_val_KNN.mean(), cross_val_KNN_f1.mean())]"
   ]
  },
  {
   "cell_type": "code",
   "execution_count": 41,
   "id": "c9eec379",
   "metadata": {
    "scrolled": true
   },
   "outputs": [
    {
     "data": {
      "text/html": [
       "<style  type=\"text/css\" >\n",
       "#T_25ad0704_7d93_11ec_95b6_26df9609311brow0_col1,#T_25ad0704_7d93_11ec_95b6_26df9609311brow0_col2{\n",
       "            background-color:  #ffffe5;\n",
       "            color:  #000000;\n",
       "        }#T_25ad0704_7d93_11ec_95b6_26df9609311brow1_col1{\n",
       "            background-color:  #238443;\n",
       "            color:  #000000;\n",
       "        }#T_25ad0704_7d93_11ec_95b6_26df9609311brow1_col2{\n",
       "            background-color:  #bee596;\n",
       "            color:  #000000;\n",
       "        }#T_25ad0704_7d93_11ec_95b6_26df9609311brow2_col1{\n",
       "            background-color:  #248644;\n",
       "            color:  #000000;\n",
       "        }#T_25ad0704_7d93_11ec_95b6_26df9609311brow2_col2{\n",
       "            background-color:  #4ab062;\n",
       "            color:  #000000;\n",
       "        }#T_25ad0704_7d93_11ec_95b6_26df9609311brow3_col1{\n",
       "            background-color:  #61bb6d;\n",
       "            color:  #000000;\n",
       "        }#T_25ad0704_7d93_11ec_95b6_26df9609311brow3_col2{\n",
       "            background-color:  #fafdcc;\n",
       "            color:  #000000;\n",
       "        }#T_25ad0704_7d93_11ec_95b6_26df9609311brow4_col1{\n",
       "            background-color:  #005730;\n",
       "            color:  #f1f1f1;\n",
       "        }#T_25ad0704_7d93_11ec_95b6_26df9609311brow4_col2{\n",
       "            background-color:  #1f8142;\n",
       "            color:  #f1f1f1;\n",
       "        }#T_25ad0704_7d93_11ec_95b6_26df9609311brow5_col1,#T_25ad0704_7d93_11ec_95b6_26df9609311brow5_col2{\n",
       "            background-color:  #004529;\n",
       "            color:  #f1f1f1;\n",
       "        }#T_25ad0704_7d93_11ec_95b6_26df9609311brow6_col1{\n",
       "            background-color:  #afde8f;\n",
       "            color:  #000000;\n",
       "        }#T_25ad0704_7d93_11ec_95b6_26df9609311brow6_col2{\n",
       "            background-color:  #e3f4aa;\n",
       "            color:  #000000;\n",
       "        }</style><table id=\"T_25ad0704_7d93_11ec_95b6_26df9609311b\" ><thead>    <tr>        <th class=\"blank level0\" ></th>        <th class=\"col_heading level0 col0\" >Model</th>        <th class=\"col_heading level0 col1\" >Cross_validation_mean(accuracy)</th>        <th class=\"col_heading level0 col2\" >Cross_validation_mean(f1_score)</th>    </tr></thead><tbody>\n",
       "                <tr>\n",
       "                        <th id=\"T_25ad0704_7d93_11ec_95b6_26df9609311blevel0_row0\" class=\"row_heading level0 row0\" >0</th>\n",
       "                        <td id=\"T_25ad0704_7d93_11ec_95b6_26df9609311brow0_col0\" class=\"data row0 col0\" >Decision Tree</td>\n",
       "                        <td id=\"T_25ad0704_7d93_11ec_95b6_26df9609311brow0_col1\" class=\"data row0 col1\" >0.727717</td>\n",
       "                        <td id=\"T_25ad0704_7d93_11ec_95b6_26df9609311brow0_col2\" class=\"data row0 col2\" >0.497823</td>\n",
       "            </tr>\n",
       "            <tr>\n",
       "                        <th id=\"T_25ad0704_7d93_11ec_95b6_26df9609311blevel0_row1\" class=\"row_heading level0 row1\" >1</th>\n",
       "                        <td id=\"T_25ad0704_7d93_11ec_95b6_26df9609311brow1_col0\" class=\"data row1 col0\" >Random Forest</td>\n",
       "                        <td id=\"T_25ad0704_7d93_11ec_95b6_26df9609311brow1_col1\" class=\"data row1 col1\" >0.782252</td>\n",
       "                        <td id=\"T_25ad0704_7d93_11ec_95b6_26df9609311brow1_col2\" class=\"data row1 col2\" >0.526075</td>\n",
       "            </tr>\n",
       "            <tr>\n",
       "                        <th id=\"T_25ad0704_7d93_11ec_95b6_26df9609311blevel0_row2\" class=\"row_heading level0 row2\" >2</th>\n",
       "                        <td id=\"T_25ad0704_7d93_11ec_95b6_26df9609311brow2_col0\" class=\"data row2 col0\" >Neural Network</td>\n",
       "                        <td id=\"T_25ad0704_7d93_11ec_95b6_26df9609311brow2_col1\" class=\"data row2 col1\" >0.782049</td>\n",
       "                        <td id=\"T_25ad0704_7d93_11ec_95b6_26df9609311brow2_col2\" class=\"data row2 col2\" >0.549861</td>\n",
       "            </tr>\n",
       "            <tr>\n",
       "                        <th id=\"T_25ad0704_7d93_11ec_95b6_26df9609311blevel0_row3\" class=\"row_heading level0 row3\" >3</th>\n",
       "                        <td id=\"T_25ad0704_7d93_11ec_95b6_26df9609311brow3_col0\" class=\"data row3 col0\" >Extra Tree</td>\n",
       "                        <td id=\"T_25ad0704_7d93_11ec_95b6_26df9609311brow3_col1\" class=\"data row3 col1\" >0.768008</td>\n",
       "                        <td id=\"T_25ad0704_7d93_11ec_95b6_26df9609311brow3_col2\" class=\"data row3 col2\" >0.504229</td>\n",
       "            </tr>\n",
       "            <tr>\n",
       "                        <th id=\"T_25ad0704_7d93_11ec_95b6_26df9609311blevel0_row4\" class=\"row_heading level0 row4\" >4</th>\n",
       "                        <td id=\"T_25ad0704_7d93_11ec_95b6_26df9609311brow4_col0\" class=\"data row4 col0\" >GradientBoosting</td>\n",
       "                        <td id=\"T_25ad0704_7d93_11ec_95b6_26df9609311brow4_col1\" class=\"data row4 col1\" >0.795886</td>\n",
       "                        <td id=\"T_25ad0704_7d93_11ec_95b6_26df9609311brow4_col2\" class=\"data row4 col2\" >0.563623</td>\n",
       "            </tr>\n",
       "            <tr>\n",
       "                        <th id=\"T_25ad0704_7d93_11ec_95b6_26df9609311blevel0_row5\" class=\"row_heading level0 row5\" >5</th>\n",
       "                        <td id=\"T_25ad0704_7d93_11ec_95b6_26df9609311brow5_col0\" class=\"data row5 col0\" >Logistic Regression</td>\n",
       "                        <td id=\"T_25ad0704_7d93_11ec_95b6_26df9609311brow5_col1\" class=\"data row5 col1\" >0.800569</td>\n",
       "                        <td id=\"T_25ad0704_7d93_11ec_95b6_26df9609311brow5_col2\" class=\"data row5 col2\" >0.584137</td>\n",
       "            </tr>\n",
       "            <tr>\n",
       "                        <th id=\"T_25ad0704_7d93_11ec_95b6_26df9609311blevel0_row6\" class=\"row_heading level0 row6\" >6</th>\n",
       "                        <td id=\"T_25ad0704_7d93_11ec_95b6_26df9609311brow6_col0\" class=\"data row6 col0\" >KNN</td>\n",
       "                        <td id=\"T_25ad0704_7d93_11ec_95b6_26df9609311brow6_col1\" class=\"data row6 col1\" >0.754578</td>\n",
       "                        <td id=\"T_25ad0704_7d93_11ec_95b6_26df9609311brow6_col2\" class=\"data row6 col2\" >0.515845</td>\n",
       "            </tr>\n",
       "    </tbody></table>"
      ],
      "text/plain": [
       "<pandas.io.formats.style.Styler at 0x7fdf80623610>"
      ]
     },
     "execution_count": 41,
     "metadata": {},
     "output_type": "execute_result"
    }
   ],
   "source": [
    "predict = pd.DataFrame(data = compare_models, \n",
    "                       columns=['Model','Cross_validation_mean(accuracy)', 'Cross_validation_mean(f1_score)'])\n",
    "predict.style.background_gradient(cmap='YlGn')"
   ]
  },
  {
   "cell_type": "code",
   "execution_count": 42,
   "id": "39bbc465",
   "metadata": {},
   "outputs": [],
   "source": [
    "#Random OverSample\n",
    "x_train_Sample = x_train.copy()\n",
    "y_train_Sample = y_train.copy()\n",
    "\n",
    "randOverSample = RandomOverSampler(random_state=100,)\n",
    "x_train_OverSample, y_train_OverSample = randOverSample.fit_resample(x_train_Sample, y_train_Sample.ravel())"
   ]
  },
  {
   "cell_type": "code",
   "execution_count": 43,
   "id": "35b80010",
   "metadata": {},
   "outputs": [],
   "source": [
    "#Fit basic model on OverSample dataset\n",
    "DT = DecisionTreeClassifier(random_state=0)\n",
    "cross_val_DT = cross_val_score(DT, x_train_OverSample, y_train_OverSample , scoring = 'accuracy' ) \n",
    "cross_val_DT_f1 = cross_val_score(DT, x_train_OverSample, y_train_OverSample , scoring = 'f1') \n",
    "\n",
    "RF = RandomForestClassifier(random_state=0)\n",
    "cross_val_RF = cross_val_score(RF, x_train_OverSample, y_train_OverSample , scoring = 'accuracy' ) \n",
    "cross_val_RF_f1 = cross_val_score(RF, x_train_OverSample, y_train_OverSample , scoring = 'f1') \n",
    "\n",
    "ET = ExtraTreesClassifier(random_state=0)\n",
    "cross_val_ET = cross_val_score(ET, x_train_OverSample, y_train_OverSample , scoring = 'accuracy' ) \n",
    "cross_val_ET_f1 = cross_val_score(ET, x_train_OverSample, y_train_OverSample , scoring = 'f1') \n",
    "\n",
    "MLP = MLPClassifier(random_state=0)\n",
    "cross_val_MLP = cross_val_score(MLP, x_train_OverSample, y_train_OverSample , scoring = 'accuracy' ) \n",
    "cross_val_MLP_f1 = cross_val_score(MLP, x_train_OverSample, y_train_OverSample , scoring = 'f1') \n",
    "\n",
    "GB = GradientBoostingClassifier(random_state=0)\n",
    "cross_val_GB = cross_val_score(GB, x_train_OverSample, y_train_OverSample , scoring = 'accuracy' ) \n",
    "cross_val_GB_f1 = cross_val_score(GB, x_train_OverSample, y_train_OverSample , scoring = 'f1') \n",
    "\n",
    "LR = LogisticRegression(random_state=0)\n",
    "cross_val_LR = cross_val_score(LR, x_train_OverSample, y_train_OverSample , scoring = 'accuracy' ) \n",
    "cross_val_LR_f1 = cross_val_score(LR, x_train_OverSample, y_train_OverSample , scoring = 'f1') \n",
    "\n",
    "KNN = KNeighborsClassifier()\n",
    "cross_val_KNN = cross_val_score(KNN, x_train_OverSample, y_train_OverSample , scoring = 'accuracy' ) \n",
    "cross_val_KNN_f1 = cross_val_score(KNN, x_train_OverSample, y_train_OverSample , scoring = 'f1') "
   ]
  },
  {
   "cell_type": "code",
   "execution_count": 44,
   "id": "fd5f4e38",
   "metadata": {},
   "outputs": [],
   "source": [
    "compare_models = [('Decision Tree', cross_val_DT.mean(),cross_val_DT_f1.mean()),\n",
    "                  ('Random Forest', cross_val_RF.mean(),cross_val_RF_f1.mean()),\n",
    "                  ('Neural Network', cross_val_MLP.mean(),cross_val_MLP_f1.mean()),\n",
    "                  ('Extra Tree', cross_val_ET.mean(),cross_val_ET_f1.mean()),\n",
    "                  ('GradientBoosting', cross_val_GB.mean(),cross_val_GB_f1.mean()),\n",
    "                  ('Logistic Regression', cross_val_LR.mean(),cross_val_LR_f1.mean()),\n",
    "                  ('KNN', cross_val_KNN.mean(), cross_val_KNN_f1.mean())]"
   ]
  },
  {
   "cell_type": "code",
   "execution_count": 45,
   "id": "05dfcd67",
   "metadata": {},
   "outputs": [
    {
     "data": {
      "text/html": [
       "<style  type=\"text/css\" >\n",
       "#T_5f9a7698_7d95_11ec_95b6_26df9609311brow0_col1{\n",
       "            background-color:  #1c7e40;\n",
       "            color:  #f1f1f1;\n",
       "        }#T_5f9a7698_7d95_11ec_95b6_26df9609311brow0_col2{\n",
       "            background-color:  #12763d;\n",
       "            color:  #f1f1f1;\n",
       "        }#T_5f9a7698_7d95_11ec_95b6_26df9609311brow1_col1{\n",
       "            background-color:  #005b32;\n",
       "            color:  #f1f1f1;\n",
       "        }#T_5f9a7698_7d95_11ec_95b6_26df9609311brow1_col2{\n",
       "            background-color:  #005530;\n",
       "            color:  #f1f1f1;\n",
       "        }#T_5f9a7698_7d95_11ec_95b6_26df9609311brow2_col1{\n",
       "            background-color:  #d9f0a3;\n",
       "            color:  #000000;\n",
       "        }#T_5f9a7698_7d95_11ec_95b6_26df9609311brow2_col2{\n",
       "            background-color:  #d2eda0;\n",
       "            color:  #000000;\n",
       "        }#T_5f9a7698_7d95_11ec_95b6_26df9609311brow3_col1,#T_5f9a7698_7d95_11ec_95b6_26df9609311brow3_col2{\n",
       "            background-color:  #004529;\n",
       "            color:  #f1f1f1;\n",
       "        }#T_5f9a7698_7d95_11ec_95b6_26df9609311brow4_col1{\n",
       "            background-color:  #edf8b1;\n",
       "            color:  #000000;\n",
       "        }#T_5f9a7698_7d95_11ec_95b6_26df9609311brow4_col2{\n",
       "            background-color:  #e7f6ad;\n",
       "            color:  #000000;\n",
       "        }#T_5f9a7698_7d95_11ec_95b6_26df9609311brow5_col1,#T_5f9a7698_7d95_11ec_95b6_26df9609311brow5_col2{\n",
       "            background-color:  #ffffe5;\n",
       "            color:  #000000;\n",
       "        }#T_5f9a7698_7d95_11ec_95b6_26df9609311brow6_col1{\n",
       "            background-color:  #feffdf;\n",
       "            color:  #000000;\n",
       "        }#T_5f9a7698_7d95_11ec_95b6_26df9609311brow6_col2{\n",
       "            background-color:  #f7fcbc;\n",
       "            color:  #000000;\n",
       "        }</style><table id=\"T_5f9a7698_7d95_11ec_95b6_26df9609311b\" ><thead>    <tr>        <th class=\"blank level0\" ></th>        <th class=\"col_heading level0 col0\" >Model</th>        <th class=\"col_heading level0 col1\" >Cross_validation_mean(accuracy)</th>        <th class=\"col_heading level0 col2\" >Cross_validation_mean(f1_score)</th>    </tr></thead><tbody>\n",
       "                <tr>\n",
       "                        <th id=\"T_5f9a7698_7d95_11ec_95b6_26df9609311blevel0_row0\" class=\"row_heading level0 row0\" >0</th>\n",
       "                        <td id=\"T_5f9a7698_7d95_11ec_95b6_26df9609311brow0_col0\" class=\"data row0 col0\" >Decision Tree</td>\n",
       "                        <td id=\"T_5f9a7698_7d95_11ec_95b6_26df9609311brow0_col1\" class=\"data row0 col1\" >0.876457</td>\n",
       "                        <td id=\"T_5f9a7698_7d95_11ec_95b6_26df9609311brow0_col2\" class=\"data row0 col2\" >0.885553</td>\n",
       "            </tr>\n",
       "            <tr>\n",
       "                        <th id=\"T_5f9a7698_7d95_11ec_95b6_26df9609311blevel0_row1\" class=\"row_heading level0 row1\" >1</th>\n",
       "                        <td id=\"T_5f9a7698_7d95_11ec_95b6_26df9609311brow1_col0\" class=\"data row1 col0\" >Random Forest</td>\n",
       "                        <td id=\"T_5f9a7698_7d95_11ec_95b6_26df9609311brow1_col1\" class=\"data row1 col1\" >0.897348</td>\n",
       "                        <td id=\"T_5f9a7698_7d95_11ec_95b6_26df9609311brow1_col2\" class=\"data row1 col2\" >0.903505</td>\n",
       "            </tr>\n",
       "            <tr>\n",
       "                        <th id=\"T_5f9a7698_7d95_11ec_95b6_26df9609311blevel0_row2\" class=\"row_heading level0 row2\" >2</th>\n",
       "                        <td id=\"T_5f9a7698_7d95_11ec_95b6_26df9609311brow2_col0\" class=\"data row2 col0\" >Neural Network</td>\n",
       "                        <td id=\"T_5f9a7698_7d95_11ec_95b6_26df9609311brow2_col1\" class=\"data row2 col1\" >0.801470</td>\n",
       "                        <td id=\"T_5f9a7698_7d95_11ec_95b6_26df9609311brow2_col2\" class=\"data row2 col2\" >0.811077</td>\n",
       "            </tr>\n",
       "            <tr>\n",
       "                        <th id=\"T_5f9a7698_7d95_11ec_95b6_26df9609311blevel0_row3\" class=\"row_heading level0 row3\" >3</th>\n",
       "                        <td id=\"T_5f9a7698_7d95_11ec_95b6_26df9609311brow3_col0\" class=\"data row3 col0\" >Extra Tree</td>\n",
       "                        <td id=\"T_5f9a7698_7d95_11ec_95b6_26df9609311brow3_col1\" class=\"data row3 col1\" >0.908833</td>\n",
       "                        <td id=\"T_5f9a7698_7d95_11ec_95b6_26df9609311brow3_col2\" class=\"data row3 col2\" >0.912098</td>\n",
       "            </tr>\n",
       "            <tr>\n",
       "                        <th id=\"T_5f9a7698_7d95_11ec_95b6_26df9609311blevel0_row4\" class=\"row_heading level0 row4\" >4</th>\n",
       "                        <td id=\"T_5f9a7698_7d95_11ec_95b6_26df9609311brow4_col0\" class=\"data row4 col0\" >GradientBoosting</td>\n",
       "                        <td id=\"T_5f9a7698_7d95_11ec_95b6_26df9609311brow4_col1\" class=\"data row4 col1\" >0.789708</td>\n",
       "                        <td id=\"T_5f9a7698_7d95_11ec_95b6_26df9609311brow4_col2\" class=\"data row4 col2\" >0.799952</td>\n",
       "            </tr>\n",
       "            <tr>\n",
       "                        <th id=\"T_5f9a7698_7d95_11ec_95b6_26df9609311blevel0_row5\" class=\"row_heading level0 row5\" >5</th>\n",
       "                        <td id=\"T_5f9a7698_7d95_11ec_95b6_26df9609311brow5_col0\" class=\"data row5 col0\" >Logistic Regression</td>\n",
       "                        <td id=\"T_5f9a7698_7d95_11ec_95b6_26df9609311brow5_col1\" class=\"data row5 col1\" >0.765634</td>\n",
       "                        <td id=\"T_5f9a7698_7d95_11ec_95b6_26df9609311brow5_col2\" class=\"data row5 col2\" >0.773285</td>\n",
       "            </tr>\n",
       "            <tr>\n",
       "                        <th id=\"T_5f9a7698_7d95_11ec_95b6_26df9609311blevel0_row6\" class=\"row_heading level0 row6\" >6</th>\n",
       "                        <td id=\"T_5f9a7698_7d95_11ec_95b6_26df9609311brow6_col0\" class=\"data row6 col0\" >KNN</td>\n",
       "                        <td id=\"T_5f9a7698_7d95_11ec_95b6_26df9609311brow6_col1\" class=\"data row6 col1\" >0.768126</td>\n",
       "                        <td id=\"T_5f9a7698_7d95_11ec_95b6_26df9609311brow6_col2\" class=\"data row6 col2\" >0.789600</td>\n",
       "            </tr>\n",
       "    </tbody></table>"
      ],
      "text/plain": [
       "<pandas.io.formats.style.Styler at 0x7fdfc3d5ba10>"
      ]
     },
     "execution_count": 45,
     "metadata": {},
     "output_type": "execute_result"
    }
   ],
   "source": [
    "predict = pd.DataFrame(data = compare_models, \n",
    "                       columns=['Model','Cross_validation_mean(accuracy)', 'Cross_validation_mean(f1_score)'])\n",
    "predict.style.background_gradient(cmap='YlGn')"
   ]
  },
  {
   "cell_type": "code",
   "execution_count": 46,
   "id": "5d426692",
   "metadata": {},
   "outputs": [],
   "source": [
    "#SMOTE\n",
    "x_train_sample = x_train.copy()\n",
    "y_train_sample = y_train.copy()\n",
    "\n",
    "sm = SMOTE(random_state=100)\n",
    "x_train_smote, y_train_smote = sm.fit_resample(x_train_sample, y_train_sample.ravel())"
   ]
  },
  {
   "cell_type": "code",
   "execution_count": 47,
   "id": "d798a852",
   "metadata": {},
   "outputs": [],
   "source": [
    "#Fit basic model on OverSample dataset\n",
    "DT = DecisionTreeClassifier(random_state=0)\n",
    "cross_val_DT = cross_val_score(DT, x_train_smote, y_train_smote , scoring = 'accuracy' ) \n",
    "cross_val_DT_f1 = cross_val_score(DT, x_train_smote, y_train_smote , scoring = 'f1') \n",
    "\n",
    "RF = RandomForestClassifier(random_state=0)\n",
    "cross_val_RF = cross_val_score(RF, x_train_smote, y_train_smote , scoring = 'accuracy' ) \n",
    "cross_val_RF_f1 = cross_val_score(RF, x_train_smote, y_train_smote , scoring = 'f1') \n",
    "\n",
    "ET = ExtraTreesClassifier(random_state=0)\n",
    "cross_val_ET = cross_val_score(ET, x_train_smote, y_train_smote , scoring = 'accuracy' ) \n",
    "cross_val_ET_f1 = cross_val_score(ET, x_train_smote, y_train_smote , scoring = 'f1') \n",
    "\n",
    "MLP = MLPClassifier(random_state=0)\n",
    "cross_val_MLP = cross_val_score(MLP, x_train_smote, y_train_smote , scoring = 'accuracy' ) \n",
    "cross_val_MLP_f1 = cross_val_score(MLP, x_train_smote, y_train_smote , scoring = 'f1') \n",
    "\n",
    "GB = GradientBoostingClassifier(random_state=0)\n",
    "cross_val_GB = cross_val_score(GB, x_train_smote, y_train_smote , scoring = 'accuracy' ) \n",
    "cross_val_GB_f1 = cross_val_score(GB, x_train_smote, y_train_smote , scoring = 'f1') \n",
    "\n",
    "LR = LogisticRegression(random_state=0)\n",
    "cross_val_LR = cross_val_score(LR, x_train_smote, y_train_smote , scoring = 'accuracy' ) \n",
    "cross_val_LR_f1 = cross_val_score(LR, x_train_smote, y_train_smote , scoring = 'f1') \n",
    "\n",
    "KNN = KNeighborsClassifier()\n",
    "cross_val_KNN = cross_val_score(KNN, x_train_smote, y_train_smote , scoring = 'accuracy' ) \n",
    "cross_val_KNN_f1 = cross_val_score(KNN, x_train_smote, y_train_smote , scoring = 'f1') "
   ]
  },
  {
   "cell_type": "code",
   "execution_count": 48,
   "id": "70fc058b",
   "metadata": {},
   "outputs": [],
   "source": [
    "compare_models = [('Decision Tree', cross_val_DT.mean(),cross_val_DT_f1.mean()),\n",
    "                  ('Random Forest', cross_val_RF.mean(),cross_val_RF_f1.mean()),\n",
    "                  ('Neural Network', cross_val_MLP.mean(),cross_val_MLP_f1.mean()),\n",
    "                  ('Extra Tree', cross_val_ET.mean(),cross_val_ET_f1.mean()),\n",
    "                  ('GradientBoosting', cross_val_GB.mean(),cross_val_GB_f1.mean()),\n",
    "                  ('Logistic Regression', cross_val_LR.mean(),cross_val_LR_f1.mean()),\n",
    "                  ('KNN', cross_val_KNN.mean(), cross_val_KNN_f1.mean())]"
   ]
  },
  {
   "cell_type": "code",
   "execution_count": 49,
   "id": "8ff2d256",
   "metadata": {},
   "outputs": [
    {
     "data": {
      "text/html": [
       "<style  type=\"text/css\" >\n",
       "#T_95a6300e_7d97_11ec_95b6_26df9609311brow0_col1{\n",
       "            background-color:  #f0f9b4;\n",
       "            color:  #000000;\n",
       "        }#T_95a6300e_7d97_11ec_95b6_26df9609311brow0_col2{\n",
       "            background-color:  #fcfed7;\n",
       "            color:  #000000;\n",
       "        }#T_95a6300e_7d97_11ec_95b6_26df9609311brow1_col1{\n",
       "            background-color:  #036b38;\n",
       "            color:  #f1f1f1;\n",
       "        }#T_95a6300e_7d97_11ec_95b6_26df9609311brow1_col2{\n",
       "            background-color:  #13773d;\n",
       "            color:  #f1f1f1;\n",
       "        }#T_95a6300e_7d97_11ec_95b6_26df9609311brow2_col1{\n",
       "            background-color:  #b6e192;\n",
       "            color:  #000000;\n",
       "        }#T_95a6300e_7d97_11ec_95b6_26df9609311brow2_col2{\n",
       "            background-color:  #a1d889;\n",
       "            color:  #000000;\n",
       "        }#T_95a6300e_7d97_11ec_95b6_26df9609311brow3_col1,#T_95a6300e_7d97_11ec_95b6_26df9609311brow3_col2{\n",
       "            background-color:  #004529;\n",
       "            color:  #f1f1f1;\n",
       "        }#T_95a6300e_7d97_11ec_95b6_26df9609311brow4_col1{\n",
       "            background-color:  #379e54;\n",
       "            color:  #000000;\n",
       "        }#T_95a6300e_7d97_11ec_95b6_26df9609311brow4_col2{\n",
       "            background-color:  #42ab5d;\n",
       "            color:  #000000;\n",
       "        }#T_95a6300e_7d97_11ec_95b6_26df9609311brow5_col1,#T_95a6300e_7d97_11ec_95b6_26df9609311brow5_col2{\n",
       "            background-color:  #ffffe5;\n",
       "            color:  #000000;\n",
       "        }#T_95a6300e_7d97_11ec_95b6_26df9609311brow6_col1{\n",
       "            background-color:  #d7efa2;\n",
       "            color:  #000000;\n",
       "        }#T_95a6300e_7d97_11ec_95b6_26df9609311brow6_col2{\n",
       "            background-color:  #7fc97c;\n",
       "            color:  #000000;\n",
       "        }</style><table id=\"T_95a6300e_7d97_11ec_95b6_26df9609311b\" ><thead>    <tr>        <th class=\"blank level0\" ></th>        <th class=\"col_heading level0 col0\" >Model</th>        <th class=\"col_heading level0 col1\" >Cross_validation_mean(accuracy)</th>        <th class=\"col_heading level0 col2\" >Cross_validation_mean(f1_score)</th>    </tr></thead><tbody>\n",
       "                <tr>\n",
       "                        <th id=\"T_95a6300e_7d97_11ec_95b6_26df9609311blevel0_row0\" class=\"row_heading level0 row0\" >0</th>\n",
       "                        <td id=\"T_95a6300e_7d97_11ec_95b6_26df9609311brow0_col0\" class=\"data row0 col0\" >Decision Tree</td>\n",
       "                        <td id=\"T_95a6300e_7d97_11ec_95b6_26df9609311brow0_col1\" class=\"data row0 col1\" >0.784046</td>\n",
       "                        <td id=\"T_95a6300e_7d97_11ec_95b6_26df9609311brow0_col2\" class=\"data row0 col2\" >0.779200</td>\n",
       "            </tr>\n",
       "            <tr>\n",
       "                        <th id=\"T_95a6300e_7d97_11ec_95b6_26df9609311blevel0_row1\" class=\"row_heading level0 row1\" >1</th>\n",
       "                        <td id=\"T_95a6300e_7d97_11ec_95b6_26df9609311brow1_col0\" class=\"data row1 col0\" >Random Forest</td>\n",
       "                        <td id=\"T_95a6300e_7d97_11ec_95b6_26df9609311brow1_col1\" class=\"data row1 col1\" >0.849489</td>\n",
       "                        <td id=\"T_95a6300e_7d97_11ec_95b6_26df9609311brow1_col2\" class=\"data row1 col2\" >0.844524</td>\n",
       "            </tr>\n",
       "            <tr>\n",
       "                        <th id=\"T_95a6300e_7d97_11ec_95b6_26df9609311blevel0_row2\" class=\"row_heading level0 row2\" >2</th>\n",
       "                        <td id=\"T_95a6300e_7d97_11ec_95b6_26df9609311brow2_col0\" class=\"data row2 col0\" >Neural Network</td>\n",
       "                        <td id=\"T_95a6300e_7d97_11ec_95b6_26df9609311brow2_col1\" class=\"data row2 col1\" >0.802306</td>\n",
       "                        <td id=\"T_95a6300e_7d97_11ec_95b6_26df9609311brow2_col2\" class=\"data row2 col2\" >0.810176</td>\n",
       "            </tr>\n",
       "            <tr>\n",
       "                        <th id=\"T_95a6300e_7d97_11ec_95b6_26df9609311blevel0_row3\" class=\"row_heading level0 row3\" >3</th>\n",
       "                        <td id=\"T_95a6300e_7d97_11ec_95b6_26df9609311brow3_col0\" class=\"data row3 col0\" >Extra Tree</td>\n",
       "                        <td id=\"T_95a6300e_7d97_11ec_95b6_26df9609311brow3_col1\" class=\"data row3 col1\" >0.862491</td>\n",
       "                        <td id=\"T_95a6300e_7d97_11ec_95b6_26df9609311brow3_col2\" class=\"data row3 col2\" >0.860843</td>\n",
       "            </tr>\n",
       "            <tr>\n",
       "                        <th id=\"T_95a6300e_7d97_11ec_95b6_26df9609311blevel0_row4\" class=\"row_heading level0 row4\" >4</th>\n",
       "                        <td id=\"T_95a6300e_7d97_11ec_95b6_26df9609311brow4_col0\" class=\"data row4 col0\" >GradientBoosting</td>\n",
       "                        <td id=\"T_95a6300e_7d97_11ec_95b6_26df9609311brow4_col1\" class=\"data row4 col1\" >0.831363</td>\n",
       "                        <td id=\"T_95a6300e_7d97_11ec_95b6_26df9609311brow4_col2\" class=\"data row4 col2\" >0.828888</td>\n",
       "            </tr>\n",
       "            <tr>\n",
       "                        <th id=\"T_95a6300e_7d97_11ec_95b6_26df9609311blevel0_row5\" class=\"row_heading level0 row5\" >5</th>\n",
       "                        <td id=\"T_95a6300e_7d97_11ec_95b6_26df9609311brow5_col0\" class=\"data row5 col0\" >Logistic Regression</td>\n",
       "                        <td id=\"T_95a6300e_7d97_11ec_95b6_26df9609311brow5_col1\" class=\"data row5 col1\" >0.769785</td>\n",
       "                        <td id=\"T_95a6300e_7d97_11ec_95b6_26df9609311brow5_col2\" class=\"data row5 col2\" >0.775794</td>\n",
       "            </tr>\n",
       "            <tr>\n",
       "                        <th id=\"T_95a6300e_7d97_11ec_95b6_26df9609311blevel0_row6\" class=\"row_heading level0 row6\" >6</th>\n",
       "                        <td id=\"T_95a6300e_7d97_11ec_95b6_26df9609311brow6_col0\" class=\"data row6 col0\" >KNN</td>\n",
       "                        <td id=\"T_95a6300e_7d97_11ec_95b6_26df9609311brow6_col1\" class=\"data row6 col1\" >0.793584</td>\n",
       "                        <td id=\"T_95a6300e_7d97_11ec_95b6_26df9609311brow6_col2\" class=\"data row6 col2\" >0.816883</td>\n",
       "            </tr>\n",
       "    </tbody></table>"
      ],
      "text/plain": [
       "<pandas.io.formats.style.Styler at 0x7fdf807d1790>"
      ]
     },
     "execution_count": 49,
     "metadata": {},
     "output_type": "execute_result"
    }
   ],
   "source": [
    "predict = pd.DataFrame(data = compare_models, \n",
    "                       columns=['Model','Cross_validation_mean(accuracy)', 'Cross_validation_mean(f1_score)'])\n",
    "predict.style.background_gradient(cmap='YlGn')"
   ]
  },
  {
   "cell_type": "code",
   "execution_count": 50,
   "id": "68c965f9",
   "metadata": {},
   "outputs": [
    {
     "name": "stdout",
     "output_type": "stream",
     "text": [
      "Accuracy score:  0.7778832463217845\n",
      "------------------------------\n",
      "F1_score:  0.5690607734806631\n"
     ]
    }
   ],
   "source": [
    "#let's try out Random OverSampling technique on a RandomForest model.\n",
    "RF = RandomForestClassifier(random_state=0)\n",
    "RF.fit(x_train_OverSample,y_train_OverSample)\n",
    "y_pred = RF.predict(x_test)\n",
    "print (\"Accuracy score: \",accuracy_score(y_pred,y_test))\n",
    "print (\"------------------------------\")\n",
    "print (\"F1_score: \",f1_score(y_pred,y_test))"
   ]
  },
  {
   "cell_type": "code",
   "execution_count": 51,
   "id": "099cc0ca",
   "metadata": {},
   "outputs": [
    {
     "name": "stdout",
     "output_type": "stream",
     "text": [
      "Accuracy score:  0.770764119601329\n",
      "------------------------------\n",
      "F1_score:  0.5056294779938588\n"
     ]
    }
   ],
   "source": [
    "#let's try out Random OverSampling technique on a Extra tree classifier.\n",
    "ET = ExtraTreesClassifier(random_state=0)\n",
    "ET.fit(x_train_OverSample,y_train_OverSample)\n",
    "y_pred = ET.predict(x_test)\n",
    "print (\"Accuracy score: \",accuracy_score(y_pred,y_test))\n",
    "print (\"------------------------------\")\n",
    "print (\"F1_score: \",f1_score(y_pred,y_test))"
   ]
  },
  {
   "cell_type": "code",
   "execution_count": 52,
   "id": "19f26fe4",
   "metadata": {},
   "outputs": [
    {
     "name": "stdout",
     "output_type": "stream",
     "text": [
      "{'n_estimators': [200, 400, 600, 800, 1000, 1200, 1400, 1600, 1800, 2000], 'max_features': ['auto', 'sqrt'], 'max_depth': [10, 20, 30, 40, 50, 60, 70, 80, 90, 100, 110, None], 'min_samples_split': [2, 5, 10], 'min_samples_leaf': [1, 2, 4], 'bootstrap': [True, False]}\n"
     ]
    }
   ],
   "source": [
    "# Number of trees in random forest\n",
    "n_estimators = [int(x) for x in np.linspace(start = 200, stop = 2000, num = 10)]\n",
    "# Number of features to consider at every split\n",
    "max_features = ['auto', 'sqrt']\n",
    "# Maximum number of levels in tree\n",
    "max_depth = [int(x) for x in np.linspace(10, 110, num = 11)]\n",
    "max_depth.append(None)\n",
    "# Minimum number of samples required to split a node\n",
    "min_samples_split = [2, 5, 10]\n",
    "# Minimum number of samples required at each leaf node\n",
    "min_samples_leaf = [1, 2, 4]\n",
    "# Method of selecting samples for training each tree\n",
    "bootstrap = [True, False]\n",
    "# Create the random grid\n",
    "random_grid = {'n_estimators': n_estimators,\n",
    "               'max_features': max_features,\n",
    "               'max_depth': max_depth,\n",
    "               'min_samples_split': min_samples_split,\n",
    "               'min_samples_leaf': min_samples_leaf,\n",
    "               'bootstrap': bootstrap}\n",
    "print(random_grid)"
   ]
  },
  {
   "cell_type": "code",
   "execution_count": 53,
   "id": "33940054",
   "metadata": {},
   "outputs": [
    {
     "name": "stdout",
     "output_type": "stream",
     "text": [
      "Fitting 3 folds for each of 100 candidates, totalling 300 fits\n"
     ]
    },
    {
     "data": {
      "text/plain": [
       "RandomizedSearchCV(cv=3, estimator=RandomForestClassifier(), n_iter=100,\n",
       "                   n_jobs=-1,\n",
       "                   param_distributions={'bootstrap': [True, False],\n",
       "                                        'max_depth': [10, 20, 30, 40, 50, 60,\n",
       "                                                      70, 80, 90, 100, 110,\n",
       "                                                      None],\n",
       "                                        'max_features': ['auto', 'sqrt'],\n",
       "                                        'min_samples_leaf': [1, 2, 4],\n",
       "                                        'min_samples_split': [2, 5, 10],\n",
       "                                        'n_estimators': [200, 400, 600, 800,\n",
       "                                                         1000, 1200, 1400, 1600,\n",
       "                                                         1800, 2000]},\n",
       "                   random_state=42, verbose=2)"
      ]
     },
     "execution_count": 53,
     "metadata": {},
     "output_type": "execute_result"
    }
   ],
   "source": [
    "rf = RandomForestClassifier()\n",
    "rf_random = RandomizedSearchCV(estimator = rf, param_distributions = random_grid, n_iter = 100, cv = 3, verbose=2, random_state=42, n_jobs = -1)\n",
    "# Fit the random search model\n",
    "rf_random.fit(x_train_OverSample, y_train_OverSample)"
   ]
  },
  {
   "cell_type": "code",
   "execution_count": 54,
   "id": "d9daf235",
   "metadata": {},
   "outputs": [
    {
     "data": {
      "text/plain": [
       "\"\\n{'bootstrap': True,\\n 'max_depth': 70,\\n 'max_features': 'auto',\\n 'min_samples_leaf': 4,\\n 'min_samples_split': 10,\\n 'n_estimators': 400}\\n\""
      ]
     },
     "execution_count": 54,
     "metadata": {},
     "output_type": "execute_result"
    }
   ],
   "source": [
    "rf_random.best_params_\n",
    "'''\n",
    "{'bootstrap': True,\n",
    " 'max_depth': 70,\n",
    " 'max_features': 'auto',\n",
    " 'min_samples_leaf': 4,\n",
    " 'min_samples_split': 10,\n",
    " 'n_estimators': 400}\n",
    "''' "
   ]
  },
  {
   "cell_type": "code",
   "execution_count": 55,
   "id": "0132eb71",
   "metadata": {
    "scrolled": true
   },
   "outputs": [
    {
     "name": "stdout",
     "output_type": "stream",
     "text": [
      "Train Accuracy Score:  0.9039845047039292\n",
      "Test Accuracy Score:  0.7826293308020883\n"
     ]
    }
   ],
   "source": [
    "RFmodel = RandomForestClassifier(bootstrap=True,max_features='auto',min_samples_leaf=4,max_depth=70,\n",
    " min_samples_split=10,n_estimators=400, random_state = 42)\n",
    "RFmodel.fit(x_train_OverSample, y_train_OverSample)\n",
    "y_pred = RFmodel.predict(x_test)\n",
    "print (\"Train Accuracy Score: \",accuracy_score(y_train_OverSample, RFmodel.predict(x_train_OverSample)))\n",
    "print (\"Test Accuracy Score: \",accuracy_score(y_test, y_pred))"
   ]
  },
  {
   "cell_type": "code",
   "execution_count": 56,
   "id": "92378c3e",
   "metadata": {},
   "outputs": [
    {
     "data": {
      "text/plain": [
       "{0.006845587768294541: 'phoneservice',\n",
       " 0.010709052457002611: 'paymentmethod_Mailed check',\n",
       " 0.01308129733203918: 'paymentmethod_Credit card (automatic)',\n",
       " 0.015366613662735838: 'seniorcitizen',\n",
       " 0.016104012587213508: 'streamingtv',\n",
       " 0.01671156067427701: 'dependents',\n",
       " 0.018126991665260283: 'streamingmovies',\n",
       " 0.02034342041026894: 'partner',\n",
       " 0.020831020186254455: 'multiplelines',\n",
       " 0.020831383212880562: 'gender',\n",
       " 0.023410899922438208: 'deviceprotection',\n",
       " 0.024043708678844797: 'paperlessbilling',\n",
       " 0.03579181837542743: 'onlinebackup',\n",
       " 0.04084969012793005: 'contract_One year',\n",
       " 0.04500374969988083: 'internetservice',\n",
       " 0.0538979292355011: 'paymentmethod_Electronic check',\n",
       " 0.08036089374006489: 'techsupport',\n",
       " 0.0825023401860858: 'onlinesecurity',\n",
       " 0.08487697426794193: 'contract_Two year',\n",
       " 0.14341525754681636: 'monthlycharges',\n",
       " 0.22689579826284162: 'tenure'}"
      ]
     },
     "execution_count": 56,
     "metadata": {},
     "output_type": "execute_result"
    }
   ],
   "source": [
    "d = dict(zip(RFmodel.feature_importances_, x_train_OverSample.columns))\n",
    "dict(sorted(d.items()))"
   ]
  },
  {
   "cell_type": "code",
   "execution_count": 57,
   "id": "b1f9537f",
   "metadata": {},
   "outputs": [],
   "source": [
    "feature_selected = ['tenure','monthlycharges','contract_Two year','onlinesecurity','techsupport']"
   ]
  },
  {
   "cell_type": "code",
   "execution_count": 58,
   "id": "9eb75695",
   "metadata": {},
   "outputs": [
    {
     "name": "stdout",
     "output_type": "stream",
     "text": [
      "Train Accuracy Score:  0.8985888212506917\n",
      "Test Accuracy Score:  0.7532036070242051\n"
     ]
    }
   ],
   "source": [
    "RFmodel = RandomForestClassifier(bootstrap=True,max_features='auto',min_samples_leaf=4,max_depth=70,\n",
    " min_samples_split=10,n_estimators=400, random_state = 42)\n",
    "RFmodel.fit(x_train_OverSample[feature_selected], y_train_OverSample)\n",
    "y_pred = RFmodel.predict(x_test[feature_selected])\n",
    "print (\"Train Accuracy Score: \",accuracy_score(y_train_OverSample, RFmodel.predict(x_train_OverSample[feature_selected])))\n",
    "print (\"Test Accuracy Score: \",accuracy_score(y_test, y_pred))"
   ]
  },
  {
   "cell_type": "code",
   "execution_count": 59,
   "id": "4757eda1",
   "metadata": {},
   "outputs": [
    {
     "name": "stdout",
     "output_type": "stream",
     "text": [
      "Train Accuracy Score:  0.9010791366906474\n",
      "Test Accuracy Score:  0.7959183673469388\n"
     ]
    }
   ],
   "source": [
    "#Using Smote algorithm\n",
    "RFmodel = RandomForestClassifier(bootstrap=True,max_features='auto',min_samples_leaf=4,max_depth=70,\n",
    " min_samples_split=10,n_estimators=400, random_state = 42)\n",
    "RFmodel.fit(x_train_smote, y_train_smote)\n",
    "y_pred = RFmodel.predict(x_test)\n",
    "print (\"Train Accuracy Score: \",accuracy_score(y_train_smote, RFmodel.predict(x_train_smote)))\n",
    "print (\"Test Accuracy Score: \",accuracy_score(y_test, y_pred))"
   ]
  },
  {
   "cell_type": "code",
   "execution_count": 60,
   "id": "c77eaf28",
   "metadata": {
    "scrolled": false
   },
   "outputs": [
    {
     "name": "stdout",
     "output_type": "stream",
     "text": [
      "Train Accuracy Score:  0.8601272827891533\n",
      "Test Accuracy Score:  0.7698149027052682\n"
     ]
    }
   ],
   "source": [
    "RFmodel_1 = RandomForestClassifier(bootstrap=True,max_features='auto',min_samples_leaf=4,max_depth=70,\n",
    " min_samples_split=10,n_estimators=400, random_state = 42)\n",
    "RFmodel_1.fit(x_train_smote[feature_selected], y_train_smote)\n",
    "y_pred = RFmodel_1.predict(x_test[feature_selected])\n",
    "print (\"Train Accuracy Score: \",accuracy_score(y_train_smote, RFmodel_1.predict(x_train_smote[feature_selected])))\n",
    "print (\"Test Accuracy Score: \",accuracy_score(y_test, y_pred))"
   ]
  },
  {
   "cell_type": "code",
   "execution_count": 61,
   "id": "a97b8240",
   "metadata": {},
   "outputs": [
    {
     "name": "stdout",
     "output_type": "stream",
     "text": [
      "Collecting scikit-learn==0.20.3\n",
      "\u001b[?25l  Downloading https://files.pythonhosted.org/packages/aa/cc/a84e1748a2a70d0f3e081f56cefc634f3b57013b16faa6926d3a6f0598df/scikit_learn-0.20.3-cp37-cp37m-manylinux1_x86_64.whl (5.4MB)\n",
      "\u001b[K     |████████████████████████████████| 5.4MB 23.0MB/s eta 0:00:01\n",
      "\u001b[?25hRequirement already satisfied, skipping upgrade: numpy>=1.8.2 in /opt/conda/lib/python3.7/site-packages (from scikit-learn==0.20.3) (1.21.4)\n",
      "Requirement already satisfied, skipping upgrade: scipy>=0.13.3 in /opt/conda/lib/python3.7/site-packages (from scikit-learn==0.20.3) (1.7.3)\n",
      "\u001b[31mERROR: mosaic-connector-python 1.0.0 has requirement nltk==3.3, but you'll have nltk 3.5 which is incompatible.\u001b[0m\n",
      "\u001b[31mERROR: mosaic-connector-python 1.0.0 has requirement numpy==1.16.1, but you'll have numpy 1.21.4 which is incompatible.\u001b[0m\n",
      "\u001b[31mERROR: mosaic-connector-python 1.0.0 has requirement pandas==1.0.4, but you'll have pandas 1.1.4 which is incompatible.\u001b[0m\n",
      "\u001b[31mERROR: mosaic-connector-python 1.0.0 has requirement scikit-learn==0.24.2, but you'll have scikit-learn 0.20.3 which is incompatible.\u001b[0m\n",
      "\u001b[31mERROR: kyd 0.1.10 has requirement bokeh==2.3.3, but you'll have bokeh 2.1.1 which is incompatible.\u001b[0m\n",
      "\u001b[31mERROR: kyd 0.1.10 has requirement matplotlib==3.3.4, but you'll have matplotlib 3.1.1 which is incompatible.\u001b[0m\n",
      "\u001b[31mERROR: kyd 0.1.10 has requirement nltk==3.6.2, but you'll have nltk 3.5 which is incompatible.\u001b[0m\n",
      "\u001b[31mERROR: kyd 0.1.10 has requirement numpy==1.19.2, but you'll have numpy 1.21.4 which is incompatible.\u001b[0m\n",
      "\u001b[31mERROR: kyd 0.1.10 has requirement pandas==1.1.5, but you'll have pandas 1.1.4 which is incompatible.\u001b[0m\n",
      "\u001b[31mERROR: kyd 0.1.10 has requirement scikit-learn==0.24.2, but you'll have scikit-learn 0.20.3 which is incompatible.\u001b[0m\n",
      "\u001b[31mERROR: imbalanced-learn 0.9.0 has requirement scikit-learn>=1.0.1, but you'll have scikit-learn 0.20.3 which is incompatible.\u001b[0m\n",
      "Installing collected packages: scikit-learn\n",
      "  Found existing installation: scikit-learn 1.0.2\n",
      "    Uninstalling scikit-learn-1.0.2:\n",
      "      Successfully uninstalled scikit-learn-1.0.2\n",
      "Successfully installed scikit-learn-0.20.3\n",
      "\u001b[33mWARNING: You are using pip version 19.3.1; however, version 21.3.1 is available.\n",
      "You should consider upgrading via the 'pip install --upgrade pip' command.\u001b[0m\n"
     ]
    }
   ],
   "source": [
    "!pip install --upgrade scikit-learn==0.20.3"
   ]
  },
  {
   "cell_type": "code",
   "execution_count": 62,
   "id": "1c8fb19d",
   "metadata": {
    "scrolled": true
   },
   "outputs": [],
   "source": [
    "from mosaicml import *\n",
    "from mosaicml.constants import MLModelFlavours"
   ]
  },
  {
   "cell_type": "code",
   "execution_count": 63,
   "id": "80c3186f",
   "metadata": {},
   "outputs": [],
   "source": [
    "def model(algorithm,dtrain_X,dtrain_Y,dtest_X,dtest_Y,cols=None):\n",
    "\n",
    "    algorithm.fit(dtrain_X[cols],dtrain_Y)\n",
    "    predictions = algorithm.predict(dtest_X[cols])\n",
    "    print (algorithm)\n",
    "    \n",
    "    print (\"Accuracy score : \", accuracy_score(predictions,dtest_Y))\n",
    "    print (\"classification report :\\n\",classification_report(predictions,dtest_Y))\n",
    "    \n",
    "    fig = plt.figure(figsize=(10,8))\n",
    "    ax  = fig.add_subplot(111)\n",
    "    prediction_probabilities = algorithm.predict_proba(dtest_X[cols])[:,1]\n",
    "    fpr , tpr , thresholds   = roc_curve(dtest_Y,prediction_probabilities)\n",
    "    ax.plot(fpr,tpr,label   = [\"Area under curve : \",auc(fpr,tpr)],linewidth=2,linestyle=\"dotted\")\n",
    "    ax.plot([0,1],[0,1],linewidth=2,linestyle=\"dashed\")\n",
    "    plt.legend(loc=\"best\")\n",
    "    plt.title(\"ROC-CURVE & AREA UNDER CURVE\")\n",
    "    ax.set_facecolor(\"k\")\n",
    "    return predictions,prediction_probabilities,algorithm"
   ]
  },
  {
   "cell_type": "code",
   "execution_count": 64,
   "id": "22a5b1a3",
   "metadata": {},
   "outputs": [
    {
     "name": "stdout",
     "output_type": "stream",
     "text": [
      "RandomForestClassifier(max_depth=70, min_samples_leaf=4, min_samples_split=10,\n",
      "                       n_estimators=400, random_state=42)\n",
      "Accuracy score :  0.7959183673469388\n",
      "classification report :\n",
      "               precision    recall  f1-score   support\n",
      "\n",
      "           0       0.84      0.88      0.86      1472\n",
      "           1       0.68      0.60      0.64       635\n",
      "\n",
      "    accuracy                           0.80      2107\n",
      "   macro avg       0.76      0.74      0.75      2107\n",
      "weighted avg       0.79      0.80      0.79      2107\n",
      "\n"
     ]
    },
    {
     "data": {
      "image/png": "[encoded data removed]",
      "text/plain": [
       "<Figure size 720x576 with 1 Axes>"
      ]
     },
     "metadata": {
      "needs_background": "light"
     },
     "output_type": "display_data"
    }
   ],
   "source": [
    "RFmodel = RandomForestClassifier(bootstrap=True,max_features='auto',min_samples_leaf=4,max_depth=70,\n",
    " min_samples_split=10,n_estimators=400, random_state = 42)\n",
    "\n",
    "y_pred,y_prob,model_obj=model(RFmodel,x_train_smote,y_train_smote,x_test,y_test,x_train_smote.columns)"
   ]
  },
  {
   "cell_type": "code",
   "execution_count": 65,
   "id": "05792f9c",
   "metadata": {
    "scrolled": true
   },
   "outputs": [
    {
     "name": "stdout",
     "output_type": "stream",
     "text": [
      "{'input': {'type': 'pd.core.frame.DataFrame', 'items': {'type': 'object', 'properties': {'gender': {'type': 'number', 'format': 'double'}, 'seniorcitizen': {'type': 'number', 'format': 'double'}, 'partner': {'type': 'number', 'format': 'double'}, 'dependents': {'type': 'number', 'format': 'double'}, 'tenure': {'type': 'number', 'format': 'double'}, 'phoneservice': {'type': 'number', 'format': 'double'}, 'multiplelines': {'type': 'number', 'format': 'double'}, 'internetservice': {'type': 'number', 'format': 'double'}, 'onlinesecurity': {'type': 'number', 'format': 'double'}, 'onlinebackup': {'type': 'number', 'format': 'double'}, 'deviceprotection': {'type': 'number', 'format': 'double'}, 'techsupport': {'type': 'number', 'format': 'double'}, 'streamingtv': {'type': 'number', 'format': 'double'}, 'streamingmovies': {'type': 'number', 'format': 'double'}, 'paperlessbilling': {'type': 'number', 'format': 'double'}, 'monthlycharges': {'type': 'number', 'format': 'double'}, 'contract_One year': {'type': 'number', 'format': 'double'}, 'contract_Two year': {'type': 'number', 'format': 'double'}, 'paymentmethod_Credit card (automatic)': {'type': 'number', 'format': 'double'}, 'paymentmethod_Electronic check': {'type': 'number', 'format': 'double'}, 'paymentmethod_Mailed check': {'type': 'number', 'format': 'double'}}}, 'example': [{'gender': 0.0, 'seniorcitizen': 0.0, 'partner': 0.0, 'dependents': 0.0, 'tenure': 0.3055555555555555, 'phoneservice': 1.0, 'multiplelines': 0.0, 'internetservice': 1.0, 'onlinesecurity': 0.5, 'onlinebackup': 0.5, 'deviceprotection': 0.5, 'techsupport': 0.5, 'streamingtv': 0.5, 'streamingmovies': 0.5, 'paperlessbilling': 0.0, 'monthlycharges': 0.025870646766169153, 'contract_One year': 1.0, 'contract_Two year': 0.0, 'paymentmethod_Credit card (automatic)': 0.0, 'paymentmethod_Electronic check': 0.0, 'paymentmethod_Mailed check': 0.0}, {'gender': 0.0, 'seniorcitizen': 1.0, 'partner': 0.0, 'dependents': 0.0, 'tenure': 0.6388888888888888, 'phoneservice': 1.0, 'multiplelines': 1.0, 'internetservice': 0.0, 'onlinesecurity': 0.0, 'onlinebackup': 0.0, 'deviceprotection': 1.0, 'techsupport': 1.0, 'streamingtv': 0.0, 'streamingmovies': 1.0, 'paperlessbilling': 1.0, 'monthlycharges': 0.5059701492537313, 'contract_One year': 1.0, 'contract_Two year': 0.0, 'paymentmethod_Credit card (automatic)': 1.0, 'paymentmethod_Electronic check': 0.0, 'paymentmethod_Mailed check': 0.0}]}, 'output': {'type': 'array', 'items': {'type': 'object'}, 'example': [0]}}\n"
     ]
    }
   ],
   "source": [
    "@scoring_func\n",
    "def score(model, request):\n",
    "    payload = request.json[\"payload\"]\n",
    "    data = pd.DataFrame(eval(payload))\n",
    "    #data_list = payload\n",
    "    #data_array = numpy.asarray(data_list)\n",
    "    prediction = pd.Series(model.predict(data))\n",
    "    #prediction_proba = model.predict_proba(data_array)\n",
    "    return prediction.tolist()\n",
    "\n",
    "import requests\n",
    "req = requests.Request()\n",
    "#req.json = {\"payload\":train_X.head(1).to_numpy()}\n",
    "req.json = {\"payload\":x_train_smote.head(1).to_json()}\n",
    "\n",
    "sch = generate_schema(score,(model_obj, req),x_train_smote)\n",
    "print(sch)"
   ]
  },
  {
   "cell_type": "code",
   "execution_count": 67,
   "id": "0e440cc3",
   "metadata": {},
   "outputs": [
    {
     "ename": "AttributeError",
     "evalue": "'DataFrame' object has no attribute 'to_frame'",
     "output_type": "error",
     "traceback": [
      "\u001b[0;31m---------------------------------------------------------------------------\u001b[0m",
      "\u001b[0;31mAttributeError\u001b[0m                            Traceback (most recent call last)",
      "\u001b[0;32m<ipython-input-67-1098580f7e00>\u001b[0m in \u001b[0;36m<module>\u001b[0;34m\u001b[0m\n\u001b[0;32m----> 1\u001b[0;31m \u001b[0my_test\u001b[0m \u001b[0;34m=\u001b[0m  \u001b[0my_test\u001b[0m\u001b[0;34m.\u001b[0m\u001b[0mto_frame\u001b[0m\u001b[0;34m(\u001b[0m\u001b[0;34m)\u001b[0m\u001b[0;34m\u001b[0m\u001b[0;34m\u001b[0m\u001b[0m\n\u001b[0m",
      "\u001b[0;32m/opt/conda/lib/python3.7/site-packages/pandas/core/generic.py\u001b[0m in \u001b[0;36m__getattr__\u001b[0;34m(self, name)\u001b[0m\n\u001b[1;32m   5137\u001b[0m             \u001b[0;32mif\u001b[0m \u001b[0mself\u001b[0m\u001b[0;34m.\u001b[0m\u001b[0m_info_axis\u001b[0m\u001b[0;34m.\u001b[0m\u001b[0m_can_hold_identifiers_and_holds_name\u001b[0m\u001b[0;34m(\u001b[0m\u001b[0mname\u001b[0m\u001b[0;34m)\u001b[0m\u001b[0;34m:\u001b[0m\u001b[0;34m\u001b[0m\u001b[0;34m\u001b[0m\u001b[0m\n\u001b[1;32m   5138\u001b[0m                 \u001b[0;32mreturn\u001b[0m \u001b[0mself\u001b[0m\u001b[0;34m[\u001b[0m\u001b[0mname\u001b[0m\u001b[0;34m]\u001b[0m\u001b[0;34m\u001b[0m\u001b[0;34m\u001b[0m\u001b[0m\n\u001b[0;32m-> 5139\u001b[0;31m             \u001b[0;32mreturn\u001b[0m \u001b[0mobject\u001b[0m\u001b[0;34m.\u001b[0m\u001b[0m__getattribute__\u001b[0m\u001b[0;34m(\u001b[0m\u001b[0mself\u001b[0m\u001b[0;34m,\u001b[0m \u001b[0mname\u001b[0m\u001b[0;34m)\u001b[0m\u001b[0;34m\u001b[0m\u001b[0;34m\u001b[0m\u001b[0m\n\u001b[0m\u001b[1;32m   5140\u001b[0m \u001b[0;34m\u001b[0m\u001b[0m\n\u001b[1;32m   5141\u001b[0m     \u001b[0;32mdef\u001b[0m \u001b[0m__setattr__\u001b[0m\u001b[0;34m(\u001b[0m\u001b[0mself\u001b[0m\u001b[0;34m,\u001b[0m \u001b[0mname\u001b[0m\u001b[0;34m:\u001b[0m \u001b[0mstr\u001b[0m\u001b[0;34m,\u001b[0m \u001b[0mvalue\u001b[0m\u001b[0;34m)\u001b[0m \u001b[0;34m->\u001b[0m \u001b[0;32mNone\u001b[0m\u001b[0;34m:\u001b[0m\u001b[0;34m\u001b[0m\u001b[0;34m\u001b[0m\u001b[0m\n",
      "\u001b[0;31mAttributeError\u001b[0m: 'DataFrame' object has no attribute 'to_frame'"
     ]
    }
   ],
   "source": [
    "y_test =  y_test.to_frame()"
   ]
  },
  {
   "cell_type": "code",
   "execution_count": 69,
   "id": "69321d0c",
   "metadata": {},
   "outputs": [],
   "source": [
    "y_train_smote = pd.DataFrame(y_train_smote, columns=['churn'])"
   ]
  },
  {
   "cell_type": "code",
   "execution_count": 70,
   "id": "a9e85a55",
   "metadata": {},
   "outputs": [
    {
     "name": "stdout",
     "output_type": "stream",
     "text": [
      "Calculating build time metrics\n",
      "\n",
      "Progress: ██████████████████████████████████████████████████████████████████████ 100.0%\n"
     ]
    },
    {
     "name": "stderr",
     "output_type": "stream",
     "text": [
      "2022-01-25 04:44:31,304 - skater.core.explanations - WARNING - Progress bars slow down runs by 10-20%. For slightly \n",
      "faster runs, do progressbar=False\n",
      "2022-01-25 04:44:31,306 - skater.core.explanations - WARNING - Multiprocessing failed, going single process\n"
     ]
    },
    {
     "name": "stdout",
     "output_type": "stream",
     "text": [
      "[3/3] grid cells ████████████████████ Time elapsed: 0 seconds"
     ]
    },
    {
     "name": "stderr",
     "output_type": "stream",
     "text": [
      "2022-01-25 04:44:33,143 - skater.core.explanations - WARNING - Progress bars slow down runs by 10-20%. For slightly \n",
      "faster runs, do progressbar=False\n",
      "2022-01-25 04:44:33,145 - skater.core.explanations - WARNING - Multiprocessing failed, going single process\n"
     ]
    },
    {
     "name": "stdout",
     "output_type": "stream",
     "text": [
      "[2/2] grid cells ████████████████████ Time elapsed: 0 seconds"
     ]
    },
    {
     "name": "stderr",
     "output_type": "stream",
     "text": [
      "2022-01-25 04:44:34,911 - skater.core.explanations - WARNING - Progress bars slow down runs by 10-20%. For slightly \n",
      "faster runs, do progressbar=False\n",
      "2022-01-25 04:44:34,913 - skater.core.explanations - WARNING - Multiprocessing failed, going single process\n"
     ]
    },
    {
     "name": "stdout",
     "output_type": "stream",
     "text": [
      "[3/3] grid cells ████████████████████ Time elapsed: 0 seconds"
     ]
    },
    {
     "name": "stderr",
     "output_type": "stream",
     "text": [
      "2022-01-25 04:44:36,738 - skater.core.explanations - WARNING - Progress bars slow down runs by 10-20%. For slightly \n",
      "faster runs, do progressbar=False\n",
      "2022-01-25 04:44:36,740 - skater.core.explanations - WARNING - Multiprocessing failed, going single process\n"
     ]
    },
    {
     "name": "stdout",
     "output_type": "stream",
     "text": [
      "[2/2] grid cells ████████████████████ Time elapsed: 0 seconds"
     ]
    },
    {
     "name": "stderr",
     "output_type": "stream",
     "text": [
      "2022-01-25 04:44:38,481 - skater.core.explanations - WARNING - Progress bars slow down runs by 10-20%. For slightly \n",
      "faster runs, do progressbar=False\n",
      "2022-01-25 04:44:38,483 - skater.core.explanations - WARNING - Multiprocessing failed, going single process\n"
     ]
    },
    {
     "name": "stdout",
     "output_type": "stream",
     "text": [
      "[29/29] grid cells ████████████████████ Time elapsed: 4 seconds"
     ]
    },
    {
     "name": "stderr",
     "output_type": "stream",
     "text": [
      "2022-01-25 04:44:44,145 - skater.core.explanations - WARNING - Progress bars slow down runs by 10-20%. For slightly \n",
      "faster runs, do progressbar=False\n",
      "2022-01-25 04:44:44,147 - skater.core.explanations - WARNING - Multiprocessing failed, going single process\n"
     ]
    },
    {
     "name": "stdout",
     "output_type": "stream",
     "text": [
      "[2/2] grid cells ████████████████████ Time elapsed: 0 seconds"
     ]
    },
    {
     "name": "stderr",
     "output_type": "stream",
     "text": [
      "2022-01-25 04:44:45,900 - skater.core.explanations - WARNING - Progress bars slow down runs by 10-20%. For slightly \n",
      "faster runs, do progressbar=False\n",
      "2022-01-25 04:44:45,902 - skater.core.explanations - WARNING - Multiprocessing failed, going single process\n"
     ]
    },
    {
     "name": "stdout",
     "output_type": "stream",
     "text": [
      "[4/4] grid cells ████████████████████ Time elapsed: 0 seconds"
     ]
    },
    {
     "name": "stderr",
     "output_type": "stream",
     "text": [
      "2022-01-25 04:44:47,957 - skater.core.explanations - WARNING - Progress bars slow down runs by 10-20%. For slightly \n",
      "faster runs, do progressbar=False\n",
      "2022-01-25 04:44:47,959 - skater.core.explanations - WARNING - Multiprocessing failed, going single process\n"
     ]
    },
    {
     "name": "stdout",
     "output_type": "stream",
     "text": [
      "[5/5] grid cells ████████████████████ Time elapsed: 0 seconds"
     ]
    },
    {
     "name": "stderr",
     "output_type": "stream",
     "text": [
      "2022-01-25 04:44:50,112 - skater.core.explanations - WARNING - Progress bars slow down runs by 10-20%. For slightly \n",
      "faster runs, do progressbar=False\n",
      "2022-01-25 04:44:50,114 - skater.core.explanations - WARNING - Multiprocessing failed, going single process\n"
     ]
    },
    {
     "name": "stdout",
     "output_type": "stream",
     "text": [
      "[4/4] grid cells ████████████████████ Time elapsed: 0 seconds"
     ]
    },
    {
     "name": "stderr",
     "output_type": "stream",
     "text": [
      "2022-01-25 04:44:52,172 - skater.core.explanations - WARNING - Progress bars slow down runs by 10-20%. For slightly \n",
      "faster runs, do progressbar=False\n",
      "2022-01-25 04:44:52,174 - skater.core.explanations - WARNING - Multiprocessing failed, going single process\n"
     ]
    },
    {
     "name": "stdout",
     "output_type": "stream",
     "text": [
      "[4/4] grid cells ████████████████████ Time elapsed: 0 seconds"
     ]
    },
    {
     "name": "stderr",
     "output_type": "stream",
     "text": [
      "2022-01-25 04:44:54,234 - skater.core.explanations - WARNING - Progress bars slow down runs by 10-20%. For slightly \n",
      "faster runs, do progressbar=False\n",
      "2022-01-25 04:44:54,236 - skater.core.explanations - WARNING - Multiprocessing failed, going single process\n"
     ]
    },
    {
     "name": "stdout",
     "output_type": "stream",
     "text": [
      "[3/3] grid cells ████████████████████ Time elapsed: 0 seconds"
     ]
    },
    {
     "name": "stderr",
     "output_type": "stream",
     "text": [
      "2022-01-25 04:44:56,115 - skater.core.explanations - WARNING - Progress bars slow down runs by 10-20%. For slightly \n",
      "faster runs, do progressbar=False\n",
      "2022-01-25 04:44:56,117 - skater.core.explanations - WARNING - Multiprocessing failed, going single process\n"
     ]
    },
    {
     "name": "stdout",
     "output_type": "stream",
     "text": [
      "[4/4] grid cells ████████████████████ Time elapsed: 0 seconds"
     ]
    },
    {
     "name": "stderr",
     "output_type": "stream",
     "text": [
      "2022-01-25 04:44:58,193 - skater.core.explanations - WARNING - Progress bars slow down runs by 10-20%. For slightly \n",
      "faster runs, do progressbar=False\n",
      "2022-01-25 04:44:58,196 - skater.core.explanations - WARNING - Multiprocessing failed, going single process\n"
     ]
    },
    {
     "name": "stdout",
     "output_type": "stream",
     "text": [
      "[4/4] grid cells ████████████████████ Time elapsed: 0 seconds"
     ]
    },
    {
     "name": "stderr",
     "output_type": "stream",
     "text": [
      "2022-01-25 04:45:00,254 - skater.core.explanations - WARNING - Progress bars slow down runs by 10-20%. For slightly \n",
      "faster runs, do progressbar=False\n",
      "2022-01-25 04:45:00,256 - skater.core.explanations - WARNING - Multiprocessing failed, going single process\n"
     ]
    },
    {
     "name": "stdout",
     "output_type": "stream",
     "text": [
      "[4/4] grid cells ████████████████████ Time elapsed: 0 seconds"
     ]
    },
    {
     "name": "stderr",
     "output_type": "stream",
     "text": [
      "2022-01-25 04:45:02,295 - skater.core.explanations - WARNING - Progress bars slow down runs by 10-20%. For slightly \n",
      "faster runs, do progressbar=False\n",
      "2022-01-25 04:45:02,297 - skater.core.explanations - WARNING - Multiprocessing failed, going single process\n"
     ]
    },
    {
     "name": "stdout",
     "output_type": "stream",
     "text": [
      "[3/3] grid cells ████████████████████ Time elapsed: 0 seconds"
     ]
    },
    {
     "name": "stderr",
     "output_type": "stream",
     "text": [
      "2022-01-25 04:45:04,191 - skater.core.explanations - WARNING - Progress bars slow down runs by 10-20%. For slightly \n",
      "faster runs, do progressbar=False\n",
      "2022-01-25 04:45:04,193 - skater.core.explanations - WARNING - Multiprocessing failed, going single process\n"
     ]
    },
    {
     "name": "stdout",
     "output_type": "stream",
     "text": [
      "[30/30] grid cells ████████████████████ Time elapsed: 4 seconds"
     ]
    },
    {
     "name": "stderr",
     "output_type": "stream",
     "text": [
      "2022-01-25 04:45:10,161 - skater.core.explanations - WARNING - Progress bars slow down runs by 10-20%. For slightly \n",
      "faster runs, do progressbar=False\n",
      "2022-01-25 04:45:10,163 - skater.core.explanations - WARNING - Multiprocessing failed, going single process\n"
     ]
    },
    {
     "name": "stdout",
     "output_type": "stream",
     "text": [
      "[3/3] grid cells ████████████████████ Time elapsed: 0 seconds"
     ]
    },
    {
     "name": "stderr",
     "output_type": "stream",
     "text": [
      "2022-01-25 04:45:12,032 - skater.core.explanations - WARNING - Progress bars slow down runs by 10-20%. For slightly \n",
      "faster runs, do progressbar=False\n",
      "2022-01-25 04:45:12,034 - skater.core.explanations - WARNING - Multiprocessing failed, going single process\n"
     ]
    },
    {
     "name": "stdout",
     "output_type": "stream",
     "text": [
      "[2/2] grid cells ████████████████████ Time elapsed: 0 seconds"
     ]
    },
    {
     "name": "stderr",
     "output_type": "stream",
     "text": [
      "2022-01-25 04:45:13,803 - skater.core.explanations - WARNING - Progress bars slow down runs by 10-20%. For slightly \n",
      "faster runs, do progressbar=False\n",
      "2022-01-25 04:45:13,805 - skater.core.explanations - WARNING - Multiprocessing failed, going single process\n"
     ]
    },
    {
     "name": "stdout",
     "output_type": "stream",
     "text": [
      "[3/3] grid cells ████████████████████ Time elapsed: 0 seconds"
     ]
    },
    {
     "name": "stderr",
     "output_type": "stream",
     "text": [
      "2022-01-25 04:45:15,704 - skater.core.explanations - WARNING - Progress bars slow down runs by 10-20%. For slightly \n",
      "faster runs, do progressbar=False\n",
      "2022-01-25 04:45:15,706 - skater.core.explanations - WARNING - Multiprocessing failed, going single process\n"
     ]
    },
    {
     "name": "stdout",
     "output_type": "stream",
     "text": [
      "[3/3] grid cells ████████████████████ Time elapsed: 0 seconds"
     ]
    },
    {
     "name": "stderr",
     "output_type": "stream",
     "text": [
      "2022-01-25 04:45:17,592 - skater.core.explanations - WARNING - Progress bars slow down runs by 10-20%. For slightly \n",
      "faster runs, do progressbar=False\n",
      "2022-01-25 04:45:17,594 - skater.core.explanations - WARNING - Multiprocessing failed, going single process\n"
     ]
    },
    {
     "name": "stdout",
     "output_type": "stream",
     "text": [
      "[2/2] grid cells ████████████████████ Time elapsed: 0 seconds"
     ]
    },
    {
     "name": "stderr",
     "output_type": "stream",
     "text": [
      "2022-01-25 04:45:23,426 - skater.core.explanations - WARNING - Progress bars slow down runs by 10-20%. For slightly \n",
      "faster runs, do progress_bar=False\n",
      "2022-01-25 04:45:23,428 - skater.core.explanations - WARNING - Multiprocessing failed, going single process\n"
     ]
    },
    {
     "name": "stdout",
     "output_type": "stream",
     "text": [
      "[21/21] features ████████████████████ Time elapsed: 12 secondsSurrogate Explainer could not be generated for this model\n",
      "__init__() got an unexpected keyword argument 'presort'\n"
     ]
    },
    {
     "data": {
      "application/vnd.jupyter.widget-view+json": {
       "model_id": "ed70a9e463b54927887e6ab09f086849",
       "version_major": 2,
       "version_minor": 0
      },
      "text/plain": [
       "VBox(children=(HTML(value='<style>.grad_1{background: #2468a4;} .grad_2{ color:white; background: #2468a4;}</s…"
      ]
     },
     "metadata": {},
     "output_type": "display_data"
    },
    {
     "name": "stdout",
     "output_type": "stream",
     "text": [
      "Registering model\n"
     ]
    }
   ],
   "source": [
    "register_model(model_obj, \n",
    "               score, \n",
    "               name=\"Churn_prediction_model\", \n",
    "               description=\"Predicting churn in telecom industry\",\n",
    "               flavour=MLModelFlavours.sklearn,\n",
    "               model_type=\"classification\",\n",
    "               schema=sch,\n",
    "               y_true=y_test,\n",
    "               y_pred=y_pred, \n",
    "               prob=y_prob, \n",
    "               features=x_train_smote.columns,\n",
    "               labels=[0,1], \n",
    "               init_script=\"\" ,\n",
    "               input_type=\"json\", \n",
    "               explain_ai=True, \n",
    "               x_train=x_train_smote, \n",
    "               x_test=x_test, \n",
    "               y_train=y_train_smote['churn'].tolist(),\n",
    "               y_test=y_test['churn'].tolist(),\n",
    "               feature_names=x_train_smote.columns.tolist(),\n",
    "               original_features=x_train_smote.columns.tolist(),\n",
    "               feature_ids=x_train_smote.columns,\n",
    "               target_names=['No','Yes'])\n",
    "#kyd=True, kyd_score = True)\n",
    "print(\"Registering model\")"
   ]
  },
  {
   "cell_type": "code",
   "execution_count": 71,
   "id": "7481ca4a",
   "metadata": {},
   "outputs": [],
   "source": [
    "model_id = '5ab35d8a-3a6d-4ebb-85b1-1ed029da73f7'"
   ]
  },
  {
   "cell_type": "code",
   "execution_count": 73,
   "id": "4e0b98bb",
   "metadata": {},
   "outputs": [],
   "source": [
    "model_dict=describe_model(model_id)"
   ]
  },
  {
   "cell_type": "code",
   "execution_count": 74,
   "id": "ac0ab87b",
   "metadata": {},
   "outputs": [
    {
     "name": "stdout",
     "output_type": "stream",
     "text": [
      "RandomForestClassifier(max_depth=70, min_samples_leaf=4, min_samples_split=10,\n",
      "                       n_estimators=400, random_state=42)\n",
      "Accuracy score :  0.7959183673469388\n",
      "classification report :\n",
      "               precision    recall  f1-score   support\n",
      "\n",
      "           0       0.84      0.88      0.86      1472\n",
      "           1       0.68      0.60      0.64       635\n",
      "\n",
      "    accuracy                           0.80      2107\n",
      "   macro avg       0.76      0.74      0.75      2107\n",
      "weighted avg       0.79      0.80      0.79      2107\n",
      "\n"
     ]
    },
    {
     "data": {
      "image/png": "[encoded data removed]",
      "text/plain": [
       "<Figure size 720x576 with 1 Axes>"
      ]
     },
     "metadata": {
      "needs_background": "light"
     },
     "output_type": "display_data"
    }
   ],
   "source": [
    "RFmodel_1 = RandomForestClassifier(bootstrap=True,max_features='auto',min_samples_leaf=4,max_depth=70,\n",
    " min_samples_split=10,n_estimators=400, random_state = 42)\n",
    "\n",
    "y_pred,y_prob,model_obj=model(RFmodel_1,x_train_smote,y_train_smote,x_test,y_test,x_train_smote.columns)"
   ]
  },
  {
   "cell_type": "code",
   "execution_count": 77,
   "id": "6a1821a4",
   "metadata": {},
   "outputs": [
    {
     "ename": "TypeError",
     "evalue": "metrics_parameter_validation() takes 4 positional arguments but 6 were given",
     "output_type": "error",
     "traceback": [
      "\u001b[0;31m---------------------------------------------------------------------------\u001b[0m",
      "\u001b[0;31mTypeError\u001b[0m                                 Traceback (most recent call last)",
      "\u001b[0;32m<ipython-input-77-9e57fb9eebc9>\u001b[0m in \u001b[0;36m<module>\u001b[0;34m\u001b[0m\n\u001b[1;32m      4\u001b[0m                 \u001b[0moriginal_features\u001b[0m\u001b[0;34m=\u001b[0m\u001b[0mx_train_smote\u001b[0m\u001b[0;34m.\u001b[0m\u001b[0mcolumns\u001b[0m\u001b[0;34m,\u001b[0m \u001b[0mlabels\u001b[0m\u001b[0;34m=\u001b[0m\u001b[0;34m[\u001b[0m\u001b[0;36m0\u001b[0m\u001b[0;34m,\u001b[0m\u001b[0;36m1\u001b[0m\u001b[0;34m]\u001b[0m\u001b[0;34m,\u001b[0m\u001b[0;34m\u001b[0m\u001b[0;34m\u001b[0m\u001b[0m\n\u001b[1;32m      5\u001b[0m                 \u001b[0mmodel_type\u001b[0m\u001b[0;34m=\u001b[0m\u001b[0;34m\"classification\"\u001b[0m\u001b[0;34m,\u001b[0m\u001b[0;34m\u001b[0m\u001b[0;34m\u001b[0m\u001b[0m\n\u001b[0;32m----> 6\u001b[0;31m                 input_type=\"json\")\n\u001b[0m",
      "\u001b[0;32m/opt/conda/lib/python3.7/site-packages/mosaicml/api.py\u001b[0m in \u001b[0;36madd_version\u001b[0;34m(ml_model, ml_model_obj, scoring_func, flavour, init_script, schema, y_true, y_pred, prob, features, original_features, labels, model_type, datasource_name, metadata_info, input_type, target_names, x_train, y_train, x_test, y_test, feature_names, feature_ids, explain_ai)\u001b[0m\n\u001b[1;32m    618\u001b[0m     \u001b[0;32mif\u001b[0m \u001b[0mmodel_type\u001b[0m\u001b[0;34m:\u001b[0m\u001b[0;34m\u001b[0m\u001b[0;34m\u001b[0m\u001b[0m\n\u001b[1;32m    619\u001b[0m         metrics_parameter_validation(\n\u001b[0;32m--> 620\u001b[0;31m             \u001b[0mmodel_type\u001b[0m\u001b[0;34m,\u001b[0m \u001b[0my_true\u001b[0m\u001b[0;34m,\u001b[0m \u001b[0my_pred\u001b[0m\u001b[0;34m,\u001b[0m \u001b[0mprob\u001b[0m\u001b[0;34m,\u001b[0m \u001b[0mfeatures\u001b[0m\u001b[0;34m,\u001b[0m \u001b[0moriginal_features\u001b[0m\u001b[0;34m\u001b[0m\u001b[0;34m\u001b[0m\u001b[0m\n\u001b[0m\u001b[1;32m    621\u001b[0m         )\n\u001b[1;32m    622\u001b[0m     \u001b[0;31m# generate model artifacts\u001b[0m\u001b[0;34m\u001b[0m\u001b[0;34m\u001b[0m\u001b[0;34m\u001b[0m\u001b[0m\n",
      "\u001b[0;31mTypeError\u001b[0m: metrics_parameter_validation() takes 4 positional arguments but 6 were given"
     ]
    }
   ],
   "source": [
    "add_version(model_dict,model_obj, score, \n",
    "                MLModelFlavours.sklearn, \"\" ,schema=sch,\n",
    "                y_true=y_test, y_pred=y_pred, prob=y_prob, features=x_train_smote.columns, \n",
    "                original_features=x_train_smote.columns, labels=[0,1], \n",
    "                model_type=\"classification\", \n",
    "                input_type=\"json\")"
   ]
  },
  {
   "cell_type": "code",
   "execution_count": null,
   "id": "74756d68",
   "metadata": {},
   "outputs": [],
   "source": []
  }
 ],
 "metadata": {
  "kernelspec": {
   "display_name": "Python 3",
   "language": "python",
   "name": "python3"
  },
  "language_info": {
   "codemirror_mode": {
    "name": "ipython",
    "version": 3
   },
   "file_extension": ".py",
   "mimetype": "text/x-python",
   "name": "python",
   "nbconvert_exporter": "python",
   "pygments_lexer": "ipython3",
   "version": "3.7.12"
  }
 },
 "nbformat": 4,
 "nbformat_minor": 5
}
