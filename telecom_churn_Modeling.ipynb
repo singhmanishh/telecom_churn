{
 "cells": [
  {
   "cell_type": "code",
   "execution_count": 1,
   "id": "f3680449",
   "metadata": {},
   "outputs": [
    {
     "name": "stdout",
     "output_type": "stream",
     "text": [
      "Requirement already satisfied: imbalanced-learn in /opt/conda/lib/python3.7/site-packages (0.9.0)\n",
      "Requirement already satisfied: threadpoolctl>=2.0.0 in /opt/conda/lib/python3.7/site-packages (from imbalanced-learn) (3.0.0)\n",
      "Requirement already satisfied: numpy>=1.14.6 in /opt/conda/lib/python3.7/site-packages (from imbalanced-learn) (1.21.4)\n",
      "Requirement already satisfied: scipy>=1.1.0 in /opt/conda/lib/python3.7/site-packages (from imbalanced-learn) (1.7.3)\n",
      "Requirement already satisfied: scikit-learn>=1.0.1 in /opt/conda/lib/python3.7/site-packages (from imbalanced-learn) (1.0.2)\n",
      "Requirement already satisfied: joblib>=0.11 in /opt/conda/lib/python3.7/site-packages (from imbalanced-learn) (1.1.0)\n",
      "\u001b[33mWARNING: You are using pip version 19.3.1; however, version 21.3.1 is available.\n",
      "You should consider upgrading via the 'pip install --upgrade pip' command.\u001b[0m\n"
     ]
    }
   ],
   "source": [
    "!pip3 install imbalanced-learn"
   ]
  },
  {
   "cell_type": "code",
   "execution_count": 2,
   "id": "5bf1d2dd",
   "metadata": {},
   "outputs": [],
   "source": [
    "import warnings\n",
    "warnings.filterwarnings(\"ignore\")"
   ]
  },
  {
   "cell_type": "code",
   "execution_count": 20,
   "id": "a497705c",
   "metadata": {
    "scrolled": true
   },
   "outputs": [],
   "source": [
    "from imblearn.over_sampling import RandomOverSampler, SMOTE"
   ]
  },
  {
   "cell_type": "code",
   "execution_count": 4,
   "id": "c606a170",
   "metadata": {},
   "outputs": [],
   "source": [
    "import numpy as np \n",
    "import pandas as pd\n",
    "from sklearn.model_selection import train_test_split\n",
    "from sklearn.model_selection import KFold, StratifiedKFold, RepeatedStratifiedKFold\n",
    "from sklearn.model_selection import cross_val_score, cross_val_predict\n",
    "from sklearn.model_selection import GridSearchCV, RandomizedSearchCV\n",
    "from sklearn.preprocessing import LabelEncoder\n",
    "from sklearn.preprocessing import StandardScaler\n",
    "from sklearn.preprocessing import MinMaxScaler\n",
    "from sklearn.preprocessing import RobustScaler"
   ]
  },
  {
   "cell_type": "code",
   "execution_count": 5,
   "id": "6c3d0312",
   "metadata": {},
   "outputs": [],
   "source": [
    "from sklearn.tree import DecisionTreeClassifier\n",
    "from sklearn.neural_network import MLPClassifier\n",
    "from sklearn.neighbors import KNeighborsClassifier\n",
    "from sklearn.ensemble import ExtraTreesClassifier\n",
    "from sklearn.ensemble import GradientBoostingClassifier\n",
    "from sklearn.ensemble import RandomForestClassifier\n",
    "from sklearn.linear_model import LogisticRegression"
   ]
  },
  {
   "cell_type": "code",
   "execution_count": 6,
   "id": "a7ddd328",
   "metadata": {},
   "outputs": [],
   "source": [
    "from sklearn.metrics import confusion_matrix, classification_report\n",
    "from sklearn.metrics import accuracy_score, f1_score,recall_score, precision_score\n",
    "from sklearn.metrics import average_precision_score, roc_auc_score, roc_curve, auc"
   ]
  },
  {
   "cell_type": "code",
   "execution_count": 32,
   "id": "d4820e59",
   "metadata": {},
   "outputs": [],
   "source": [
    "from statsmodels.stats.outliers_influence import variance_inflation_factor"
   ]
  },
  {
   "cell_type": "code",
   "execution_count": 7,
   "id": "92e03ae9",
   "metadata": {},
   "outputs": [],
   "source": [
    "df = pd.read_csv('telecom_churn_preprocess_data.csv')"
   ]
  },
  {
   "cell_type": "code",
   "execution_count": 8,
   "id": "bdc9b939",
   "metadata": {
    "scrolled": true
   },
   "outputs": [
    {
     "data": {
      "text/html": [
       "<div>\n",
       "<style scoped>\n",
       "    .dataframe tbody tr th:only-of-type {\n",
       "        vertical-align: middle;\n",
       "    }\n",
       "\n",
       "    .dataframe tbody tr th {\n",
       "        vertical-align: top;\n",
       "    }\n",
       "\n",
       "    .dataframe thead th {\n",
       "        text-align: right;\n",
       "    }\n",
       "</style>\n",
       "<table border=\"1\" class=\"dataframe\">\n",
       "  <thead>\n",
       "    <tr style=\"text-align: right;\">\n",
       "      <th></th>\n",
       "      <th>Unnamed: 0</th>\n",
       "      <th>gender</th>\n",
       "      <th>seniorcitizen</th>\n",
       "      <th>partner</th>\n",
       "      <th>dependents</th>\n",
       "      <th>tenure</th>\n",
       "      <th>phoneservice</th>\n",
       "      <th>multiplelines</th>\n",
       "      <th>internetservice</th>\n",
       "      <th>onlinesecurity</th>\n",
       "      <th>...</th>\n",
       "      <th>streamingmovies</th>\n",
       "      <th>paperlessbilling</th>\n",
       "      <th>monthlycharges</th>\n",
       "      <th>totalcharges</th>\n",
       "      <th>churn</th>\n",
       "      <th>contract_One year</th>\n",
       "      <th>contract_Two year</th>\n",
       "      <th>paymentmethod_Credit card (automatic)</th>\n",
       "      <th>paymentmethod_Electronic check</th>\n",
       "      <th>paymentmethod_Mailed check</th>\n",
       "    </tr>\n",
       "  </thead>\n",
       "  <tbody>\n",
       "    <tr>\n",
       "      <th>0</th>\n",
       "      <td>0</td>\n",
       "      <td>0</td>\n",
       "      <td>0</td>\n",
       "      <td>1</td>\n",
       "      <td>0</td>\n",
       "      <td>1</td>\n",
       "      <td>0</td>\n",
       "      <td>1</td>\n",
       "      <td>0</td>\n",
       "      <td>0</td>\n",
       "      <td>...</td>\n",
       "      <td>0</td>\n",
       "      <td>1</td>\n",
       "      <td>29.85</td>\n",
       "      <td>29</td>\n",
       "      <td>0</td>\n",
       "      <td>0</td>\n",
       "      <td>0</td>\n",
       "      <td>0</td>\n",
       "      <td>1</td>\n",
       "      <td>0</td>\n",
       "    </tr>\n",
       "    <tr>\n",
       "      <th>1</th>\n",
       "      <td>1</td>\n",
       "      <td>1</td>\n",
       "      <td>0</td>\n",
       "      <td>0</td>\n",
       "      <td>0</td>\n",
       "      <td>34</td>\n",
       "      <td>1</td>\n",
       "      <td>0</td>\n",
       "      <td>0</td>\n",
       "      <td>2</td>\n",
       "      <td>...</td>\n",
       "      <td>0</td>\n",
       "      <td>0</td>\n",
       "      <td>56.95</td>\n",
       "      <td>1889</td>\n",
       "      <td>0</td>\n",
       "      <td>1</td>\n",
       "      <td>0</td>\n",
       "      <td>0</td>\n",
       "      <td>0</td>\n",
       "      <td>1</td>\n",
       "    </tr>\n",
       "    <tr>\n",
       "      <th>2</th>\n",
       "      <td>2</td>\n",
       "      <td>1</td>\n",
       "      <td>0</td>\n",
       "      <td>0</td>\n",
       "      <td>0</td>\n",
       "      <td>2</td>\n",
       "      <td>1</td>\n",
       "      <td>0</td>\n",
       "      <td>0</td>\n",
       "      <td>2</td>\n",
       "      <td>...</td>\n",
       "      <td>0</td>\n",
       "      <td>1</td>\n",
       "      <td>53.85</td>\n",
       "      <td>108</td>\n",
       "      <td>1</td>\n",
       "      <td>0</td>\n",
       "      <td>0</td>\n",
       "      <td>0</td>\n",
       "      <td>0</td>\n",
       "      <td>1</td>\n",
       "    </tr>\n",
       "    <tr>\n",
       "      <th>3</th>\n",
       "      <td>3</td>\n",
       "      <td>1</td>\n",
       "      <td>0</td>\n",
       "      <td>0</td>\n",
       "      <td>0</td>\n",
       "      <td>45</td>\n",
       "      <td>0</td>\n",
       "      <td>1</td>\n",
       "      <td>0</td>\n",
       "      <td>2</td>\n",
       "      <td>...</td>\n",
       "      <td>0</td>\n",
       "      <td>0</td>\n",
       "      <td>42.30</td>\n",
       "      <td>1840</td>\n",
       "      <td>0</td>\n",
       "      <td>1</td>\n",
       "      <td>0</td>\n",
       "      <td>0</td>\n",
       "      <td>0</td>\n",
       "      <td>0</td>\n",
       "    </tr>\n",
       "    <tr>\n",
       "      <th>4</th>\n",
       "      <td>4</td>\n",
       "      <td>0</td>\n",
       "      <td>0</td>\n",
       "      <td>0</td>\n",
       "      <td>0</td>\n",
       "      <td>2</td>\n",
       "      <td>1</td>\n",
       "      <td>0</td>\n",
       "      <td>1</td>\n",
       "      <td>0</td>\n",
       "      <td>...</td>\n",
       "      <td>0</td>\n",
       "      <td>1</td>\n",
       "      <td>70.70</td>\n",
       "      <td>151</td>\n",
       "      <td>1</td>\n",
       "      <td>0</td>\n",
       "      <td>0</td>\n",
       "      <td>0</td>\n",
       "      <td>1</td>\n",
       "      <td>0</td>\n",
       "    </tr>\n",
       "  </tbody>\n",
       "</table>\n",
       "<p>5 rows × 24 columns</p>\n",
       "</div>"
      ],
      "text/plain": [
       "   Unnamed: 0  gender  seniorcitizen  partner  dependents  tenure  \\\n",
       "0           0       0              0        1           0       1   \n",
       "1           1       1              0        0           0      34   \n",
       "2           2       1              0        0           0       2   \n",
       "3           3       1              0        0           0      45   \n",
       "4           4       0              0        0           0       2   \n",
       "\n",
       "   phoneservice  multiplelines  internetservice  onlinesecurity  ...  \\\n",
       "0             0              1                0               0  ...   \n",
       "1             1              0                0               2  ...   \n",
       "2             1              0                0               2  ...   \n",
       "3             0              1                0               2  ...   \n",
       "4             1              0                1               0  ...   \n",
       "\n",
       "   streamingmovies  paperlessbilling  monthlycharges  totalcharges  churn  \\\n",
       "0                0                 1           29.85            29      0   \n",
       "1                0                 0           56.95          1889      0   \n",
       "2                0                 1           53.85           108      1   \n",
       "3                0                 0           42.30          1840      0   \n",
       "4                0                 1           70.70           151      1   \n",
       "\n",
       "   contract_One year  contract_Two year  \\\n",
       "0                  0                  0   \n",
       "1                  1                  0   \n",
       "2                  0                  0   \n",
       "3                  1                  0   \n",
       "4                  0                  0   \n",
       "\n",
       "   paymentmethod_Credit card (automatic)  paymentmethod_Electronic check  \\\n",
       "0                                      0                               1   \n",
       "1                                      0                               0   \n",
       "2                                      0                               0   \n",
       "3                                      0                               0   \n",
       "4                                      0                               1   \n",
       "\n",
       "   paymentmethod_Mailed check  \n",
       "0                           0  \n",
       "1                           1  \n",
       "2                           1  \n",
       "3                           0  \n",
       "4                           0  \n",
       "\n",
       "[5 rows x 24 columns]"
      ]
     },
     "execution_count": 8,
     "metadata": {},
     "output_type": "execute_result"
    }
   ],
   "source": [
    "df.head()"
   ]
  },
  {
   "cell_type": "code",
   "execution_count": 9,
   "id": "356c9780",
   "metadata": {},
   "outputs": [],
   "source": [
    "df.drop('Unnamed: 0', axis=1, inplace=True)"
   ]
  },
  {
   "cell_type": "code",
   "execution_count": 10,
   "id": "67b376b6",
   "metadata": {},
   "outputs": [],
   "source": [
    "x = df.drop(\"churn\", axis = 1)\n",
    "y = df['churn']"
   ]
  },
  {
   "cell_type": "code",
   "execution_count": 35,
   "id": "5de17198",
   "metadata": {},
   "outputs": [],
   "source": [
    "#We are deleting totalcharges due to high correlation with tenure column.\n",
    "x.drop('totalcharges', axis=1, inplace=True)"
   ]
  },
  {
   "cell_type": "code",
   "execution_count": 39,
   "id": "0675ffa1",
   "metadata": {
    "scrolled": false
   },
   "outputs": [
    {
     "name": "stdout",
     "output_type": "stream",
     "text": [
      "0    4131\n",
      "1    1485\n",
      "Name: churn, dtype: int64\n"
     ]
    }
   ],
   "source": [
    "x_train, x_test, y_train, y_test = train_test_split(x, y, random_state =100 ,stratify=y, test_size = 0.2)\n",
    "print(y_train.value_counts())"
   ]
  },
  {
   "cell_type": "code",
   "execution_count": 40,
   "id": "a505fef4",
   "metadata": {},
   "outputs": [],
   "source": [
    "scale = MinMaxScaler()\n",
    "col = x_train.columns\n",
    "\n",
    "x_train[col] = scale.fit_transform(x_train[col])\n",
    "x_test[col] = scale.transform(x_test[col])"
   ]
  },
  {
   "cell_type": "code",
   "execution_count": 41,
   "id": "09cd5b81",
   "metadata": {},
   "outputs": [],
   "source": [
    "#Fit basic model on imbalanced dataset\n",
    "DT = DecisionTreeClassifier(random_state=0)\n",
    "cross_val_DT = cross_val_score(DT, x_train, y_train , scoring = 'accuracy' ) \n",
    "cross_val_DT_f1 = cross_val_score(DT, x_train, y_train , scoring = 'f1') \n",
    "\n",
    "RF = RandomForestClassifier(random_state=0)\n",
    "cross_val_RF = cross_val_score(RF, x_train, y_train , scoring = 'accuracy' ) \n",
    "cross_val_RF_f1 = cross_val_score(RF, x_train, y_train , scoring = 'f1') \n",
    "\n",
    "ET = ExtraTreesClassifier(random_state=0)\n",
    "cross_val_ET = cross_val_score(ET, x_train, y_train , scoring = 'accuracy' ) \n",
    "cross_val_ET_f1 = cross_val_score(ET, x_train, y_train , scoring = 'f1') \n",
    "\n",
    "MLP = MLPClassifier(random_state=0)\n",
    "cross_val_MLP = cross_val_score(MLP, x_train, y_train , scoring = 'accuracy' ) \n",
    "cross_val_MLP_f1 = cross_val_score(MLP, x_train, y_train , scoring = 'f1') \n",
    "\n",
    "GB = GradientBoostingClassifier(random_state=0)\n",
    "cross_val_GB = cross_val_score(GB, x_train, y_train , scoring = 'accuracy' ) \n",
    "cross_val_GB_f1 = cross_val_score(GB, x_train, y_train , scoring = 'f1') \n",
    "\n",
    "LR = LogisticRegression(random_state=0)\n",
    "cross_val_LR = cross_val_score(LR, x_train, y_train , scoring = 'accuracy' ) \n",
    "cross_val_LR_f1 = cross_val_score(LR, x_train, y_train , scoring = 'f1') \n",
    "\n",
    "KNN = KNeighborsClassifier()\n",
    "cross_val_KNN = cross_val_score(KNN, x_train, y_train , scoring = 'accuracy' ) \n",
    "cross_val_KNN_f1 = cross_val_score(KNN, x_train, y_train , scoring = 'f1') "
   ]
  },
  {
   "cell_type": "code",
   "execution_count": 42,
   "id": "01aa09b5",
   "metadata": {},
   "outputs": [],
   "source": [
    "compare_models = [('Decision Tree', cross_val_DT.mean(),cross_val_DT_f1.mean()),\n",
    "                  ('Random Forest', cross_val_RF.mean(),cross_val_RF_f1.mean()),\n",
    "                  ('Neural Network', cross_val_MLP.mean(),cross_val_MLP_f1.mean()),\n",
    "                  ('Extra Tree', cross_val_ET.mean(),cross_val_ET_f1.mean()),\n",
    "                  ('GradientBoosting', cross_val_GB.mean(),cross_val_GB_f1.mean()),\n",
    "                  ('Logistic Regression', cross_val_LR.mean(),cross_val_LR_f1.mean()),\n",
    "                  ('KNN', cross_val_KNN.mean(), cross_val_KNN_f1.mean())]"
   ]
  },
  {
   "cell_type": "code",
   "execution_count": 43,
   "id": "16b0084e",
   "metadata": {},
   "outputs": [
    {
     "data": {
      "text/html": [
       "<style  type=\"text/css\" >\n",
       "#T_91a37b2a_7b70_11ec_b129_be6bb5fc8205row0_col1,#T_91a37b2a_7b70_11ec_b129_be6bb5fc8205row0_col2{\n",
       "            background-color:  #ffffe5;\n",
       "            color:  #000000;\n",
       "        }#T_91a37b2a_7b70_11ec_b129_be6bb5fc8205row1_col1{\n",
       "            background-color:  #1a7d40;\n",
       "            color:  #f1f1f1;\n",
       "        }#T_91a37b2a_7b70_11ec_b129_be6bb5fc8205row1_col2{\n",
       "            background-color:  #9cd687;\n",
       "            color:  #000000;\n",
       "        }#T_91a37b2a_7b70_11ec_b129_be6bb5fc8205row2_col1{\n",
       "            background-color:  #14783e;\n",
       "            color:  #f1f1f1;\n",
       "        }#T_91a37b2a_7b70_11ec_b129_be6bb5fc8205row2_col2{\n",
       "            background-color:  #187b3f;\n",
       "            color:  #f1f1f1;\n",
       "        }#T_91a37b2a_7b70_11ec_b129_be6bb5fc8205row3_col1{\n",
       "            background-color:  #62bb6e;\n",
       "            color:  #000000;\n",
       "        }#T_91a37b2a_7b70_11ec_b129_be6bb5fc8205row3_col2{\n",
       "            background-color:  #e9f6af;\n",
       "            color:  #000000;\n",
       "        }#T_91a37b2a_7b70_11ec_b129_be6bb5fc8205row4_col1{\n",
       "            background-color:  #004e2d;\n",
       "            color:  #f1f1f1;\n",
       "        }#T_91a37b2a_7b70_11ec_b129_be6bb5fc8205row4_col2{\n",
       "            background-color:  #10743c;\n",
       "            color:  #f1f1f1;\n",
       "        }#T_91a37b2a_7b70_11ec_b129_be6bb5fc8205row5_col1,#T_91a37b2a_7b70_11ec_b129_be6bb5fc8205row5_col2{\n",
       "            background-color:  #004529;\n",
       "            color:  #f1f1f1;\n",
       "        }#T_91a37b2a_7b70_11ec_b129_be6bb5fc8205row6_col1{\n",
       "            background-color:  #74c477;\n",
       "            color:  #000000;\n",
       "        }#T_91a37b2a_7b70_11ec_b129_be6bb5fc8205row6_col2{\n",
       "            background-color:  #72c376;\n",
       "            color:  #000000;\n",
       "        }</style><table id=\"T_91a37b2a_7b70_11ec_b129_be6bb5fc8205\" ><thead>    <tr>        <th class=\"blank level0\" ></th>        <th class=\"col_heading level0 col0\" >Model</th>        <th class=\"col_heading level0 col1\" >Cross_validation_mean(accuracy)</th>        <th class=\"col_heading level0 col2\" >Cross_validation_mean(f1_score)</th>    </tr></thead><tbody>\n",
       "                <tr>\n",
       "                        <th id=\"T_91a37b2a_7b70_11ec_b129_be6bb5fc8205level0_row0\" class=\"row_heading level0 row0\" >0</th>\n",
       "                        <td id=\"T_91a37b2a_7b70_11ec_b129_be6bb5fc8205row0_col0\" class=\"data row0 col0\" >Decision Tree</td>\n",
       "                        <td id=\"T_91a37b2a_7b70_11ec_b129_be6bb5fc8205row0_col1\" class=\"data row0 col1\" >0.717949</td>\n",
       "                        <td id=\"T_91a37b2a_7b70_11ec_b129_be6bb5fc8205row0_col2\" class=\"data row0 col2\" >0.477875</td>\n",
       "            </tr>\n",
       "            <tr>\n",
       "                        <th id=\"T_91a37b2a_7b70_11ec_b129_be6bb5fc8205level0_row1\" class=\"row_heading level0 row1\" >1</th>\n",
       "                        <td id=\"T_91a37b2a_7b70_11ec_b129_be6bb5fc8205row1_col0\" class=\"data row1 col0\" >Random Forest</td>\n",
       "                        <td id=\"T_91a37b2a_7b70_11ec_b129_be6bb5fc8205row1_col1\" class=\"data row1 col1\" >0.780092</td>\n",
       "                        <td id=\"T_91a37b2a_7b70_11ec_b129_be6bb5fc8205row1_col2\" class=\"data row1 col2\" >0.518339</td>\n",
       "            </tr>\n",
       "            <tr>\n",
       "                        <th id=\"T_91a37b2a_7b70_11ec_b129_be6bb5fc8205level0_row2\" class=\"row_heading level0 row2\" >2</th>\n",
       "                        <td id=\"T_91a37b2a_7b70_11ec_b129_be6bb5fc8205row2_col0\" class=\"data row2 col0\" >Neural Network</td>\n",
       "                        <td id=\"T_91a37b2a_7b70_11ec_b129_be6bb5fc8205row2_col1\" class=\"data row2 col1\" >0.781694</td>\n",
       "                        <td id=\"T_91a37b2a_7b70_11ec_b129_be6bb5fc8205row2_col2\" class=\"data row2 col2\" >0.554622</td>\n",
       "            </tr>\n",
       "            <tr>\n",
       "                        <th id=\"T_91a37b2a_7b70_11ec_b129_be6bb5fc8205level0_row3\" class=\"row_heading level0 row3\" >3</th>\n",
       "                        <td id=\"T_91a37b2a_7b70_11ec_b129_be6bb5fc8205row3_col0\" class=\"data row3 col0\" >Extra Tree</td>\n",
       "                        <td id=\"T_91a37b2a_7b70_11ec_b129_be6bb5fc8205row3_col1\" class=\"data row3 col1\" >0.761575</td>\n",
       "                        <td id=\"T_91a37b2a_7b70_11ec_b129_be6bb5fc8205row3_col2\" class=\"data row3 col2\" >0.496172</td>\n",
       "            </tr>\n",
       "            <tr>\n",
       "                        <th id=\"T_91a37b2a_7b70_11ec_b129_be6bb5fc8205level0_row4\" class=\"row_heading level0 row4\" >4</th>\n",
       "                        <td id=\"T_91a37b2a_7b70_11ec_b129_be6bb5fc8205row4_col0\" class=\"data row4 col0\" >GradientBoosting</td>\n",
       "                        <td id=\"T_91a37b2a_7b70_11ec_b129_be6bb5fc8205row4_col1\" class=\"data row4 col1\" >0.795048</td>\n",
       "                        <td id=\"T_91a37b2a_7b70_11ec_b129_be6bb5fc8205row4_col2\" class=\"data row4 col2\" >0.557716</td>\n",
       "            </tr>\n",
       "            <tr>\n",
       "                        <th id=\"T_91a37b2a_7b70_11ec_b129_be6bb5fc8205level0_row5\" class=\"row_heading level0 row5\" >5</th>\n",
       "                        <td id=\"T_91a37b2a_7b70_11ec_b129_be6bb5fc8205row5_col0\" class=\"data row5 col0\" >Logistic Regression</td>\n",
       "                        <td id=\"T_91a37b2a_7b70_11ec_b129_be6bb5fc8205row5_col1\" class=\"data row5 col1\" >0.797540</td>\n",
       "                        <td id=\"T_91a37b2a_7b70_11ec_b129_be6bb5fc8205row5_col2\" class=\"data row5 col2\" >0.575564</td>\n",
       "            </tr>\n",
       "            <tr>\n",
       "                        <th id=\"T_91a37b2a_7b70_11ec_b129_be6bb5fc8205level0_row6\" class=\"row_heading level0 row6\" >6</th>\n",
       "                        <td id=\"T_91a37b2a_7b70_11ec_b129_be6bb5fc8205row6_col0\" class=\"data row6 col0\" >KNN</td>\n",
       "                        <td id=\"T_91a37b2a_7b70_11ec_b129_be6bb5fc8205row6_col1\" class=\"data row6 col1\" >0.758548</td>\n",
       "                        <td id=\"T_91a37b2a_7b70_11ec_b129_be6bb5fc8205row6_col2\" class=\"data row6 col2\" >0.528010</td>\n",
       "            </tr>\n",
       "    </tbody></table>"
      ],
      "text/plain": [
       "<pandas.io.formats.style.Styler at 0x7fb9f8b3f690>"
      ]
     },
     "execution_count": 43,
     "metadata": {},
     "output_type": "execute_result"
    }
   ],
   "source": [
    "predict = pd.DataFrame(data = compare_models, \n",
    "                       columns=['Model','Cross_validation_mean(accuracy)', 'Cross_validation_mean(f1_score)'])\n",
    "predict.style.background_gradient(cmap='YlGn')"
   ]
  },
  {
   "cell_type": "code",
   "execution_count": 16,
   "id": "a54ee8b6",
   "metadata": {},
   "outputs": [],
   "source": [
    "#Random OverSample\n",
    "x_train_Sample = x_train.copy()\n",
    "y_train_Sample = y_train.copy()\n",
    "\n",
    "randOverSample = RandomOverSampler(random_state=100,)\n",
    "x_train_OverSample, y_train_OverSample = randOverSample.fit_resample(x_train_Sample, y_train_Sample.ravel())"
   ]
  },
  {
   "cell_type": "code",
   "execution_count": 17,
   "id": "f1ff80ea",
   "metadata": {},
   "outputs": [],
   "source": [
    "#Fit basic model on OverSample dataset\n",
    "DT = DecisionTreeClassifier(random_state=0)\n",
    "cross_val_DT = cross_val_score(DT, x_train_OverSample, y_train_OverSample , scoring = 'accuracy' ) \n",
    "cross_val_DT_f1 = cross_val_score(DT, x_train_OverSample, y_train_OverSample , scoring = 'f1') \n",
    "\n",
    "RF = RandomForestClassifier(random_state=0)\n",
    "cross_val_RF = cross_val_score(RF, x_train_OverSample, y_train_OverSample , scoring = 'accuracy' ) \n",
    "cross_val_RF_f1 = cross_val_score(RF, x_train_OverSample, y_train_OverSample , scoring = 'f1') \n",
    "\n",
    "ET = ExtraTreesClassifier(random_state=0)\n",
    "cross_val_ET = cross_val_score(ET, x_train_OverSample, y_train_OverSample , scoring = 'accuracy' ) \n",
    "cross_val_ET_f1 = cross_val_score(ET, x_train_OverSample, y_train_OverSample , scoring = 'f1') \n",
    "\n",
    "MLP = MLPClassifier(random_state=0)\n",
    "cross_val_MLP = cross_val_score(MLP, x_train_OverSample, y_train_OverSample , scoring = 'accuracy' ) \n",
    "cross_val_MLP_f1 = cross_val_score(MLP, x_train_OverSample, y_train_OverSample , scoring = 'f1') \n",
    "\n",
    "GB = GradientBoostingClassifier(random_state=0)\n",
    "cross_val_GB = cross_val_score(GB, x_train_OverSample, y_train_OverSample , scoring = 'accuracy' ) \n",
    "cross_val_GB_f1 = cross_val_score(GB, x_train_OverSample, y_train_OverSample , scoring = 'f1') \n",
    "\n",
    "LR = LogisticRegression(random_state=0)\n",
    "cross_val_LR = cross_val_score(LR, x_train_OverSample, y_train_OverSample , scoring = 'accuracy' ) \n",
    "cross_val_LR_f1 = cross_val_score(LR, x_train_OverSample, y_train_OverSample , scoring = 'f1') \n",
    "\n",
    "KNN = KNeighborsClassifier()\n",
    "cross_val_KNN = cross_val_score(KNN, x_train_OverSample, y_train_OverSample , scoring = 'accuracy' ) \n",
    "cross_val_KNN_f1 = cross_val_score(KNN, x_train_OverSample, y_train_OverSample , scoring = 'f1') "
   ]
  },
  {
   "cell_type": "code",
   "execution_count": 18,
   "id": "1d66c32f",
   "metadata": {},
   "outputs": [],
   "source": [
    "compare_models = [('Decision Tree', cross_val_DT.mean(),cross_val_DT_f1.mean()),\n",
    "                  ('Random Forest', cross_val_RF.mean(),cross_val_RF_f1.mean()),\n",
    "                  ('Neural Network', cross_val_MLP.mean(),cross_val_MLP_f1.mean()),\n",
    "                  ('Extra Tree', cross_val_ET.mean(),cross_val_ET_f1.mean()),\n",
    "                  ('GradientBoosting', cross_val_GB.mean(),cross_val_GB_f1.mean()),\n",
    "                  ('Logistic Regression', cross_val_LR.mean(),cross_val_LR_f1.mean()),\n",
    "                  ('KNN', cross_val_KNN.mean(), cross_val_KNN_f1.mean())]"
   ]
  },
  {
   "cell_type": "code",
   "execution_count": 19,
   "id": "2b5d6fc2",
   "metadata": {},
   "outputs": [
    {
     "data": {
      "text/html": [
       "<style  type=\"text/css\" >\n",
       "#T_78c0255c_7b68_11ec_b129_be6bb5fc8205row0_col1{\n",
       "            background-color:  #0e743c;\n",
       "            color:  #f1f1f1;\n",
       "        }#T_78c0255c_7b68_11ec_b129_be6bb5fc8205row0_col2{\n",
       "            background-color:  #006737;\n",
       "            color:  #f1f1f1;\n",
       "        }#T_78c0255c_7b68_11ec_b129_be6bb5fc8205row1_col1{\n",
       "            background-color:  #00512e;\n",
       "            color:  #f1f1f1;\n",
       "        }#T_78c0255c_7b68_11ec_b129_be6bb5fc8205row1_col2{\n",
       "            background-color:  #004d2c;\n",
       "            color:  #f1f1f1;\n",
       "        }#T_78c0255c_7b68_11ec_b129_be6bb5fc8205row2_col1,#T_78c0255c_7b68_11ec_b129_be6bb5fc8205row2_col2{\n",
       "            background-color:  #ffffe5;\n",
       "            color:  #000000;\n",
       "        }#T_78c0255c_7b68_11ec_b129_be6bb5fc8205row3_col1,#T_78c0255c_7b68_11ec_b129_be6bb5fc8205row3_col2{\n",
       "            background-color:  #004529;\n",
       "            color:  #f1f1f1;\n",
       "        }#T_78c0255c_7b68_11ec_b129_be6bb5fc8205row4_col1{\n",
       "            background-color:  #abdc8d;\n",
       "            color:  #000000;\n",
       "        }#T_78c0255c_7b68_11ec_b129_be6bb5fc8205row4_col2{\n",
       "            background-color:  #72c376;\n",
       "            color:  #000000;\n",
       "        }#T_78c0255c_7b68_11ec_b129_be6bb5fc8205row5_col1{\n",
       "            background-color:  #d7efa2;\n",
       "            color:  #000000;\n",
       "        }#T_78c0255c_7b68_11ec_b129_be6bb5fc8205row5_col2{\n",
       "            background-color:  #a2d88a;\n",
       "            color:  #000000;\n",
       "        }#T_78c0255c_7b68_11ec_b129_be6bb5fc8205row6_col1{\n",
       "            background-color:  #e2f4aa;\n",
       "            color:  #000000;\n",
       "        }#T_78c0255c_7b68_11ec_b129_be6bb5fc8205row6_col2{\n",
       "            background-color:  #9ad587;\n",
       "            color:  #000000;\n",
       "        }</style><table id=\"T_78c0255c_7b68_11ec_b129_be6bb5fc8205\" ><thead>    <tr>        <th class=\"blank level0\" ></th>        <th class=\"col_heading level0 col0\" >Model</th>        <th class=\"col_heading level0 col1\" >Cross_validation_mean(accuracy)</th>        <th class=\"col_heading level0 col2\" >Cross_validation_mean(f1_score)</th>    </tr></thead><tbody>\n",
       "                <tr>\n",
       "                        <th id=\"T_78c0255c_7b68_11ec_b129_be6bb5fc8205level0_row0\" class=\"row_heading level0 row0\" >0</th>\n",
       "                        <td id=\"T_78c0255c_7b68_11ec_b129_be6bb5fc8205row0_col0\" class=\"data row0 col0\" >Decision Tree</td>\n",
       "                        <td id=\"T_78c0255c_7b68_11ec_b129_be6bb5fc8205row0_col1\" class=\"data row0 col1\" >0.874370</td>\n",
       "                        <td id=\"T_78c0255c_7b68_11ec_b129_be6bb5fc8205row0_col2\" class=\"data row0 col2\" >0.883954</td>\n",
       "            </tr>\n",
       "            <tr>\n",
       "                        <th id=\"T_78c0255c_7b68_11ec_b129_be6bb5fc8205level0_row1\" class=\"row_heading level0 row1\" >1</th>\n",
       "                        <td id=\"T_78c0255c_7b68_11ec_b129_be6bb5fc8205row1_col0\" class=\"data row1 col0\" >Random Forest</td>\n",
       "                        <td id=\"T_78c0255c_7b68_11ec_b129_be6bb5fc8205row1_col1\" class=\"data row1 col1\" >0.901723</td>\n",
       "                        <td id=\"T_78c0255c_7b68_11ec_b129_be6bb5fc8205row1_col2\" class=\"data row1 col2\" >0.907736</td>\n",
       "            </tr>\n",
       "            <tr>\n",
       "                        <th id=\"T_78c0255c_7b68_11ec_b129_be6bb5fc8205level0_row2\" class=\"row_heading level0 row2\" >2</th>\n",
       "                        <td id=\"T_78c0255c_7b68_11ec_b129_be6bb5fc8205row2_col0\" class=\"data row2 col0\" >Neural Network</td>\n",
       "                        <td id=\"T_78c0255c_7b68_11ec_b129_be6bb5fc8205row2_col1\" class=\"data row2 col1\" >0.704556</td>\n",
       "                        <td id=\"T_78c0255c_7b68_11ec_b129_be6bb5fc8205row2_col2\" class=\"data row2 col2\" >0.661856</td>\n",
       "            </tr>\n",
       "            <tr>\n",
       "                        <th id=\"T_78c0255c_7b68_11ec_b129_be6bb5fc8205level0_row3\" class=\"row_heading level0 row3\" >3</th>\n",
       "                        <td id=\"T_78c0255c_7b68_11ec_b129_be6bb5fc8205row3_col0\" class=\"data row3 col0\" >Extra Tree</td>\n",
       "                        <td id=\"T_78c0255c_7b68_11ec_b129_be6bb5fc8205row3_col1\" class=\"data row3 col1\" >0.911286</td>\n",
       "                        <td id=\"T_78c0255c_7b68_11ec_b129_be6bb5fc8205row3_col2\" class=\"data row3 col2\" >0.915073</td>\n",
       "            </tr>\n",
       "            <tr>\n",
       "                        <th id=\"T_78c0255c_7b68_11ec_b129_be6bb5fc8205level0_row4\" class=\"row_heading level0 row4\" >4</th>\n",
       "                        <td id=\"T_78c0255c_7b68_11ec_b129_be6bb5fc8205row4_col0\" class=\"data row4 col0\" >GradientBoosting</td>\n",
       "                        <td id=\"T_78c0255c_7b68_11ec_b129_be6bb5fc8205row4_col1\" class=\"data row4 col1\" >0.782983</td>\n",
       "                        <td id=\"T_78c0255c_7b68_11ec_b129_be6bb5fc8205row4_col2\" class=\"data row4 col2\" >0.791433</td>\n",
       "            </tr>\n",
       "            <tr>\n",
       "                        <th id=\"T_78c0255c_7b68_11ec_b129_be6bb5fc8205level0_row5\" class=\"row_heading level0 row5\" >5</th>\n",
       "                        <td id=\"T_78c0255c_7b68_11ec_b129_be6bb5fc8205row5_col0\" class=\"data row5 col0\" >Logistic Regression</td>\n",
       "                        <td id=\"T_78c0255c_7b68_11ec_b129_be6bb5fc8205row5_col1\" class=\"data row5 col1\" >0.757201</td>\n",
       "                        <td id=\"T_78c0255c_7b68_11ec_b129_be6bb5fc8205row5_col2\" class=\"data row5 col2\" >0.763442</td>\n",
       "            </tr>\n",
       "            <tr>\n",
       "                        <th id=\"T_78c0255c_7b68_11ec_b129_be6bb5fc8205level0_row6\" class=\"row_heading level0 row6\" >6</th>\n",
       "                        <td id=\"T_78c0255c_7b68_11ec_b129_be6bb5fc8205row6_col0\" class=\"data row6 col0\" >KNN</td>\n",
       "                        <td id=\"T_78c0255c_7b68_11ec_b129_be6bb5fc8205row6_col1\" class=\"data row6 col1\" >0.748489</td>\n",
       "                        <td id=\"T_78c0255c_7b68_11ec_b129_be6bb5fc8205row6_col2\" class=\"data row6 col2\" >0.768459</td>\n",
       "            </tr>\n",
       "    </tbody></table>"
      ],
      "text/plain": [
       "<pandas.io.formats.style.Styler at 0x7fb9aec18f10>"
      ]
     },
     "execution_count": 19,
     "metadata": {},
     "output_type": "execute_result"
    }
   ],
   "source": [
    "predict = pd.DataFrame(data = compare_models, \n",
    "                       columns=['Model','Cross_validation_mean(accuracy)', 'Cross_validation_mean(f1_score)'])\n",
    "predict.style.background_gradient(cmap='YlGn')"
   ]
  },
  {
   "cell_type": "code",
   "execution_count": 21,
   "id": "2706ef6e",
   "metadata": {},
   "outputs": [],
   "source": [
    "#SMOTE\n",
    "x_train_sample = x_train.copy()\n",
    "y_train_sample = y_train.copy()\n",
    "\n",
    "sm = SMOTE(random_state=100)\n",
    "x_train_smote, y_train_smote = sm.fit_resample(x_train_sample, y_train_sample.ravel())"
   ]
  },
  {
   "cell_type": "code",
   "execution_count": 22,
   "id": "52779dfa",
   "metadata": {},
   "outputs": [],
   "source": [
    "#Fit basic model on OverSample dataset\n",
    "DT = DecisionTreeClassifier(random_state=0)\n",
    "cross_val_DT = cross_val_score(DT, x_train_smote, y_train_smote , scoring = 'accuracy' ) \n",
    "cross_val_DT_f1 = cross_val_score(DT, x_train_smote, y_train_smote , scoring = 'f1') \n",
    "\n",
    "RF = RandomForestClassifier(random_state=0)\n",
    "cross_val_RF = cross_val_score(RF, x_train_smote, y_train_smote , scoring = 'accuracy' ) \n",
    "cross_val_RF_f1 = cross_val_score(RF, x_train_smote, y_train_smote , scoring = 'f1') \n",
    "\n",
    "ET = ExtraTreesClassifier(random_state=0)\n",
    "cross_val_ET = cross_val_score(ET, x_train_smote, y_train_smote , scoring = 'accuracy' ) \n",
    "cross_val_ET_f1 = cross_val_score(ET, x_train_smote, y_train_smote , scoring = 'f1') \n",
    "\n",
    "MLP = MLPClassifier(random_state=0)\n",
    "cross_val_MLP = cross_val_score(MLP, x_train_smote, y_train_smote , scoring = 'accuracy' ) \n",
    "cross_val_MLP_f1 = cross_val_score(MLP, x_train_smote, y_train_smote , scoring = 'f1') \n",
    "\n",
    "GB = GradientBoostingClassifier(random_state=0)\n",
    "cross_val_GB = cross_val_score(GB, x_train_smote, y_train_smote , scoring = 'accuracy' ) \n",
    "cross_val_GB_f1 = cross_val_score(GB, x_train_smote, y_train_smote , scoring = 'f1') \n",
    "\n",
    "LR = LogisticRegression(random_state=0)\n",
    "cross_val_LR = cross_val_score(LR, x_train_smote, y_train_smote , scoring = 'accuracy' ) \n",
    "cross_val_LR_f1 = cross_val_score(LR, x_train_smote, y_train_smote , scoring = 'f1') \n",
    "\n",
    "KNN = KNeighborsClassifier()\n",
    "cross_val_KNN = cross_val_score(KNN, x_train_smote, y_train_smote , scoring = 'accuracy' ) \n",
    "cross_val_KNN_f1 = cross_val_score(KNN, x_train_smote, y_train_smote , scoring = 'f1') "
   ]
  },
  {
   "cell_type": "code",
   "execution_count": 23,
   "id": "25082ec5",
   "metadata": {},
   "outputs": [],
   "source": [
    "compare_models = [('Decision Tree', cross_val_DT.mean(),cross_val_DT_f1.mean()),\n",
    "                  ('Random Forest', cross_val_RF.mean(),cross_val_RF_f1.mean()),\n",
    "                  ('Neural Network', cross_val_MLP.mean(),cross_val_MLP_f1.mean()),\n",
    "                  ('Extra Tree', cross_val_ET.mean(),cross_val_ET_f1.mean()),\n",
    "                  ('GradientBoosting', cross_val_GB.mean(),cross_val_GB_f1.mean()),\n",
    "                  ('Logistic Regression', cross_val_LR.mean(),cross_val_LR_f1.mean()),\n",
    "                  ('KNN', cross_val_KNN.mean(), cross_val_KNN_f1.mean())]"
   ]
  },
  {
   "cell_type": "code",
   "execution_count": 24,
   "id": "2de602f1",
   "metadata": {},
   "outputs": [
    {
     "data": {
      "text/html": [
       "<style  type=\"text/css\" >\n",
       "#T_cd3c67d4_7b69_11ec_b129_be6bb5fc8205row0_col1{\n",
       "            background-color:  #b2df90;\n",
       "            color:  #000000;\n",
       "        }#T_cd3c67d4_7b69_11ec_b129_be6bb5fc8205row0_col2{\n",
       "            background-color:  #56b568;\n",
       "            color:  #000000;\n",
       "        }#T_cd3c67d4_7b69_11ec_b129_be6bb5fc8205row1_col1,#T_cd3c67d4_7b69_11ec_b129_be6bb5fc8205row1_col2{\n",
       "            background-color:  #004529;\n",
       "            color:  #f1f1f1;\n",
       "        }#T_cd3c67d4_7b69_11ec_b129_be6bb5fc8205row2_col1,#T_cd3c67d4_7b69_11ec_b129_be6bb5fc8205row2_col2{\n",
       "            background-color:  #ffffe5;\n",
       "            color:  #000000;\n",
       "        }#T_cd3c67d4_7b69_11ec_b129_be6bb5fc8205row3_col1{\n",
       "            background-color:  #016937;\n",
       "            color:  #f1f1f1;\n",
       "        }#T_cd3c67d4_7b69_11ec_b129_be6bb5fc8205row3_col2{\n",
       "            background-color:  #006737;\n",
       "            color:  #f1f1f1;\n",
       "        }#T_cd3c67d4_7b69_11ec_b129_be6bb5fc8205row4_col1{\n",
       "            background-color:  #0c723b;\n",
       "            color:  #f1f1f1;\n",
       "        }#T_cd3c67d4_7b69_11ec_b129_be6bb5fc8205row4_col2{\n",
       "            background-color:  #005c32;\n",
       "            color:  #f1f1f1;\n",
       "        }#T_cd3c67d4_7b69_11ec_b129_be6bb5fc8205row5_col1{\n",
       "            background-color:  #72c376;\n",
       "            color:  #000000;\n",
       "        }#T_cd3c67d4_7b69_11ec_b129_be6bb5fc8205row5_col2{\n",
       "            background-color:  #288a47;\n",
       "            color:  #000000;\n",
       "        }#T_cd3c67d4_7b69_11ec_b129_be6bb5fc8205row6_col1{\n",
       "            background-color:  #ceeb9e;\n",
       "            color:  #000000;\n",
       "        }#T_cd3c67d4_7b69_11ec_b129_be6bb5fc8205row6_col2{\n",
       "            background-color:  #2f934d;\n",
       "            color:  #000000;\n",
       "        }</style><table id=\"T_cd3c67d4_7b69_11ec_b129_be6bb5fc8205\" ><thead>    <tr>        <th class=\"blank level0\" ></th>        <th class=\"col_heading level0 col0\" >Model</th>        <th class=\"col_heading level0 col1\" >Cross_validation_mean(accuracy)</th>        <th class=\"col_heading level0 col2\" >Cross_validation_mean(f1_score)</th>    </tr></thead><tbody>\n",
       "                <tr>\n",
       "                        <th id=\"T_cd3c67d4_7b69_11ec_b129_be6bb5fc8205level0_row0\" class=\"row_heading level0 row0\" >0</th>\n",
       "                        <td id=\"T_cd3c67d4_7b69_11ec_b129_be6bb5fc8205row0_col0\" class=\"data row0 col0\" >Decision Tree</td>\n",
       "                        <td id=\"T_cd3c67d4_7b69_11ec_b129_be6bb5fc8205row0_col1\" class=\"data row0 col1\" >0.779494</td>\n",
       "                        <td id=\"T_cd3c67d4_7b69_11ec_b129_be6bb5fc8205row0_col2\" class=\"data row0 col2\" >0.769980</td>\n",
       "            </tr>\n",
       "            <tr>\n",
       "                        <th id=\"T_cd3c67d4_7b69_11ec_b129_be6bb5fc8205level0_row1\" class=\"row_heading level0 row1\" >1</th>\n",
       "                        <td id=\"T_cd3c67d4_7b69_11ec_b129_be6bb5fc8205row1_col0\" class=\"data row1 col0\" >Random Forest</td>\n",
       "                        <td id=\"T_cd3c67d4_7b69_11ec_b129_be6bb5fc8205row1_col1\" class=\"data row1 col1\" >0.839772</td>\n",
       "                        <td id=\"T_cd3c67d4_7b69_11ec_b129_be6bb5fc8205row1_col2\" class=\"data row1 col2\" >0.828024</td>\n",
       "            </tr>\n",
       "            <tr>\n",
       "                        <th id=\"T_cd3c67d4_7b69_11ec_b129_be6bb5fc8205level0_row2\" class=\"row_heading level0 row2\" >2</th>\n",
       "                        <td id=\"T_cd3c67d4_7b69_11ec_b129_be6bb5fc8205row2_col0\" class=\"data row2 col0\" >Neural Network</td>\n",
       "                        <td id=\"T_cd3c67d4_7b69_11ec_b129_be6bb5fc8205row2_col1\" class=\"data row2 col1\" >0.745354</td>\n",
       "                        <td id=\"T_cd3c67d4_7b69_11ec_b129_be6bb5fc8205row2_col2\" class=\"data row2 col2\" >0.691357</td>\n",
       "            </tr>\n",
       "            <tr>\n",
       "                        <th id=\"T_cd3c67d4_7b69_11ec_b129_be6bb5fc8205level0_row3\" class=\"row_heading level0 row3\" >3</th>\n",
       "                        <td id=\"T_cd3c67d4_7b69_11ec_b129_be6bb5fc8205row3_col0\" class=\"data row3 col0\" >Extra Tree</td>\n",
       "                        <td id=\"T_cd3c67d4_7b69_11ec_b129_be6bb5fc8205row3_col1\" class=\"data row3 col1\" >0.827308</td>\n",
       "                        <td id=\"T_cd3c67d4_7b69_11ec_b129_be6bb5fc8205row3_col2\" class=\"data row3 col2\" >0.811384</td>\n",
       "            </tr>\n",
       "            <tr>\n",
       "                        <th id=\"T_cd3c67d4_7b69_11ec_b129_be6bb5fc8205level0_row4\" class=\"row_heading level0 row4\" >4</th>\n",
       "                        <td id=\"T_cd3c67d4_7b69_11ec_b129_be6bb5fc8205row4_col0\" class=\"data row4 col0\" >GradientBoosting</td>\n",
       "                        <td id=\"T_cd3c67d4_7b69_11ec_b129_be6bb5fc8205row4_col1\" class=\"data row4 col1\" >0.823792</td>\n",
       "                        <td id=\"T_cd3c67d4_7b69_11ec_b129_be6bb5fc8205row4_col2\" class=\"data row4 col2\" >0.816621</td>\n",
       "            </tr>\n",
       "            <tr>\n",
       "                        <th id=\"T_cd3c67d4_7b69_11ec_b129_be6bb5fc8205level0_row5\" class=\"row_heading level0 row5\" >5</th>\n",
       "                        <td id=\"T_cd3c67d4_7b69_11ec_b129_be6bb5fc8205row5_col0\" class=\"data row5 col0\" >Logistic Regression</td>\n",
       "                        <td id=\"T_cd3c67d4_7b69_11ec_b129_be6bb5fc8205row5_col1\" class=\"data row5 col1\" >0.793769</td>\n",
       "                        <td id=\"T_cd3c67d4_7b69_11ec_b129_be6bb5fc8205row5_col2\" class=\"data row5 col2\" >0.791159</td>\n",
       "            </tr>\n",
       "            <tr>\n",
       "                        <th id=\"T_cd3c67d4_7b69_11ec_b129_be6bb5fc8205level0_row6\" class=\"row_heading level0 row6\" >6</th>\n",
       "                        <td id=\"T_cd3c67d4_7b69_11ec_b129_be6bb5fc8205row6_col0\" class=\"data row6 col0\" >KNN</td>\n",
       "                        <td id=\"T_cd3c67d4_7b69_11ec_b129_be6bb5fc8205row6_col1\" class=\"data row6 col1\" >0.772216</td>\n",
       "                        <td id=\"T_cd3c67d4_7b69_11ec_b129_be6bb5fc8205row6_col2\" class=\"data row6 col2\" >0.787037</td>\n",
       "            </tr>\n",
       "    </tbody></table>"
      ],
      "text/plain": [
       "<pandas.io.formats.style.Styler at 0x7fb9aec54dd0>"
      ]
     },
     "execution_count": 24,
     "metadata": {},
     "output_type": "execute_result"
    }
   ],
   "source": [
    "predict = pd.DataFrame(data = compare_models, \n",
    "                       columns=['Model','Cross_validation_mean(accuracy)', 'Cross_validation_mean(f1_score)'])\n",
    "predict.style.background_gradient(cmap='YlGn')"
   ]
  },
  {
   "cell_type": "code",
   "execution_count": 27,
   "id": "e9702aef",
   "metadata": {},
   "outputs": [
    {
     "name": "stdout",
     "output_type": "stream",
     "text": [
      "Accuracy score:  0.797864768683274\n",
      "------------------------------\n",
      "F1_score:  0.6151761517615176\n"
     ]
    }
   ],
   "source": [
    "#let's try out Random OverSampling technique on a RandomForest model.\n",
    "RF = RandomForestClassifier(random_state=0)\n",
    "RF.fit(x_train_OverSample,y_train_OverSample)\n",
    "y_pred = RF.predict(x_test)\n",
    "print (\"Accuracy score: \",accuracy_score(y_pred,y_test))\n",
    "print (\"------------------------------\")\n",
    "print (\"F1_score: \",f1_score(y_pred,y_test))"
   ]
  },
  {
   "cell_type": "code",
   "execution_count": 29,
   "id": "d0c9ae3b",
   "metadata": {},
   "outputs": [
    {
     "name": "stdout",
     "output_type": "stream",
     "text": [
      "Accuracy score:  0.7843416370106762\n",
      "------------------------------\n",
      "F1_score:  0.5302325581395348\n"
     ]
    }
   ],
   "source": [
    "#let's try out Random OverSampling technique on a Extra tree classifier.\n",
    "ET = ExtraTreesClassifier(random_state=0)\n",
    "ET.fit(x_train_OverSample,y_train_OverSample)\n",
    "y_pred = ET.predict(x_test)\n",
    "print (\"Accuracy score: \",accuracy_score(y_pred,y_test))\n",
    "print (\"------------------------------\")\n",
    "print (\"F1_score: \",f1_score(y_pred,y_test))"
   ]
  },
  {
   "cell_type": "code",
   "execution_count": 45,
   "id": "e57a388f",
   "metadata": {},
   "outputs": [
    {
     "name": "stdout",
     "output_type": "stream",
     "text": [
      "{'n_estimators': [200, 400, 600, 800, 1000, 1200, 1400, 1600, 1800, 2000], 'max_features': ['auto', 'sqrt'], 'max_depth': [10, 20, 30, 40, 50, 60, 70, 80, 90, 100, 110, None], 'min_samples_split': [2, 5, 10], 'min_samples_leaf': [1, 2, 4], 'bootstrap': [True, False]}\n"
     ]
    }
   ],
   "source": [
    "# Number of trees in random forest\n",
    "n_estimators = [int(x) for x in np.linspace(start = 200, stop = 2000, num = 10)]\n",
    "# Number of features to consider at every split\n",
    "max_features = ['auto', 'sqrt']\n",
    "# Maximum number of levels in tree\n",
    "max_depth = [int(x) for x in np.linspace(10, 110, num = 11)]\n",
    "max_depth.append(None)\n",
    "# Minimum number of samples required to split a node\n",
    "min_samples_split = [2, 5, 10]\n",
    "# Minimum number of samples required at each leaf node\n",
    "min_samples_leaf = [1, 2, 4]\n",
    "# Method of selecting samples for training each tree\n",
    "bootstrap = [True, False]\n",
    "# Create the random grid\n",
    "random_grid = {'n_estimators': n_estimators,\n",
    "               'max_features': max_features,\n",
    "               'max_depth': max_depth,\n",
    "               'min_samples_split': min_samples_split,\n",
    "               'min_samples_leaf': min_samples_leaf,\n",
    "               'bootstrap': bootstrap}\n",
    "print(random_grid)"
   ]
  },
  {
   "cell_type": "code",
   "execution_count": 47,
   "id": "42c8ca99",
   "metadata": {},
   "outputs": [
    {
     "name": "stdout",
     "output_type": "stream",
     "text": [
      "Fitting 3 folds for each of 100 candidates, totalling 300 fits\n"
     ]
    },
    {
     "data": {
      "text/plain": [
       "RandomizedSearchCV(cv=3, estimator=RandomForestClassifier(), n_iter=100,\n",
       "                   n_jobs=-1,\n",
       "                   param_distributions={'bootstrap': [True, False],\n",
       "                                        'max_depth': [10, 20, 30, 40, 50, 60,\n",
       "                                                      70, 80, 90, 100, 110,\n",
       "                                                      None],\n",
       "                                        'max_features': ['auto', 'sqrt'],\n",
       "                                        'min_samples_leaf': [1, 2, 4],\n",
       "                                        'min_samples_split': [2, 5, 10],\n",
       "                                        'n_estimators': [200, 400, 600, 800,\n",
       "                                                         1000, 1200, 1400, 1600,\n",
       "                                                         1800, 2000]},\n",
       "                   random_state=42, verbose=2)"
      ]
     },
     "execution_count": 47,
     "metadata": {},
     "output_type": "execute_result"
    }
   ],
   "source": [
    "rf = RandomForestClassifier()\n",
    "rf_random = RandomizedSearchCV(estimator = rf, param_distributions = random_grid, n_iter = 100, cv = 3, verbose=2, random_state=42, n_jobs = -1)\n",
    "# Fit the random search model\n",
    "rf_random.fit(x_train_OverSample, y_train_OverSample)"
   ]
  },
  {
   "cell_type": "code",
   "execution_count": 48,
   "id": "ce6554f0",
   "metadata": {},
   "outputs": [
    {
     "data": {
      "text/plain": [
       "\"\\n{'bootstrap': True,\\n 'max_depth': 70,\\n 'max_features': 'auto',\\n 'min_samples_leaf': 4,\\n 'min_samples_split': 10,\\n 'n_estimators': 400}\\n\""
      ]
     },
     "execution_count": 48,
     "metadata": {},
     "output_type": "execute_result"
    }
   ],
   "source": [
    "rf_random.best_params_\n",
    "'''\n",
    "{'bootstrap': True,\n",
    " 'max_depth': 70,\n",
    " 'max_features': 'auto',\n",
    " 'min_samples_leaf': 4,\n",
    " 'min_samples_split': 10,\n",
    " 'n_estimators': 400}\n",
    "''' "
   ]
  },
  {
   "cell_type": "code",
   "execution_count": 52,
   "id": "68de7571",
   "metadata": {},
   "outputs": [
    {
     "ename": "AttributeError",
     "evalue": "'RandomizedSearchCV' object has no attribute 'feature_importances_'",
     "output_type": "error",
     "traceback": [
      "\u001b[0;31m---------------------------------------------------------------------------\u001b[0m",
      "\u001b[0;31mAttributeError\u001b[0m                            Traceback (most recent call last)",
      "\u001b[0;32m<ipython-input-52-b836c0c2f5f3>\u001b[0m in \u001b[0;36m<module>\u001b[0;34m\u001b[0m\n\u001b[0;32m----> 1\u001b[0;31m \u001b[0mrf_random\u001b[0m\u001b[0;34m.\u001b[0m\u001b[0mfeature_importances_\u001b[0m\u001b[0;34m\u001b[0m\u001b[0;34m\u001b[0m\u001b[0m\n\u001b[0m",
      "\u001b[0;31mAttributeError\u001b[0m: 'RandomizedSearchCV' object has no attribute 'feature_importances_'"
     ]
    }
   ],
   "source": [
    "rf_random.feature_importances_"
   ]
  },
  {
   "cell_type": "code",
   "execution_count": 50,
   "id": "f22a0eab",
   "metadata": {},
   "outputs": [],
   "source": [
    "def evaluate(model, test_features, test_labels):\n",
    "    predictions = model.predict(test_features)\n",
    "    errors = abs(predictions - test_labels)\n",
    "    mape = 100 * np.mean(errors / test_labels)\n",
    "    accuracy = 100 - mape\n",
    "    print('Model Performance')\n",
    "    print('Average Error: {:0.4f} degrees.'.format(np.mean(errors)))\n",
    "    print('Accuracy = {:0.2f}%.'.format(accuracy))\n",
    "    \n",
    "    return accuracy"
   ]
  },
  {
   "cell_type": "code",
   "execution_count": 51,
   "id": "6d8fb994",
   "metadata": {},
   "outputs": [
    {
     "ename": "ValueError",
     "evalue": "X has 21 features, but RandomForestClassifier is expecting 22 features as input.",
     "output_type": "error",
     "traceback": [
      "\u001b[0;31m---------------------------------------------------------------------------\u001b[0m",
      "\u001b[0;31mValueError\u001b[0m                                Traceback (most recent call last)",
      "\u001b[0;32m<ipython-input-51-6580ee0f5568>\u001b[0m in \u001b[0;36m<module>\u001b[0;34m\u001b[0m\n\u001b[1;32m      1\u001b[0m \u001b[0mbase_model\u001b[0m \u001b[0;34m=\u001b[0m \u001b[0mRandomForestClassifier\u001b[0m\u001b[0;34m(\u001b[0m\u001b[0mn_estimators\u001b[0m \u001b[0;34m=\u001b[0m \u001b[0;36m10\u001b[0m\u001b[0;34m,\u001b[0m \u001b[0mrandom_state\u001b[0m \u001b[0;34m=\u001b[0m \u001b[0;36m42\u001b[0m\u001b[0;34m)\u001b[0m\u001b[0;34m\u001b[0m\u001b[0;34m\u001b[0m\u001b[0m\n\u001b[1;32m      2\u001b[0m \u001b[0mbase_model\u001b[0m\u001b[0;34m.\u001b[0m\u001b[0mfit\u001b[0m\u001b[0;34m(\u001b[0m\u001b[0mx_train_OverSample\u001b[0m\u001b[0;34m,\u001b[0m \u001b[0my_train_OverSample\u001b[0m\u001b[0;34m)\u001b[0m\u001b[0;34m\u001b[0m\u001b[0;34m\u001b[0m\u001b[0m\n\u001b[0;32m----> 3\u001b[0;31m \u001b[0mbase_accuracy\u001b[0m \u001b[0;34m=\u001b[0m \u001b[0mevaluate\u001b[0m\u001b[0;34m(\u001b[0m\u001b[0mbase_model\u001b[0m\u001b[0;34m,\u001b[0m \u001b[0mx_test\u001b[0m\u001b[0;34m,\u001b[0m \u001b[0my_test\u001b[0m\u001b[0;34m)\u001b[0m\u001b[0;34m\u001b[0m\u001b[0;34m\u001b[0m\u001b[0m\n\u001b[0m",
      "\u001b[0;32m<ipython-input-50-a268d49a4ba5>\u001b[0m in \u001b[0;36mevaluate\u001b[0;34m(model, test_features, test_labels)\u001b[0m\n\u001b[1;32m      1\u001b[0m \u001b[0;32mdef\u001b[0m \u001b[0mevaluate\u001b[0m\u001b[0;34m(\u001b[0m\u001b[0mmodel\u001b[0m\u001b[0;34m,\u001b[0m \u001b[0mtest_features\u001b[0m\u001b[0;34m,\u001b[0m \u001b[0mtest_labels\u001b[0m\u001b[0;34m)\u001b[0m\u001b[0;34m:\u001b[0m\u001b[0;34m\u001b[0m\u001b[0;34m\u001b[0m\u001b[0m\n\u001b[0;32m----> 2\u001b[0;31m     \u001b[0mpredictions\u001b[0m \u001b[0;34m=\u001b[0m \u001b[0mmodel\u001b[0m\u001b[0;34m.\u001b[0m\u001b[0mpredict\u001b[0m\u001b[0;34m(\u001b[0m\u001b[0mtest_features\u001b[0m\u001b[0;34m)\u001b[0m\u001b[0;34m\u001b[0m\u001b[0;34m\u001b[0m\u001b[0m\n\u001b[0m\u001b[1;32m      3\u001b[0m     \u001b[0merrors\u001b[0m \u001b[0;34m=\u001b[0m \u001b[0mabs\u001b[0m\u001b[0;34m(\u001b[0m\u001b[0mpredictions\u001b[0m \u001b[0;34m-\u001b[0m \u001b[0mtest_labels\u001b[0m\u001b[0;34m)\u001b[0m\u001b[0;34m\u001b[0m\u001b[0;34m\u001b[0m\u001b[0m\n\u001b[1;32m      4\u001b[0m     \u001b[0mmape\u001b[0m \u001b[0;34m=\u001b[0m \u001b[0;36m100\u001b[0m \u001b[0;34m*\u001b[0m \u001b[0mnp\u001b[0m\u001b[0;34m.\u001b[0m\u001b[0mmean\u001b[0m\u001b[0;34m(\u001b[0m\u001b[0merrors\u001b[0m \u001b[0;34m/\u001b[0m \u001b[0mtest_labels\u001b[0m\u001b[0;34m)\u001b[0m\u001b[0;34m\u001b[0m\u001b[0;34m\u001b[0m\u001b[0m\n\u001b[1;32m      5\u001b[0m     \u001b[0maccuracy\u001b[0m \u001b[0;34m=\u001b[0m \u001b[0;36m100\u001b[0m \u001b[0;34m-\u001b[0m \u001b[0mmape\u001b[0m\u001b[0;34m\u001b[0m\u001b[0;34m\u001b[0m\u001b[0m\n",
      "\u001b[0;32m/opt/conda/lib/python3.7/site-packages/sklearn/ensemble/_forest.py\u001b[0m in \u001b[0;36mpredict\u001b[0;34m(self, X)\u001b[0m\n\u001b[1;32m    806\u001b[0m             \u001b[0mThe\u001b[0m \u001b[0mpredicted\u001b[0m \u001b[0mclasses\u001b[0m\u001b[0;34m.\u001b[0m\u001b[0;34m\u001b[0m\u001b[0;34m\u001b[0m\u001b[0m\n\u001b[1;32m    807\u001b[0m         \"\"\"\n\u001b[0;32m--> 808\u001b[0;31m         \u001b[0mproba\u001b[0m \u001b[0;34m=\u001b[0m \u001b[0mself\u001b[0m\u001b[0;34m.\u001b[0m\u001b[0mpredict_proba\u001b[0m\u001b[0;34m(\u001b[0m\u001b[0mX\u001b[0m\u001b[0;34m)\u001b[0m\u001b[0;34m\u001b[0m\u001b[0;34m\u001b[0m\u001b[0m\n\u001b[0m\u001b[1;32m    809\u001b[0m \u001b[0;34m\u001b[0m\u001b[0m\n\u001b[1;32m    810\u001b[0m         \u001b[0;32mif\u001b[0m \u001b[0mself\u001b[0m\u001b[0;34m.\u001b[0m\u001b[0mn_outputs_\u001b[0m \u001b[0;34m==\u001b[0m \u001b[0;36m1\u001b[0m\u001b[0;34m:\u001b[0m\u001b[0;34m\u001b[0m\u001b[0;34m\u001b[0m\u001b[0m\n",
      "\u001b[0;32m/opt/conda/lib/python3.7/site-packages/sklearn/ensemble/_forest.py\u001b[0m in \u001b[0;36mpredict_proba\u001b[0;34m(self, X)\u001b[0m\n\u001b[1;32m    848\u001b[0m         \u001b[0mcheck_is_fitted\u001b[0m\u001b[0;34m(\u001b[0m\u001b[0mself\u001b[0m\u001b[0;34m)\u001b[0m\u001b[0;34m\u001b[0m\u001b[0;34m\u001b[0m\u001b[0m\n\u001b[1;32m    849\u001b[0m         \u001b[0;31m# Check data\u001b[0m\u001b[0;34m\u001b[0m\u001b[0;34m\u001b[0m\u001b[0;34m\u001b[0m\u001b[0m\n\u001b[0;32m--> 850\u001b[0;31m         \u001b[0mX\u001b[0m \u001b[0;34m=\u001b[0m \u001b[0mself\u001b[0m\u001b[0;34m.\u001b[0m\u001b[0m_validate_X_predict\u001b[0m\u001b[0;34m(\u001b[0m\u001b[0mX\u001b[0m\u001b[0;34m)\u001b[0m\u001b[0;34m\u001b[0m\u001b[0;34m\u001b[0m\u001b[0m\n\u001b[0m\u001b[1;32m    851\u001b[0m \u001b[0;34m\u001b[0m\u001b[0m\n\u001b[1;32m    852\u001b[0m         \u001b[0;31m# Assign chunk of trees to jobs\u001b[0m\u001b[0;34m\u001b[0m\u001b[0;34m\u001b[0m\u001b[0;34m\u001b[0m\u001b[0m\n",
      "\u001b[0;32m/opt/conda/lib/python3.7/site-packages/sklearn/ensemble/_forest.py\u001b[0m in \u001b[0;36m_validate_X_predict\u001b[0;34m(self, X)\u001b[0m\n\u001b[1;32m    577\u001b[0m         Validate X whenever one tries to predict, apply, predict_proba.\"\"\"\n\u001b[1;32m    578\u001b[0m         \u001b[0mcheck_is_fitted\u001b[0m\u001b[0;34m(\u001b[0m\u001b[0mself\u001b[0m\u001b[0;34m)\u001b[0m\u001b[0;34m\u001b[0m\u001b[0;34m\u001b[0m\u001b[0m\n\u001b[0;32m--> 579\u001b[0;31m         \u001b[0mX\u001b[0m \u001b[0;34m=\u001b[0m \u001b[0mself\u001b[0m\u001b[0;34m.\u001b[0m\u001b[0m_validate_data\u001b[0m\u001b[0;34m(\u001b[0m\u001b[0mX\u001b[0m\u001b[0;34m,\u001b[0m \u001b[0mdtype\u001b[0m\u001b[0;34m=\u001b[0m\u001b[0mDTYPE\u001b[0m\u001b[0;34m,\u001b[0m \u001b[0maccept_sparse\u001b[0m\u001b[0;34m=\u001b[0m\u001b[0;34m\"csr\"\u001b[0m\u001b[0;34m,\u001b[0m \u001b[0mreset\u001b[0m\u001b[0;34m=\u001b[0m\u001b[0;32mFalse\u001b[0m\u001b[0;34m)\u001b[0m\u001b[0;34m\u001b[0m\u001b[0;34m\u001b[0m\u001b[0m\n\u001b[0m\u001b[1;32m    580\u001b[0m         \u001b[0;32mif\u001b[0m \u001b[0missparse\u001b[0m\u001b[0;34m(\u001b[0m\u001b[0mX\u001b[0m\u001b[0;34m)\u001b[0m \u001b[0;32mand\u001b[0m \u001b[0;34m(\u001b[0m\u001b[0mX\u001b[0m\u001b[0;34m.\u001b[0m\u001b[0mindices\u001b[0m\u001b[0;34m.\u001b[0m\u001b[0mdtype\u001b[0m \u001b[0;34m!=\u001b[0m \u001b[0mnp\u001b[0m\u001b[0;34m.\u001b[0m\u001b[0mintc\u001b[0m \u001b[0;32mor\u001b[0m \u001b[0mX\u001b[0m\u001b[0;34m.\u001b[0m\u001b[0mindptr\u001b[0m\u001b[0;34m.\u001b[0m\u001b[0mdtype\u001b[0m \u001b[0;34m!=\u001b[0m \u001b[0mnp\u001b[0m\u001b[0;34m.\u001b[0m\u001b[0mintc\u001b[0m\u001b[0;34m)\u001b[0m\u001b[0;34m:\u001b[0m\u001b[0;34m\u001b[0m\u001b[0;34m\u001b[0m\u001b[0m\n\u001b[1;32m    581\u001b[0m             \u001b[0;32mraise\u001b[0m \u001b[0mValueError\u001b[0m\u001b[0;34m(\u001b[0m\u001b[0;34m\"No support for np.int64 index based sparse matrices\"\u001b[0m\u001b[0;34m)\u001b[0m\u001b[0;34m\u001b[0m\u001b[0;34m\u001b[0m\u001b[0m\n",
      "\u001b[0;32m/opt/conda/lib/python3.7/site-packages/sklearn/base.py\u001b[0m in \u001b[0;36m_validate_data\u001b[0;34m(self, X, y, reset, validate_separately, **check_params)\u001b[0m\n\u001b[1;32m    583\u001b[0m \u001b[0;34m\u001b[0m\u001b[0m\n\u001b[1;32m    584\u001b[0m         \u001b[0;32mif\u001b[0m \u001b[0;32mnot\u001b[0m \u001b[0mno_val_X\u001b[0m \u001b[0;32mand\u001b[0m \u001b[0mcheck_params\u001b[0m\u001b[0;34m.\u001b[0m\u001b[0mget\u001b[0m\u001b[0;34m(\u001b[0m\u001b[0;34m\"ensure_2d\"\u001b[0m\u001b[0;34m,\u001b[0m \u001b[0;32mTrue\u001b[0m\u001b[0;34m)\u001b[0m\u001b[0;34m:\u001b[0m\u001b[0;34m\u001b[0m\u001b[0;34m\u001b[0m\u001b[0m\n\u001b[0;32m--> 585\u001b[0;31m             \u001b[0mself\u001b[0m\u001b[0;34m.\u001b[0m\u001b[0m_check_n_features\u001b[0m\u001b[0;34m(\u001b[0m\u001b[0mX\u001b[0m\u001b[0;34m,\u001b[0m \u001b[0mreset\u001b[0m\u001b[0;34m=\u001b[0m\u001b[0mreset\u001b[0m\u001b[0;34m)\u001b[0m\u001b[0;34m\u001b[0m\u001b[0;34m\u001b[0m\u001b[0m\n\u001b[0m\u001b[1;32m    586\u001b[0m \u001b[0;34m\u001b[0m\u001b[0m\n\u001b[1;32m    587\u001b[0m         \u001b[0;32mreturn\u001b[0m \u001b[0mout\u001b[0m\u001b[0;34m\u001b[0m\u001b[0;34m\u001b[0m\u001b[0m\n",
      "\u001b[0;32m/opt/conda/lib/python3.7/site-packages/sklearn/base.py\u001b[0m in \u001b[0;36m_check_n_features\u001b[0;34m(self, X, reset)\u001b[0m\n\u001b[1;32m    399\u001b[0m         \u001b[0;32mif\u001b[0m \u001b[0mn_features\u001b[0m \u001b[0;34m!=\u001b[0m \u001b[0mself\u001b[0m\u001b[0;34m.\u001b[0m\u001b[0mn_features_in_\u001b[0m\u001b[0;34m:\u001b[0m\u001b[0;34m\u001b[0m\u001b[0;34m\u001b[0m\u001b[0m\n\u001b[1;32m    400\u001b[0m             raise ValueError(\n\u001b[0;32m--> 401\u001b[0;31m                 \u001b[0;34mf\"X has {n_features} features, but {self.__class__.__name__} \"\u001b[0m\u001b[0;34m\u001b[0m\u001b[0;34m\u001b[0m\u001b[0m\n\u001b[0m\u001b[1;32m    402\u001b[0m                 \u001b[0;34mf\"is expecting {self.n_features_in_} features as input.\"\u001b[0m\u001b[0;34m\u001b[0m\u001b[0;34m\u001b[0m\u001b[0m\n\u001b[1;32m    403\u001b[0m             )\n",
      "\u001b[0;31mValueError\u001b[0m: X has 21 features, but RandomForestClassifier is expecting 22 features as input."
     ]
    }
   ],
   "source": [
    "base_model = RandomForestClassifier(n_estimators = 10, random_state = 42)\n",
    "base_model.fit(x_train_OverSample, y_train_OverSample)\n",
    "base_accuracy = evaluate(base_model, x_test, y_test)"
   ]
  },
  {
   "cell_type": "code",
   "execution_count": null,
   "id": "aa4058ad",
   "metadata": {},
   "outputs": [],
   "source": [
    "best_random = rf_random.best_estimator_\n",
    "random_accuracy = evaluate(best_random, x_test, y_test)"
   ]
  },
  {
   "cell_type": "code",
   "execution_count": null,
   "id": "58161959",
   "metadata": {},
   "outputs": [],
   "source": []
  },
  {
   "cell_type": "code",
   "execution_count": null,
   "id": "213704d9",
   "metadata": {},
   "outputs": [],
   "source": []
  },
  {
   "cell_type": "code",
   "execution_count": null,
   "id": "1fd6d856",
   "metadata": {},
   "outputs": [],
   "source": []
  },
  {
   "cell_type": "code",
   "execution_count": null,
   "id": "537b43ac",
   "metadata": {},
   "outputs": [],
   "source": []
  }
 ],
 "metadata": {
  "kernelspec": {
   "display_name": "Python 3",
   "language": "python",
   "name": "python3"
  },
  "language_info": {
   "codemirror_mode": {
    "name": "ipython",
    "version": 3
   },
   "file_extension": ".py",
   "mimetype": "text/x-python",
   "name": "python",
   "nbconvert_exporter": "python",
   "pygments_lexer": "ipython3",
   "version": "3.7.12"
  }
 },
 "nbformat": 4,
 "nbformat_minor": 5
}
