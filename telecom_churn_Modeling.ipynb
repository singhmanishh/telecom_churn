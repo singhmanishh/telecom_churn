{
 "cells": [
  {
   "cell_type": "code",
   "execution_count": 1,
   "id": "22d7f296",
   "metadata": {},
   "outputs": [
    {
     "name": "stdout",
     "output_type": "stream",
     "text": [
      "Requirement already satisfied: imbalanced-learn in /opt/conda/lib/python3.7/site-packages (0.9.0)\n",
      "Requirement already satisfied: threadpoolctl>=2.0.0 in /opt/conda/lib/python3.7/site-packages (from imbalanced-learn) (3.0.0)\n",
      "Requirement already satisfied: numpy>=1.14.6 in /opt/conda/lib/python3.7/site-packages (from imbalanced-learn) (1.21.4)\n",
      "Requirement already satisfied: scipy>=1.1.0 in /opt/conda/lib/python3.7/site-packages (from imbalanced-learn) (1.7.3)\n",
      "Requirement already satisfied: scikit-learn>=1.0.1 in /opt/conda/lib/python3.7/site-packages (from imbalanced-learn) (1.0.2)\n",
      "Requirement already satisfied: joblib>=0.11 in /opt/conda/lib/python3.7/site-packages (from imbalanced-learn) (1.1.0)\n",
      "\u001b[33mWARNING: You are using pip version 19.3.1; however, version 21.3.1 is available.\n",
      "You should consider upgrading via the 'pip install --upgrade pip' command.\u001b[0m\n"
     ]
    }
   ],
   "source": [
    "!pip3 install imbalanced-learn"
   ]
  },
  {
   "cell_type": "code",
   "execution_count": 2,
   "id": "95d61de8",
   "metadata": {},
   "outputs": [],
   "source": [
    "import warnings\n",
    "warnings.filterwarnings(\"ignore\")"
   ]
  },
  {
   "cell_type": "code",
   "execution_count": 3,
   "id": "5bee7984",
   "metadata": {
    "scrolled": true
   },
   "outputs": [],
   "source": [
    "from imblearn.over_sampling import RandomOverSampler, SMOTE"
   ]
  },
  {
   "cell_type": "code",
   "execution_count": 4,
   "id": "54cbef8c",
   "metadata": {},
   "outputs": [],
   "source": [
    "import numpy as np \n",
    "import pandas as pd\n",
    "from sklearn.model_selection import train_test_split\n",
    "from sklearn.model_selection import KFold, StratifiedKFold, RepeatedStratifiedKFold\n",
    "from sklearn.model_selection import cross_val_score, cross_val_predict\n",
    "from sklearn.model_selection import GridSearchCV, RandomizedSearchCV\n",
    "from sklearn.preprocessing import LabelEncoder\n",
    "from sklearn.preprocessing import StandardScaler\n",
    "from sklearn.preprocessing import MinMaxScaler\n",
    "from sklearn.preprocessing import RobustScaler"
   ]
  },
  {
   "cell_type": "code",
   "execution_count": 5,
   "id": "0569fb71",
   "metadata": {},
   "outputs": [],
   "source": [
    "from sklearn.tree import DecisionTreeClassifier\n",
    "from sklearn.neural_network import MLPClassifier\n",
    "from sklearn.neighbors import KNeighborsClassifier\n",
    "from sklearn.ensemble import ExtraTreesClassifier\n",
    "from sklearn.ensemble import GradientBoostingClassifier\n",
    "from sklearn.ensemble import RandomForestClassifier\n",
    "from sklearn.linear_model import LogisticRegression"
   ]
  },
  {
   "cell_type": "code",
   "execution_count": 6,
   "id": "45d04a11",
   "metadata": {},
   "outputs": [],
   "source": [
    "from sklearn.metrics import confusion_matrix, classification_report\n",
    "from sklearn.metrics import accuracy_score, f1_score,recall_score, precision_score\n",
    "from sklearn.metrics import average_precision_score, roc_auc_score, roc_curve, auc"
   ]
  },
  {
   "cell_type": "code",
   "execution_count": 7,
   "id": "535a6bb6",
   "metadata": {},
   "outputs": [],
   "source": [
    "df = pd.read_csv('telecom_churn_preprocess_data.csv')"
   ]
  },
  {
   "cell_type": "code",
   "execution_count": 8,
   "id": "fc2ddcb7",
   "metadata": {
    "scrolled": true
   },
   "outputs": [
    {
     "data": {
      "text/html": [
       "<div>\n",
       "<style scoped>\n",
       "    .dataframe tbody tr th:only-of-type {\n",
       "        vertical-align: middle;\n",
       "    }\n",
       "\n",
       "    .dataframe tbody tr th {\n",
       "        vertical-align: top;\n",
       "    }\n",
       "\n",
       "    .dataframe thead th {\n",
       "        text-align: right;\n",
       "    }\n",
       "</style>\n",
       "<table border=\"1\" class=\"dataframe\">\n",
       "  <thead>\n",
       "    <tr style=\"text-align: right;\">\n",
       "      <th></th>\n",
       "      <th>Unnamed: 0</th>\n",
       "      <th>gender</th>\n",
       "      <th>seniorcitizen</th>\n",
       "      <th>partner</th>\n",
       "      <th>dependents</th>\n",
       "      <th>tenure</th>\n",
       "      <th>phoneservice</th>\n",
       "      <th>multiplelines</th>\n",
       "      <th>internetservice</th>\n",
       "      <th>onlinesecurity</th>\n",
       "      <th>...</th>\n",
       "      <th>streamingmovies</th>\n",
       "      <th>paperlessbilling</th>\n",
       "      <th>monthlycharges</th>\n",
       "      <th>totalcharges</th>\n",
       "      <th>churn</th>\n",
       "      <th>contract_One year</th>\n",
       "      <th>contract_Two year</th>\n",
       "      <th>paymentmethod_Credit card (automatic)</th>\n",
       "      <th>paymentmethod_Electronic check</th>\n",
       "      <th>paymentmethod_Mailed check</th>\n",
       "    </tr>\n",
       "  </thead>\n",
       "  <tbody>\n",
       "    <tr>\n",
       "      <th>0</th>\n",
       "      <td>0</td>\n",
       "      <td>0</td>\n",
       "      <td>0</td>\n",
       "      <td>1</td>\n",
       "      <td>0</td>\n",
       "      <td>1</td>\n",
       "      <td>0</td>\n",
       "      <td>1</td>\n",
       "      <td>0</td>\n",
       "      <td>0</td>\n",
       "      <td>...</td>\n",
       "      <td>0</td>\n",
       "      <td>1</td>\n",
       "      <td>29.85</td>\n",
       "      <td>29</td>\n",
       "      <td>0</td>\n",
       "      <td>0</td>\n",
       "      <td>0</td>\n",
       "      <td>0</td>\n",
       "      <td>1</td>\n",
       "      <td>0</td>\n",
       "    </tr>\n",
       "    <tr>\n",
       "      <th>1</th>\n",
       "      <td>1</td>\n",
       "      <td>1</td>\n",
       "      <td>0</td>\n",
       "      <td>0</td>\n",
       "      <td>0</td>\n",
       "      <td>34</td>\n",
       "      <td>1</td>\n",
       "      <td>0</td>\n",
       "      <td>0</td>\n",
       "      <td>2</td>\n",
       "      <td>...</td>\n",
       "      <td>0</td>\n",
       "      <td>0</td>\n",
       "      <td>56.95</td>\n",
       "      <td>1889</td>\n",
       "      <td>0</td>\n",
       "      <td>1</td>\n",
       "      <td>0</td>\n",
       "      <td>0</td>\n",
       "      <td>0</td>\n",
       "      <td>1</td>\n",
       "    </tr>\n",
       "    <tr>\n",
       "      <th>2</th>\n",
       "      <td>2</td>\n",
       "      <td>1</td>\n",
       "      <td>0</td>\n",
       "      <td>0</td>\n",
       "      <td>0</td>\n",
       "      <td>2</td>\n",
       "      <td>1</td>\n",
       "      <td>0</td>\n",
       "      <td>0</td>\n",
       "      <td>2</td>\n",
       "      <td>...</td>\n",
       "      <td>0</td>\n",
       "      <td>1</td>\n",
       "      <td>53.85</td>\n",
       "      <td>108</td>\n",
       "      <td>1</td>\n",
       "      <td>0</td>\n",
       "      <td>0</td>\n",
       "      <td>0</td>\n",
       "      <td>0</td>\n",
       "      <td>1</td>\n",
       "    </tr>\n",
       "    <tr>\n",
       "      <th>3</th>\n",
       "      <td>3</td>\n",
       "      <td>1</td>\n",
       "      <td>0</td>\n",
       "      <td>0</td>\n",
       "      <td>0</td>\n",
       "      <td>45</td>\n",
       "      <td>0</td>\n",
       "      <td>1</td>\n",
       "      <td>0</td>\n",
       "      <td>2</td>\n",
       "      <td>...</td>\n",
       "      <td>0</td>\n",
       "      <td>0</td>\n",
       "      <td>42.30</td>\n",
       "      <td>1840</td>\n",
       "      <td>0</td>\n",
       "      <td>1</td>\n",
       "      <td>0</td>\n",
       "      <td>0</td>\n",
       "      <td>0</td>\n",
       "      <td>0</td>\n",
       "    </tr>\n",
       "    <tr>\n",
       "      <th>4</th>\n",
       "      <td>4</td>\n",
       "      <td>0</td>\n",
       "      <td>0</td>\n",
       "      <td>0</td>\n",
       "      <td>0</td>\n",
       "      <td>2</td>\n",
       "      <td>1</td>\n",
       "      <td>0</td>\n",
       "      <td>1</td>\n",
       "      <td>0</td>\n",
       "      <td>...</td>\n",
       "      <td>0</td>\n",
       "      <td>1</td>\n",
       "      <td>70.70</td>\n",
       "      <td>151</td>\n",
       "      <td>1</td>\n",
       "      <td>0</td>\n",
       "      <td>0</td>\n",
       "      <td>0</td>\n",
       "      <td>1</td>\n",
       "      <td>0</td>\n",
       "    </tr>\n",
       "  </tbody>\n",
       "</table>\n",
       "<p>5 rows × 24 columns</p>\n",
       "</div>"
      ],
      "text/plain": [
       "   Unnamed: 0  gender  seniorcitizen  partner  dependents  tenure  \\\n",
       "0           0       0              0        1           0       1   \n",
       "1           1       1              0        0           0      34   \n",
       "2           2       1              0        0           0       2   \n",
       "3           3       1              0        0           0      45   \n",
       "4           4       0              0        0           0       2   \n",
       "\n",
       "   phoneservice  multiplelines  internetservice  onlinesecurity  ...  \\\n",
       "0             0              1                0               0  ...   \n",
       "1             1              0                0               2  ...   \n",
       "2             1              0                0               2  ...   \n",
       "3             0              1                0               2  ...   \n",
       "4             1              0                1               0  ...   \n",
       "\n",
       "   streamingmovies  paperlessbilling  monthlycharges  totalcharges  churn  \\\n",
       "0                0                 1           29.85            29      0   \n",
       "1                0                 0           56.95          1889      0   \n",
       "2                0                 1           53.85           108      1   \n",
       "3                0                 0           42.30          1840      0   \n",
       "4                0                 1           70.70           151      1   \n",
       "\n",
       "   contract_One year  contract_Two year  \\\n",
       "0                  0                  0   \n",
       "1                  1                  0   \n",
       "2                  0                  0   \n",
       "3                  1                  0   \n",
       "4                  0                  0   \n",
       "\n",
       "   paymentmethod_Credit card (automatic)  paymentmethod_Electronic check  \\\n",
       "0                                      0                               1   \n",
       "1                                      0                               0   \n",
       "2                                      0                               0   \n",
       "3                                      0                               0   \n",
       "4                                      0                               1   \n",
       "\n",
       "   paymentmethod_Mailed check  \n",
       "0                           0  \n",
       "1                           1  \n",
       "2                           1  \n",
       "3                           0  \n",
       "4                           0  \n",
       "\n",
       "[5 rows x 24 columns]"
      ]
     },
     "execution_count": 8,
     "metadata": {},
     "output_type": "execute_result"
    }
   ],
   "source": [
    "df.head()"
   ]
  },
  {
   "cell_type": "code",
   "execution_count": 9,
   "id": "2a011136",
   "metadata": {},
   "outputs": [],
   "source": [
    "df.drop('Unnamed: 0', axis=1, inplace=True)"
   ]
  },
  {
   "cell_type": "code",
   "execution_count": 10,
   "id": "a2d6c33c",
   "metadata": {},
   "outputs": [],
   "source": [
    "x = df.drop(\"churn\", axis = 1)\n",
    "y = df['churn']"
   ]
  },
  {
   "cell_type": "code",
   "execution_count": 11,
   "id": "33b39e01",
   "metadata": {},
   "outputs": [
    {
     "name": "stdout",
     "output_type": "stream",
     "text": [
      "0    4131\n",
      "1    1485\n",
      "Name: churn, dtype: int64\n"
     ]
    }
   ],
   "source": [
    "x_train, x_test, y_train, y_test = train_test_split(x, y, random_state =100 ,stratify=y, test_size = 0.2)\n",
    "print(y_train.value_counts())"
   ]
  },
  {
   "cell_type": "code",
   "execution_count": 12,
   "id": "d509777b",
   "metadata": {},
   "outputs": [],
   "source": [
    "#Fit basic model on imbalanced dataset\n",
    "DT = DecisionTreeClassifier(random_state=0)\n",
    "cross_val_DT = cross_val_score(DT, x_train, y_train , scoring = 'accuracy' ) \n",
    "cross_val_DT_f1 = cross_val_score(DT, x_train, y_train , scoring = 'f1') \n",
    "\n",
    "RF = RandomForestClassifier(random_state=0)\n",
    "cross_val_RF = cross_val_score(RF, x_train, y_train , scoring = 'accuracy' ) \n",
    "cross_val_RF_f1 = cross_val_score(RF, x_train, y_train , scoring = 'f1') \n",
    "\n",
    "ET = ExtraTreesClassifier(random_state=0)\n",
    "cross_val_ET = cross_val_score(ET, x_train, y_train , scoring = 'accuracy' ) \n",
    "cross_val_ET_f1 = cross_val_score(ET, x_train, y_train , scoring = 'f1') \n",
    "\n",
    "MLP = MLPClassifier(random_state=0)\n",
    "cross_val_MLP = cross_val_score(MLP, x_train, y_train , scoring = 'accuracy' ) \n",
    "cross_val_MLP_f1 = cross_val_score(MLP, x_train, y_train , scoring = 'f1') \n",
    "\n",
    "GB = GradientBoostingClassifier(random_state=0)\n",
    "cross_val_GB = cross_val_score(GB, x_train, y_train , scoring = 'accuracy' ) \n",
    "cross_val_GB_f1 = cross_val_score(GB, x_train, y_train , scoring = 'f1') \n",
    "\n",
    "LR = LogisticRegression(random_state=0)\n",
    "cross_val_LR = cross_val_score(LR, x_train, y_train , scoring = 'accuracy' ) \n",
    "cross_val_LR_f1 = cross_val_score(LR, x_train, y_train , scoring = 'f1') \n",
    "\n",
    "KNN = KNeighborsClassifier()\n",
    "cross_val_KNN = cross_val_score(KNN, x_train, y_train , scoring = 'accuracy' ) \n",
    "cross_val_KNN_f1 = cross_val_score(KNN, x_train, y_train , scoring = 'f1') "
   ]
  },
  {
   "cell_type": "code",
   "execution_count": 13,
   "id": "9b1e4219",
   "metadata": {},
   "outputs": [],
   "source": [
    "compare_models = [('Decision Tree', cross_val_DT.mean(),cross_val_DT_f1.mean()),\n",
    "                  ('Random Forest', cross_val_RF.mean(),cross_val_RF_f1.mean()),\n",
    "                  ('Neural Network', cross_val_MLP.mean(),cross_val_MLP_f1.mean()),\n",
    "                  ('Extra Tree', cross_val_ET.mean(),cross_val_ET_f1.mean()),\n",
    "                  ('GradientBoosting', cross_val_GB.mean(),cross_val_GB_f1.mean()),\n",
    "                  ('Logistic Regression', cross_val_LR.mean(),cross_val_LR_f1.mean()),\n",
    "                  ('KNN', cross_val_KNN.mean(), cross_val_KNN_f1.mean())]"
   ]
  },
  {
   "cell_type": "code",
   "execution_count": 14,
   "id": "6d2b5780",
   "metadata": {},
   "outputs": [
    {
     "data": {
      "text/html": [
       "<style  type=\"text/css\" >\n",
       "#T_9b02a0b4_7b67_11ec_b129_be6bb5fc8205row0_col1,#T_9b02a0b4_7b67_11ec_b129_be6bb5fc8205row0_col2{\n",
       "            background-color:  #ffffe5;\n",
       "            color:  #000000;\n",
       "        }#T_9b02a0b4_7b67_11ec_b129_be6bb5fc8205row1_col1{\n",
       "            background-color:  #1d7f41;\n",
       "            color:  #f1f1f1;\n",
       "        }#T_9b02a0b4_7b67_11ec_b129_be6bb5fc8205row1_col2{\n",
       "            background-color:  #8ed082;\n",
       "            color:  #000000;\n",
       "        }#T_9b02a0b4_7b67_11ec_b129_be6bb5fc8205row2_col1{\n",
       "            background-color:  #f7fcba;\n",
       "            color:  #000000;\n",
       "        }#T_9b02a0b4_7b67_11ec_b129_be6bb5fc8205row2_col2{\n",
       "            background-color:  #e5f5ac;\n",
       "            color:  #000000;\n",
       "        }#T_9b02a0b4_7b67_11ec_b129_be6bb5fc8205row3_col1{\n",
       "            background-color:  #40aa5c;\n",
       "            color:  #000000;\n",
       "        }#T_9b02a0b4_7b67_11ec_b129_be6bb5fc8205row3_col2{\n",
       "            background-color:  #bee596;\n",
       "            color:  #000000;\n",
       "        }#T_9b02a0b4_7b67_11ec_b129_be6bb5fc8205row4_col1,#T_9b02a0b4_7b67_11ec_b129_be6bb5fc8205row5_col2{\n",
       "            background-color:  #004529;\n",
       "            color:  #f1f1f1;\n",
       "        }#T_9b02a0b4_7b67_11ec_b129_be6bb5fc8205row4_col2{\n",
       "            background-color:  #005f34;\n",
       "            color:  #f1f1f1;\n",
       "        }#T_9b02a0b4_7b67_11ec_b129_be6bb5fc8205row5_col1{\n",
       "            background-color:  #004d2c;\n",
       "            color:  #f1f1f1;\n",
       "        }#T_9b02a0b4_7b67_11ec_b129_be6bb5fc8205row6_col1{\n",
       "            background-color:  #6dc073;\n",
       "            color:  #000000;\n",
       "        }#T_9b02a0b4_7b67_11ec_b129_be6bb5fc8205row6_col2{\n",
       "            background-color:  #fbfed0;\n",
       "            color:  #000000;\n",
       "        }</style><table id=\"T_9b02a0b4_7b67_11ec_b129_be6bb5fc8205\" ><thead>    <tr>        <th class=\"blank level0\" ></th>        <th class=\"col_heading level0 col0\" >Model</th>        <th class=\"col_heading level0 col1\" >Cross_validation_mean(accuracy)</th>        <th class=\"col_heading level0 col2\" >Cross_validation_mean(f1_score)</th>    </tr></thead><tbody>\n",
       "                <tr>\n",
       "                        <th id=\"T_9b02a0b4_7b67_11ec_b129_be6bb5fc8205level0_row0\" class=\"row_heading level0 row0\" >0</th>\n",
       "                        <td id=\"T_9b02a0b4_7b67_11ec_b129_be6bb5fc8205row0_col0\" class=\"data row0 col0\" >Decision Tree</td>\n",
       "                        <td id=\"T_9b02a0b4_7b67_11ec_b129_be6bb5fc8205row0_col1\" class=\"data row0 col1\" >0.725424</td>\n",
       "                        <td id=\"T_9b02a0b4_7b67_11ec_b129_be6bb5fc8205row0_col2\" class=\"data row0 col2\" >0.488599</td>\n",
       "            </tr>\n",
       "            <tr>\n",
       "                        <th id=\"T_9b02a0b4_7b67_11ec_b129_be6bb5fc8205level0_row1\" class=\"row_heading level0 row1\" >1</th>\n",
       "                        <td id=\"T_9b02a0b4_7b67_11ec_b129_be6bb5fc8205row1_col0\" class=\"data row1 col0\" >Random Forest</td>\n",
       "                        <td id=\"T_9b02a0b4_7b67_11ec_b129_be6bb5fc8205row1_col1\" class=\"data row1 col1\" >0.781516</td>\n",
       "                        <td id=\"T_9b02a0b4_7b67_11ec_b129_be6bb5fc8205row1_col2\" class=\"data row1 col2\" >0.525964</td>\n",
       "            </tr>\n",
       "            <tr>\n",
       "                        <th id=\"T_9b02a0b4_7b67_11ec_b129_be6bb5fc8205level0_row2\" class=\"row_heading level0 row2\" >2</th>\n",
       "                        <td id=\"T_9b02a0b4_7b67_11ec_b129_be6bb5fc8205row2_col0\" class=\"data row2 col0\" >Neural Network</td>\n",
       "                        <td id=\"T_9b02a0b4_7b67_11ec_b129_be6bb5fc8205row2_col1\" class=\"data row2 col1\" >0.734497</td>\n",
       "                        <td id=\"T_9b02a0b4_7b67_11ec_b129_be6bb5fc8205row2_col2\" class=\"data row2 col2\" >0.505411</td>\n",
       "            </tr>\n",
       "            <tr>\n",
       "                        <th id=\"T_9b02a0b4_7b67_11ec_b129_be6bb5fc8205level0_row3\" class=\"row_heading level0 row3\" >3</th>\n",
       "                        <td id=\"T_9b02a0b4_7b67_11ec_b129_be6bb5fc8205row3_col0\" class=\"data row3 col0\" >Extra Tree</td>\n",
       "                        <td id=\"T_9b02a0b4_7b67_11ec_b129_be6bb5fc8205row3_col1\" class=\"data row3 col1\" >0.771012</td>\n",
       "                        <td id=\"T_9b02a0b4_7b67_11ec_b129_be6bb5fc8205row3_col2\" class=\"data row3 col2\" >0.515680</td>\n",
       "            </tr>\n",
       "            <tr>\n",
       "                        <th id=\"T_9b02a0b4_7b67_11ec_b129_be6bb5fc8205level0_row4\" class=\"row_heading level0 row4\" >4</th>\n",
       "                        <td id=\"T_9b02a0b4_7b67_11ec_b129_be6bb5fc8205row4_col0\" class=\"data row4 col0\" >GradientBoosting</td>\n",
       "                        <td id=\"T_9b02a0b4_7b67_11ec_b129_be6bb5fc8205row4_col1\" class=\"data row4 col1\" >0.798075</td>\n",
       "                        <td id=\"T_9b02a0b4_7b67_11ec_b129_be6bb5fc8205row4_col2\" class=\"data row4 col2\" >0.564039</td>\n",
       "            </tr>\n",
       "            <tr>\n",
       "                        <th id=\"T_9b02a0b4_7b67_11ec_b129_be6bb5fc8205level0_row5\" class=\"row_heading level0 row5\" >5</th>\n",
       "                        <td id=\"T_9b02a0b4_7b67_11ec_b129_be6bb5fc8205row5_col0\" class=\"data row5 col0\" >Logistic Regression</td>\n",
       "                        <td id=\"T_9b02a0b4_7b67_11ec_b129_be6bb5fc8205row5_col1\" class=\"data row5 col1\" >0.795937</td>\n",
       "                        <td id=\"T_9b02a0b4_7b67_11ec_b129_be6bb5fc8205row5_col2\" class=\"data row5 col2\" >0.572056</td>\n",
       "            </tr>\n",
       "            <tr>\n",
       "                        <th id=\"T_9b02a0b4_7b67_11ec_b129_be6bb5fc8205level0_row6\" class=\"row_heading level0 row6\" >6</th>\n",
       "                        <td id=\"T_9b02a0b4_7b67_11ec_b129_be6bb5fc8205row6_col0\" class=\"data row6 col0\" >KNN</td>\n",
       "                        <td id=\"T_9b02a0b4_7b67_11ec_b129_be6bb5fc8205row6_col1\" class=\"data row6 col1\" >0.763530</td>\n",
       "                        <td id=\"T_9b02a0b4_7b67_11ec_b129_be6bb5fc8205row6_col2\" class=\"data row6 col2\" >0.493781</td>\n",
       "            </tr>\n",
       "    </tbody></table>"
      ],
      "text/plain": [
       "<pandas.io.formats.style.Styler at 0x7fb9b2a50950>"
      ]
     },
     "execution_count": 14,
     "metadata": {},
     "output_type": "execute_result"
    }
   ],
   "source": [
    "predict = pd.DataFrame(data = compare_models, \n",
    "                       columns=['Model','Cross_validation_mean(accuracy)', 'Cross_validation_mean(f1_score)'])\n",
    "predict.style.background_gradient(cmap='YlGn')"
   ]
  },
  {
   "cell_type": "code",
   "execution_count": null,
   "id": "5ee3690d",
   "metadata": {},
   "outputs": [],
   "source": []
  },
  {
   "cell_type": "code",
   "execution_count": 15,
   "id": "0eee3a38",
   "metadata": {},
   "outputs": [
    {
     "name": "stdout",
     "output_type": "stream",
     "text": [
      "Accuracy score:  0.8092526690391459\n"
     ]
    }
   ],
   "source": [
    "RF = RandomForestClassifier()\n",
    "RF.fit(x_train, y_train)\n",
    "y_pred = RF.predict(x_test)\n",
    "print (\"Accuracy score: \", accuracy_score(y_test, y_pred))"
   ]
  },
  {
   "cell_type": "code",
   "execution_count": 16,
   "id": "3a67e39a",
   "metadata": {},
   "outputs": [],
   "source": [
    "#Random OverSample\n",
    "x_train_Sample = x_train.copy()\n",
    "y_train_Sample = y_train.copy()\n",
    "\n",
    "randOverSample = RandomOverSampler(random_state=100,)\n",
    "x_train_OverSample, y_train_OverSample = randOverSample.fit_resample(x_train_Sample, y_train_Sample.ravel())"
   ]
  },
  {
   "cell_type": "code",
   "execution_count": null,
   "id": "a1b4f2a2",
   "metadata": {},
   "outputs": [],
   "source": []
  },
  {
   "cell_type": "code",
   "execution_count": null,
   "id": "918ccacc",
   "metadata": {},
   "outputs": [],
   "source": []
  },
  {
   "cell_type": "code",
   "execution_count": null,
   "id": "d8fc7854",
   "metadata": {},
   "outputs": [],
   "source": []
  },
  {
   "cell_type": "code",
   "execution_count": null,
   "id": "35882a0c",
   "metadata": {},
   "outputs": [],
   "source": []
  },
  {
   "cell_type": "code",
   "execution_count": null,
   "id": "99c4d668",
   "metadata": {},
   "outputs": [],
   "source": []
  },
  {
   "cell_type": "code",
   "execution_count": null,
   "id": "f3420275",
   "metadata": {},
   "outputs": [],
   "source": []
  },
  {
   "cell_type": "code",
   "execution_count": null,
   "id": "46f19ee6",
   "metadata": {},
   "outputs": [],
   "source": []
  },
  {
   "cell_type": "code",
   "execution_count": null,
   "id": "a1fa0ac2",
   "metadata": {},
   "outputs": [],
   "source": []
  },
  {
   "cell_type": "code",
   "execution_count": null,
   "id": "e8cf7f87",
   "metadata": {},
   "outputs": [],
   "source": []
  },
  {
   "cell_type": "code",
   "execution_count": null,
   "id": "ce27eef9",
   "metadata": {},
   "outputs": [],
   "source": []
  },
  {
   "cell_type": "code",
   "execution_count": null,
   "id": "fc3ff729",
   "metadata": {},
   "outputs": [],
   "source": []
  },
  {
   "cell_type": "code",
   "execution_count": null,
   "id": "e5fe0440",
   "metadata": {},
   "outputs": [],
   "source": []
  },
  {
   "cell_type": "code",
   "execution_count": null,
   "id": "8de4b101",
   "metadata": {},
   "outputs": [],
   "source": []
  },
  {
   "cell_type": "code",
   "execution_count": null,
   "id": "043b48f8",
   "metadata": {},
   "outputs": [],
   "source": []
  },
  {
   "cell_type": "code",
   "execution_count": null,
   "id": "45f7b1a3",
   "metadata": {},
   "outputs": [],
   "source": []
  },
  {
   "cell_type": "code",
   "execution_count": null,
   "id": "a53e4bb7",
   "metadata": {},
   "outputs": [],
   "source": []
  },
  {
   "cell_type": "code",
   "execution_count": null,
   "id": "73596a9b",
   "metadata": {},
   "outputs": [],
   "source": []
  },
  {
   "cell_type": "code",
   "execution_count": null,
   "id": "0a86997e",
   "metadata": {},
   "outputs": [],
   "source": []
  }
 ],
 "metadata": {
  "kernelspec": {
   "display_name": "Python 3",
   "language": "python",
   "name": "python3"
  },
  "language_info": {
   "codemirror_mode": {
    "name": "ipython",
    "version": 3
   },
   "file_extension": ".py",
   "mimetype": "text/x-python",
   "name": "python",
   "nbconvert_exporter": "python",
   "pygments_lexer": "ipython3",
   "version": "3.7.12"
  }
 },
 "nbformat": 4,
 "nbformat_minor": 5
}
