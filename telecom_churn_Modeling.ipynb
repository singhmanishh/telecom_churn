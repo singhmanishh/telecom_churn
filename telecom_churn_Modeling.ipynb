{
 "cells": [
  {
   "cell_type": "code",
   "execution_count": 1,
   "id": "273f4a45",
   "metadata": {
    "scrolled": true
   },
   "outputs": [
    {
     "name": "stdout",
     "output_type": "stream",
     "text": [
      "Collecting imbalanced-learn\n",
      "\u001b[?25l  Downloading https://files.pythonhosted.org/packages/83/92/a4d1f42b29e9f62f9c3fad68d28282a9610a02801e1d89945702f981dd8e/imbalanced_learn-0.9.0-py3-none-any.whl (199kB)\n",
      "\u001b[K     |████████████████████████████████| 204kB 22.3MB/s eta 0:00:01\n",
      "\u001b[?25hRequirement already satisfied: joblib>=0.11 in /opt/conda/lib/python3.7/site-packages (from imbalanced-learn) (1.1.0)\n",
      "Requirement already satisfied: threadpoolctl>=2.0.0 in /opt/conda/lib/python3.7/site-packages (from imbalanced-learn) (3.0.0)\n",
      "Requirement already satisfied: numpy>=1.14.6 in /opt/conda/lib/python3.7/site-packages (from imbalanced-learn) (1.21.4)\n",
      "Collecting scikit-learn>=1.0.1\n",
      "\u001b[?25l  Downloading https://files.pythonhosted.org/packages/bd/05/e561bc99a615b5c099c7a9355409e5e57c525a108f1c2e156abb005b90a6/scikit_learn-1.0.2-cp37-cp37m-manylinux_2_17_x86_64.manylinux2014_x86_64.whl (24.8MB)\n",
      "\u001b[K     |████████████████████████████████| 24.8MB 71.6MB/s eta 0:00:01\n",
      "\u001b[?25hRequirement already satisfied: scipy>=1.1.0 in /opt/conda/lib/python3.7/site-packages (from imbalanced-learn) (1.7.3)\n",
      "\u001b[31mERROR: mosaic-connector-python 1.0.0 has requirement nltk==3.3, but you'll have nltk 3.5 which is incompatible.\u001b[0m\n",
      "\u001b[31mERROR: mosaic-connector-python 1.0.0 has requirement numpy==1.16.1, but you'll have numpy 1.21.4 which is incompatible.\u001b[0m\n",
      "\u001b[31mERROR: mosaic-connector-python 1.0.0 has requirement pandas==1.0.4, but you'll have pandas 1.1.4 which is incompatible.\u001b[0m\n",
      "\u001b[31mERROR: mosaic-connector-python 1.0.0 has requirement scikit-learn==0.24.2, but you'll have scikit-learn 1.0.2 which is incompatible.\u001b[0m\n",
      "\u001b[31mERROR: kyd 0.1.10 has requirement bokeh==2.3.3, but you'll have bokeh 2.1.1 which is incompatible.\u001b[0m\n",
      "\u001b[31mERROR: kyd 0.1.10 has requirement matplotlib==3.3.4, but you'll have matplotlib 3.1.1 which is incompatible.\u001b[0m\n",
      "\u001b[31mERROR: kyd 0.1.10 has requirement nltk==3.6.2, but you'll have nltk 3.5 which is incompatible.\u001b[0m\n",
      "\u001b[31mERROR: kyd 0.1.10 has requirement numpy==1.19.2, but you'll have numpy 1.21.4 which is incompatible.\u001b[0m\n",
      "\u001b[31mERROR: kyd 0.1.10 has requirement pandas==1.1.5, but you'll have pandas 1.1.4 which is incompatible.\u001b[0m\n",
      "\u001b[31mERROR: kyd 0.1.10 has requirement scikit-learn==0.24.2, but you'll have scikit-learn 1.0.2 which is incompatible.\u001b[0m\n",
      "Installing collected packages: scikit-learn, imbalanced-learn\n",
      "  Found existing installation: scikit-learn 0.21.3\n",
      "    Uninstalling scikit-learn-0.21.3:\n",
      "      Successfully uninstalled scikit-learn-0.21.3\n",
      "Successfully installed imbalanced-learn-0.9.0 scikit-learn-1.0.2\n",
      "\u001b[33mWARNING: You are using pip version 19.3.1; however, version 21.3.1 is available.\n",
      "You should consider upgrading via the 'pip install --upgrade pip' command.\u001b[0m\n"
     ]
    }
   ],
   "source": [
    "!pip3 install imbalanced-learn"
   ]
  },
  {
   "cell_type": "code",
   "execution_count": 75,
   "id": "9cde96b4",
   "metadata": {},
   "outputs": [
    {
     "name": "stdout",
     "output_type": "stream",
     "text": [
      "Requirement already up-to-date: scikit-learn in /opt/conda/lib/python3.7/site-packages (1.0.2)\n",
      "Requirement already satisfied, skipping upgrade: scipy>=1.1.0 in /opt/conda/lib/python3.7/site-packages (from scikit-learn) (1.7.3)\n",
      "Requirement already satisfied, skipping upgrade: threadpoolctl>=2.0.0 in /opt/conda/lib/python3.7/site-packages (from scikit-learn) (3.0.0)\n",
      "Requirement already satisfied, skipping upgrade: joblib>=0.11 in /opt/conda/lib/python3.7/site-packages (from scikit-learn) (1.1.0)\n",
      "Requirement already satisfied, skipping upgrade: numpy>=1.14.6 in /opt/conda/lib/python3.7/site-packages (from scikit-learn) (1.21.4)\n",
      "\u001b[33mWARNING: You are using pip version 19.3.1; however, version 21.3.1 is available.\n",
      "You should consider upgrading via the 'pip install --upgrade pip' command.\u001b[0m\n"
     ]
    }
   ],
   "source": [
    "!pip install -U scikit-learn"
   ]
  },
  {
   "cell_type": "code",
   "execution_count": 76,
   "id": "18588089",
   "metadata": {},
   "outputs": [
    {
     "data": {
      "text/plain": [
       "'1.0.2'"
      ]
     },
     "execution_count": 76,
     "metadata": {},
     "output_type": "execute_result"
    }
   ],
   "source": [
    "import sklearn\n",
    "sklearn.__version__"
   ]
  },
  {
   "cell_type": "code",
   "execution_count": 2,
   "id": "d1df4801",
   "metadata": {},
   "outputs": [],
   "source": [
    "import warnings\n",
    "warnings.filterwarnings(\"ignore\")"
   ]
  },
  {
   "cell_type": "code",
   "execution_count": 77,
   "id": "74c73ba4",
   "metadata": {},
   "outputs": [],
   "source": [
    "from connector.mosaicio import MosaicioConnector\n",
    "ioConnector = MosaicioConnector()"
   ]
  },
  {
   "cell_type": "code",
   "execution_count": 3,
   "id": "36891999",
   "metadata": {
    "scrolled": true
   },
   "outputs": [],
   "source": [
    "from imblearn.over_sampling import RandomOverSampler, SMOTE"
   ]
  },
  {
   "cell_type": "code",
   "execution_count": 87,
   "id": "d9e24ee6",
   "metadata": {},
   "outputs": [],
   "source": [
    "import numpy as np \n",
    "import pandas as pd\n",
    "import matplotlib.pyplot as plt\n",
    "from sklearn.model_selection import train_test_split\n",
    "from sklearn.model_selection import KFold, StratifiedKFold, RepeatedStratifiedKFold\n",
    "from sklearn.model_selection import cross_val_score, cross_val_predict\n",
    "from sklearn.model_selection import GridSearchCV, RandomizedSearchCV\n",
    "from sklearn.preprocessing import LabelEncoder\n",
    "from sklearn.preprocessing import StandardScaler\n",
    "from sklearn.preprocessing import MinMaxScaler\n",
    "from sklearn.preprocessing import RobustScaler"
   ]
  },
  {
   "cell_type": "code",
   "execution_count": 5,
   "id": "545fa0be",
   "metadata": {},
   "outputs": [],
   "source": [
    "from sklearn.tree import DecisionTreeClassifier\n",
    "from sklearn.neural_network import MLPClassifier\n",
    "from sklearn.neighbors import KNeighborsClassifier\n",
    "from sklearn.ensemble import ExtraTreesClassifier\n",
    "from sklearn.ensemble import GradientBoostingClassifier\n",
    "from sklearn.ensemble import RandomForestClassifier\n",
    "from sklearn.linear_model import LogisticRegression"
   ]
  },
  {
   "cell_type": "code",
   "execution_count": 6,
   "id": "736ba317",
   "metadata": {},
   "outputs": [],
   "source": [
    "from sklearn.metrics import confusion_matrix, classification_report\n",
    "from sklearn.metrics import accuracy_score, f1_score,recall_score, precision_score\n",
    "from sklearn.metrics import average_precision_score, roc_auc_score, roc_curve, auc"
   ]
  },
  {
   "cell_type": "code",
   "execution_count": 7,
   "id": "a3ea5583",
   "metadata": {},
   "outputs": [],
   "source": [
    "from statsmodels.stats.outliers_influence import variance_inflation_factor"
   ]
  },
  {
   "cell_type": "code",
   "execution_count": 8,
   "id": "d7bc55a5",
   "metadata": {},
   "outputs": [],
   "source": [
    "df = pd.read_csv('telecom_churn_preprocess_data.csv')"
   ]
  },
  {
   "cell_type": "code",
   "execution_count": 9,
   "id": "578dfeb7",
   "metadata": {
    "scrolled": true
   },
   "outputs": [
    {
     "data": {
      "text/html": [
       "<div>\n",
       "<style scoped>\n",
       "    .dataframe tbody tr th:only-of-type {\n",
       "        vertical-align: middle;\n",
       "    }\n",
       "\n",
       "    .dataframe tbody tr th {\n",
       "        vertical-align: top;\n",
       "    }\n",
       "\n",
       "    .dataframe thead th {\n",
       "        text-align: right;\n",
       "    }\n",
       "</style>\n",
       "<table border=\"1\" class=\"dataframe\">\n",
       "  <thead>\n",
       "    <tr style=\"text-align: right;\">\n",
       "      <th></th>\n",
       "      <th>Unnamed: 0</th>\n",
       "      <th>gender</th>\n",
       "      <th>seniorcitizen</th>\n",
       "      <th>partner</th>\n",
       "      <th>dependents</th>\n",
       "      <th>tenure</th>\n",
       "      <th>phoneservice</th>\n",
       "      <th>multiplelines</th>\n",
       "      <th>internetservice</th>\n",
       "      <th>onlinesecurity</th>\n",
       "      <th>...</th>\n",
       "      <th>streamingmovies</th>\n",
       "      <th>paperlessbilling</th>\n",
       "      <th>monthlycharges</th>\n",
       "      <th>totalcharges</th>\n",
       "      <th>churn</th>\n",
       "      <th>contract_One year</th>\n",
       "      <th>contract_Two year</th>\n",
       "      <th>paymentmethod_Credit card (automatic)</th>\n",
       "      <th>paymentmethod_Electronic check</th>\n",
       "      <th>paymentmethod_Mailed check</th>\n",
       "    </tr>\n",
       "  </thead>\n",
       "  <tbody>\n",
       "    <tr>\n",
       "      <th>0</th>\n",
       "      <td>0</td>\n",
       "      <td>0</td>\n",
       "      <td>0</td>\n",
       "      <td>1</td>\n",
       "      <td>0</td>\n",
       "      <td>1</td>\n",
       "      <td>0</td>\n",
       "      <td>1</td>\n",
       "      <td>0</td>\n",
       "      <td>0</td>\n",
       "      <td>...</td>\n",
       "      <td>0</td>\n",
       "      <td>1</td>\n",
       "      <td>29.85</td>\n",
       "      <td>29</td>\n",
       "      <td>0</td>\n",
       "      <td>0</td>\n",
       "      <td>0</td>\n",
       "      <td>0</td>\n",
       "      <td>1</td>\n",
       "      <td>0</td>\n",
       "    </tr>\n",
       "    <tr>\n",
       "      <th>1</th>\n",
       "      <td>1</td>\n",
       "      <td>1</td>\n",
       "      <td>0</td>\n",
       "      <td>0</td>\n",
       "      <td>0</td>\n",
       "      <td>34</td>\n",
       "      <td>1</td>\n",
       "      <td>0</td>\n",
       "      <td>0</td>\n",
       "      <td>2</td>\n",
       "      <td>...</td>\n",
       "      <td>0</td>\n",
       "      <td>0</td>\n",
       "      <td>56.95</td>\n",
       "      <td>1889</td>\n",
       "      <td>0</td>\n",
       "      <td>1</td>\n",
       "      <td>0</td>\n",
       "      <td>0</td>\n",
       "      <td>0</td>\n",
       "      <td>1</td>\n",
       "    </tr>\n",
       "    <tr>\n",
       "      <th>2</th>\n",
       "      <td>2</td>\n",
       "      <td>1</td>\n",
       "      <td>0</td>\n",
       "      <td>0</td>\n",
       "      <td>0</td>\n",
       "      <td>2</td>\n",
       "      <td>1</td>\n",
       "      <td>0</td>\n",
       "      <td>0</td>\n",
       "      <td>2</td>\n",
       "      <td>...</td>\n",
       "      <td>0</td>\n",
       "      <td>1</td>\n",
       "      <td>53.85</td>\n",
       "      <td>108</td>\n",
       "      <td>1</td>\n",
       "      <td>0</td>\n",
       "      <td>0</td>\n",
       "      <td>0</td>\n",
       "      <td>0</td>\n",
       "      <td>1</td>\n",
       "    </tr>\n",
       "    <tr>\n",
       "      <th>3</th>\n",
       "      <td>3</td>\n",
       "      <td>1</td>\n",
       "      <td>0</td>\n",
       "      <td>0</td>\n",
       "      <td>0</td>\n",
       "      <td>45</td>\n",
       "      <td>0</td>\n",
       "      <td>1</td>\n",
       "      <td>0</td>\n",
       "      <td>2</td>\n",
       "      <td>...</td>\n",
       "      <td>0</td>\n",
       "      <td>0</td>\n",
       "      <td>42.30</td>\n",
       "      <td>1840</td>\n",
       "      <td>0</td>\n",
       "      <td>1</td>\n",
       "      <td>0</td>\n",
       "      <td>0</td>\n",
       "      <td>0</td>\n",
       "      <td>0</td>\n",
       "    </tr>\n",
       "    <tr>\n",
       "      <th>4</th>\n",
       "      <td>4</td>\n",
       "      <td>0</td>\n",
       "      <td>0</td>\n",
       "      <td>0</td>\n",
       "      <td>0</td>\n",
       "      <td>2</td>\n",
       "      <td>1</td>\n",
       "      <td>0</td>\n",
       "      <td>1</td>\n",
       "      <td>0</td>\n",
       "      <td>...</td>\n",
       "      <td>0</td>\n",
       "      <td>1</td>\n",
       "      <td>70.70</td>\n",
       "      <td>151</td>\n",
       "      <td>1</td>\n",
       "      <td>0</td>\n",
       "      <td>0</td>\n",
       "      <td>0</td>\n",
       "      <td>1</td>\n",
       "      <td>0</td>\n",
       "    </tr>\n",
       "  </tbody>\n",
       "</table>\n",
       "<p>5 rows × 24 columns</p>\n",
       "</div>"
      ],
      "text/plain": [
       "   Unnamed: 0  gender  seniorcitizen  partner  dependents  tenure  \\\n",
       "0           0       0              0        1           0       1   \n",
       "1           1       1              0        0           0      34   \n",
       "2           2       1              0        0           0       2   \n",
       "3           3       1              0        0           0      45   \n",
       "4           4       0              0        0           0       2   \n",
       "\n",
       "   phoneservice  multiplelines  internetservice  onlinesecurity  ...  \\\n",
       "0             0              1                0               0  ...   \n",
       "1             1              0                0               2  ...   \n",
       "2             1              0                0               2  ...   \n",
       "3             0              1                0               2  ...   \n",
       "4             1              0                1               0  ...   \n",
       "\n",
       "   streamingmovies  paperlessbilling  monthlycharges  totalcharges  churn  \\\n",
       "0                0                 1           29.85            29      0   \n",
       "1                0                 0           56.95          1889      0   \n",
       "2                0                 1           53.85           108      1   \n",
       "3                0                 0           42.30          1840      0   \n",
       "4                0                 1           70.70           151      1   \n",
       "\n",
       "   contract_One year  contract_Two year  \\\n",
       "0                  0                  0   \n",
       "1                  1                  0   \n",
       "2                  0                  0   \n",
       "3                  1                  0   \n",
       "4                  0                  0   \n",
       "\n",
       "   paymentmethod_Credit card (automatic)  paymentmethod_Electronic check  \\\n",
       "0                                      0                               1   \n",
       "1                                      0                               0   \n",
       "2                                      0                               0   \n",
       "3                                      0                               0   \n",
       "4                                      0                               1   \n",
       "\n",
       "   paymentmethod_Mailed check  \n",
       "0                           0  \n",
       "1                           1  \n",
       "2                           1  \n",
       "3                           0  \n",
       "4                           0  \n",
       "\n",
       "[5 rows x 24 columns]"
      ]
     },
     "execution_count": 9,
     "metadata": {},
     "output_type": "execute_result"
    }
   ],
   "source": [
    "df.head()"
   ]
  },
  {
   "cell_type": "code",
   "execution_count": 10,
   "id": "d68baf25",
   "metadata": {},
   "outputs": [],
   "source": [
    "df.drop('Unnamed: 0', axis=1, inplace=True)"
   ]
  },
  {
   "cell_type": "code",
   "execution_count": 11,
   "id": "d47dc419",
   "metadata": {},
   "outputs": [],
   "source": [
    "x = df.drop(\"churn\", axis = 1)\n",
    "y = df['churn']"
   ]
  },
  {
   "cell_type": "code",
   "execution_count": 12,
   "id": "6d2e2ade",
   "metadata": {},
   "outputs": [],
   "source": [
    "#We are deleting totalcharges due to high correlation with tenure column.\n",
    "x.drop('totalcharges', axis=1, inplace=True)"
   ]
  },
  {
   "cell_type": "code",
   "execution_count": 13,
   "id": "ad16bb94",
   "metadata": {
    "scrolled": true
   },
   "outputs": [
    {
     "name": "stdout",
     "output_type": "stream",
     "text": [
      "0    4131\n",
      "1    1485\n",
      "Name: churn, dtype: int64\n"
     ]
    }
   ],
   "source": [
    "x_train, x_test, y_train, y_test = train_test_split(x, y, random_state =100 ,stratify=y, test_size = 0.2)\n",
    "print(y_train.value_counts())"
   ]
  },
  {
   "cell_type": "code",
   "execution_count": 14,
   "id": "1b77f6a6",
   "metadata": {},
   "outputs": [],
   "source": [
    "scale = MinMaxScaler()\n",
    "col = x_train.columns\n",
    "\n",
    "x_train[col] = scale.fit_transform(x_train[col])\n",
    "x_test[col] = scale.transform(x_test[col])"
   ]
  },
  {
   "cell_type": "code",
   "execution_count": 15,
   "id": "c4e1ddcb",
   "metadata": {},
   "outputs": [],
   "source": [
    "#Fit basic model on imbalanced dataset\n",
    "DT = DecisionTreeClassifier(random_state=0)\n",
    "cross_val_DT = cross_val_score(DT, x_train, y_train , scoring = 'accuracy' ) \n",
    "cross_val_DT_f1 = cross_val_score(DT, x_train, y_train , scoring = 'f1') \n",
    "\n",
    "RF = RandomForestClassifier(random_state=0)\n",
    "cross_val_RF = cross_val_score(RF, x_train, y_train , scoring = 'accuracy' ) \n",
    "cross_val_RF_f1 = cross_val_score(RF, x_train, y_train , scoring = 'f1') \n",
    "\n",
    "ET = ExtraTreesClassifier(random_state=0)\n",
    "cross_val_ET = cross_val_score(ET, x_train, y_train , scoring = 'accuracy' ) \n",
    "cross_val_ET_f1 = cross_val_score(ET, x_train, y_train , scoring = 'f1') \n",
    "\n",
    "MLP = MLPClassifier(random_state=0)\n",
    "cross_val_MLP = cross_val_score(MLP, x_train, y_train , scoring = 'accuracy' ) \n",
    "cross_val_MLP_f1 = cross_val_score(MLP, x_train, y_train , scoring = 'f1') \n",
    "\n",
    "GB = GradientBoostingClassifier(random_state=0)\n",
    "cross_val_GB = cross_val_score(GB, x_train, y_train , scoring = 'accuracy' ) \n",
    "cross_val_GB_f1 = cross_val_score(GB, x_train, y_train , scoring = 'f1') \n",
    "\n",
    "LR = LogisticRegression(random_state=0)\n",
    "cross_val_LR = cross_val_score(LR, x_train, y_train , scoring = 'accuracy' ) \n",
    "cross_val_LR_f1 = cross_val_score(LR, x_train, y_train , scoring = 'f1') \n",
    "\n",
    "KNN = KNeighborsClassifier()\n",
    "cross_val_KNN = cross_val_score(KNN, x_train, y_train , scoring = 'accuracy' ) \n",
    "cross_val_KNN_f1 = cross_val_score(KNN, x_train, y_train , scoring = 'f1') "
   ]
  },
  {
   "cell_type": "code",
   "execution_count": 16,
   "id": "a8d083b7",
   "metadata": {},
   "outputs": [],
   "source": [
    "compare_models = [('Decision Tree', cross_val_DT.mean(),cross_val_DT_f1.mean()),\n",
    "                  ('Random Forest', cross_val_RF.mean(),cross_val_RF_f1.mean()),\n",
    "                  ('Neural Network', cross_val_MLP.mean(),cross_val_MLP_f1.mean()),\n",
    "                  ('Extra Tree', cross_val_ET.mean(),cross_val_ET_f1.mean()),\n",
    "                  ('GradientBoosting', cross_val_GB.mean(),cross_val_GB_f1.mean()),\n",
    "                  ('Logistic Regression', cross_val_LR.mean(),cross_val_LR_f1.mean()),\n",
    "                  ('KNN', cross_val_KNN.mean(), cross_val_KNN_f1.mean())]"
   ]
  },
  {
   "cell_type": "code",
   "execution_count": 17,
   "id": "c9eec379",
   "metadata": {
    "scrolled": true
   },
   "outputs": [
    {
     "data": {
      "text/html": [
       "<style  type=\"text/css\" >\n",
       "#T_ac73f592_7b89_11ec_a928_6e89a2b94e08row0_col1,#T_ac73f592_7b89_11ec_a928_6e89a2b94e08row0_col2{\n",
       "            background-color:  #ffffe5;\n",
       "            color:  #000000;\n",
       "        }#T_ac73f592_7b89_11ec_a928_6e89a2b94e08row1_col1{\n",
       "            background-color:  #1a7d40;\n",
       "            color:  #f1f1f1;\n",
       "        }#T_ac73f592_7b89_11ec_a928_6e89a2b94e08row1_col2{\n",
       "            background-color:  #9cd687;\n",
       "            color:  #000000;\n",
       "        }#T_ac73f592_7b89_11ec_a928_6e89a2b94e08row2_col1{\n",
       "            background-color:  #14783e;\n",
       "            color:  #f1f1f1;\n",
       "        }#T_ac73f592_7b89_11ec_a928_6e89a2b94e08row2_col2{\n",
       "            background-color:  #187b3f;\n",
       "            color:  #f1f1f1;\n",
       "        }#T_ac73f592_7b89_11ec_a928_6e89a2b94e08row3_col1{\n",
       "            background-color:  #62bb6e;\n",
       "            color:  #000000;\n",
       "        }#T_ac73f592_7b89_11ec_a928_6e89a2b94e08row3_col2{\n",
       "            background-color:  #e9f6af;\n",
       "            color:  #000000;\n",
       "        }#T_ac73f592_7b89_11ec_a928_6e89a2b94e08row4_col1{\n",
       "            background-color:  #004e2d;\n",
       "            color:  #f1f1f1;\n",
       "        }#T_ac73f592_7b89_11ec_a928_6e89a2b94e08row4_col2{\n",
       "            background-color:  #10743c;\n",
       "            color:  #f1f1f1;\n",
       "        }#T_ac73f592_7b89_11ec_a928_6e89a2b94e08row5_col1,#T_ac73f592_7b89_11ec_a928_6e89a2b94e08row5_col2{\n",
       "            background-color:  #004529;\n",
       "            color:  #f1f1f1;\n",
       "        }#T_ac73f592_7b89_11ec_a928_6e89a2b94e08row6_col1{\n",
       "            background-color:  #74c477;\n",
       "            color:  #000000;\n",
       "        }#T_ac73f592_7b89_11ec_a928_6e89a2b94e08row6_col2{\n",
       "            background-color:  #72c376;\n",
       "            color:  #000000;\n",
       "        }</style><table id=\"T_ac73f592_7b89_11ec_a928_6e89a2b94e08\" ><thead>    <tr>        <th class=\"blank level0\" ></th>        <th class=\"col_heading level0 col0\" >Model</th>        <th class=\"col_heading level0 col1\" >Cross_validation_mean(accuracy)</th>        <th class=\"col_heading level0 col2\" >Cross_validation_mean(f1_score)</th>    </tr></thead><tbody>\n",
       "                <tr>\n",
       "                        <th id=\"T_ac73f592_7b89_11ec_a928_6e89a2b94e08level0_row0\" class=\"row_heading level0 row0\" >0</th>\n",
       "                        <td id=\"T_ac73f592_7b89_11ec_a928_6e89a2b94e08row0_col0\" class=\"data row0 col0\" >Decision Tree</td>\n",
       "                        <td id=\"T_ac73f592_7b89_11ec_a928_6e89a2b94e08row0_col1\" class=\"data row0 col1\" >0.717949</td>\n",
       "                        <td id=\"T_ac73f592_7b89_11ec_a928_6e89a2b94e08row0_col2\" class=\"data row0 col2\" >0.477875</td>\n",
       "            </tr>\n",
       "            <tr>\n",
       "                        <th id=\"T_ac73f592_7b89_11ec_a928_6e89a2b94e08level0_row1\" class=\"row_heading level0 row1\" >1</th>\n",
       "                        <td id=\"T_ac73f592_7b89_11ec_a928_6e89a2b94e08row1_col0\" class=\"data row1 col0\" >Random Forest</td>\n",
       "                        <td id=\"T_ac73f592_7b89_11ec_a928_6e89a2b94e08row1_col1\" class=\"data row1 col1\" >0.780092</td>\n",
       "                        <td id=\"T_ac73f592_7b89_11ec_a928_6e89a2b94e08row1_col2\" class=\"data row1 col2\" >0.518339</td>\n",
       "            </tr>\n",
       "            <tr>\n",
       "                        <th id=\"T_ac73f592_7b89_11ec_a928_6e89a2b94e08level0_row2\" class=\"row_heading level0 row2\" >2</th>\n",
       "                        <td id=\"T_ac73f592_7b89_11ec_a928_6e89a2b94e08row2_col0\" class=\"data row2 col0\" >Neural Network</td>\n",
       "                        <td id=\"T_ac73f592_7b89_11ec_a928_6e89a2b94e08row2_col1\" class=\"data row2 col1\" >0.781694</td>\n",
       "                        <td id=\"T_ac73f592_7b89_11ec_a928_6e89a2b94e08row2_col2\" class=\"data row2 col2\" >0.554622</td>\n",
       "            </tr>\n",
       "            <tr>\n",
       "                        <th id=\"T_ac73f592_7b89_11ec_a928_6e89a2b94e08level0_row3\" class=\"row_heading level0 row3\" >3</th>\n",
       "                        <td id=\"T_ac73f592_7b89_11ec_a928_6e89a2b94e08row3_col0\" class=\"data row3 col0\" >Extra Tree</td>\n",
       "                        <td id=\"T_ac73f592_7b89_11ec_a928_6e89a2b94e08row3_col1\" class=\"data row3 col1\" >0.761575</td>\n",
       "                        <td id=\"T_ac73f592_7b89_11ec_a928_6e89a2b94e08row3_col2\" class=\"data row3 col2\" >0.496172</td>\n",
       "            </tr>\n",
       "            <tr>\n",
       "                        <th id=\"T_ac73f592_7b89_11ec_a928_6e89a2b94e08level0_row4\" class=\"row_heading level0 row4\" >4</th>\n",
       "                        <td id=\"T_ac73f592_7b89_11ec_a928_6e89a2b94e08row4_col0\" class=\"data row4 col0\" >GradientBoosting</td>\n",
       "                        <td id=\"T_ac73f592_7b89_11ec_a928_6e89a2b94e08row4_col1\" class=\"data row4 col1\" >0.795048</td>\n",
       "                        <td id=\"T_ac73f592_7b89_11ec_a928_6e89a2b94e08row4_col2\" class=\"data row4 col2\" >0.557716</td>\n",
       "            </tr>\n",
       "            <tr>\n",
       "                        <th id=\"T_ac73f592_7b89_11ec_a928_6e89a2b94e08level0_row5\" class=\"row_heading level0 row5\" >5</th>\n",
       "                        <td id=\"T_ac73f592_7b89_11ec_a928_6e89a2b94e08row5_col0\" class=\"data row5 col0\" >Logistic Regression</td>\n",
       "                        <td id=\"T_ac73f592_7b89_11ec_a928_6e89a2b94e08row5_col1\" class=\"data row5 col1\" >0.797540</td>\n",
       "                        <td id=\"T_ac73f592_7b89_11ec_a928_6e89a2b94e08row5_col2\" class=\"data row5 col2\" >0.575564</td>\n",
       "            </tr>\n",
       "            <tr>\n",
       "                        <th id=\"T_ac73f592_7b89_11ec_a928_6e89a2b94e08level0_row6\" class=\"row_heading level0 row6\" >6</th>\n",
       "                        <td id=\"T_ac73f592_7b89_11ec_a928_6e89a2b94e08row6_col0\" class=\"data row6 col0\" >KNN</td>\n",
       "                        <td id=\"T_ac73f592_7b89_11ec_a928_6e89a2b94e08row6_col1\" class=\"data row6 col1\" >0.758548</td>\n",
       "                        <td id=\"T_ac73f592_7b89_11ec_a928_6e89a2b94e08row6_col2\" class=\"data row6 col2\" >0.528010</td>\n",
       "            </tr>\n",
       "    </tbody></table>"
      ],
      "text/plain": [
       "<pandas.io.formats.style.Styler at 0x7f9cccd1c650>"
      ]
     },
     "execution_count": 17,
     "metadata": {},
     "output_type": "execute_result"
    }
   ],
   "source": [
    "predict = pd.DataFrame(data = compare_models, \n",
    "                       columns=['Model','Cross_validation_mean(accuracy)', 'Cross_validation_mean(f1_score)'])\n",
    "predict.style.background_gradient(cmap='YlGn')"
   ]
  },
  {
   "cell_type": "code",
   "execution_count": 18,
   "id": "39bbc465",
   "metadata": {},
   "outputs": [],
   "source": [
    "#Random OverSample\n",
    "x_train_Sample = x_train.copy()\n",
    "y_train_Sample = y_train.copy()\n",
    "\n",
    "randOverSample = RandomOverSampler(random_state=100,)\n",
    "x_train_OverSample, y_train_OverSample = randOverSample.fit_resample(x_train_Sample, y_train_Sample.ravel())"
   ]
  },
  {
   "cell_type": "code",
   "execution_count": 19,
   "id": "35b80010",
   "metadata": {},
   "outputs": [],
   "source": [
    "#Fit basic model on OverSample dataset\n",
    "DT = DecisionTreeClassifier(random_state=0)\n",
    "cross_val_DT = cross_val_score(DT, x_train_OverSample, y_train_OverSample , scoring = 'accuracy' ) \n",
    "cross_val_DT_f1 = cross_val_score(DT, x_train_OverSample, y_train_OverSample , scoring = 'f1') \n",
    "\n",
    "RF = RandomForestClassifier(random_state=0)\n",
    "cross_val_RF = cross_val_score(RF, x_train_OverSample, y_train_OverSample , scoring = 'accuracy' ) \n",
    "cross_val_RF_f1 = cross_val_score(RF, x_train_OverSample, y_train_OverSample , scoring = 'f1') \n",
    "\n",
    "ET = ExtraTreesClassifier(random_state=0)\n",
    "cross_val_ET = cross_val_score(ET, x_train_OverSample, y_train_OverSample , scoring = 'accuracy' ) \n",
    "cross_val_ET_f1 = cross_val_score(ET, x_train_OverSample, y_train_OverSample , scoring = 'f1') \n",
    "\n",
    "MLP = MLPClassifier(random_state=0)\n",
    "cross_val_MLP = cross_val_score(MLP, x_train_OverSample, y_train_OverSample , scoring = 'accuracy' ) \n",
    "cross_val_MLP_f1 = cross_val_score(MLP, x_train_OverSample, y_train_OverSample , scoring = 'f1') \n",
    "\n",
    "GB = GradientBoostingClassifier(random_state=0)\n",
    "cross_val_GB = cross_val_score(GB, x_train_OverSample, y_train_OverSample , scoring = 'accuracy' ) \n",
    "cross_val_GB_f1 = cross_val_score(GB, x_train_OverSample, y_train_OverSample , scoring = 'f1') \n",
    "\n",
    "LR = LogisticRegression(random_state=0)\n",
    "cross_val_LR = cross_val_score(LR, x_train_OverSample, y_train_OverSample , scoring = 'accuracy' ) \n",
    "cross_val_LR_f1 = cross_val_score(LR, x_train_OverSample, y_train_OverSample , scoring = 'f1') \n",
    "\n",
    "KNN = KNeighborsClassifier()\n",
    "cross_val_KNN = cross_val_score(KNN, x_train_OverSample, y_train_OverSample , scoring = 'accuracy' ) \n",
    "cross_val_KNN_f1 = cross_val_score(KNN, x_train_OverSample, y_train_OverSample , scoring = 'f1') "
   ]
  },
  {
   "cell_type": "code",
   "execution_count": 20,
   "id": "fd5f4e38",
   "metadata": {},
   "outputs": [],
   "source": [
    "compare_models = [('Decision Tree', cross_val_DT.mean(),cross_val_DT_f1.mean()),\n",
    "                  ('Random Forest', cross_val_RF.mean(),cross_val_RF_f1.mean()),\n",
    "                  ('Neural Network', cross_val_MLP.mean(),cross_val_MLP_f1.mean()),\n",
    "                  ('Extra Tree', cross_val_ET.mean(),cross_val_ET_f1.mean()),\n",
    "                  ('GradientBoosting', cross_val_GB.mean(),cross_val_GB_f1.mean()),\n",
    "                  ('Logistic Regression', cross_val_LR.mean(),cross_val_LR_f1.mean()),\n",
    "                  ('KNN', cross_val_KNN.mean(), cross_val_KNN_f1.mean())]"
   ]
  },
  {
   "cell_type": "code",
   "execution_count": 21,
   "id": "05dfcd67",
   "metadata": {},
   "outputs": [
    {
     "data": {
      "text/html": [
       "<style  type=\"text/css\" >\n",
       "#T_d034b1a2_7b8d_11ec_a928_6e89a2b94e08row0_col1{\n",
       "            background-color:  #1d7f41;\n",
       "            color:  #f1f1f1;\n",
       "        }#T_d034b1a2_7b8d_11ec_a928_6e89a2b94e08row0_col2{\n",
       "            background-color:  #14783e;\n",
       "            color:  #f1f1f1;\n",
       "        }#T_d034b1a2_7b8d_11ec_a928_6e89a2b94e08row1_col1{\n",
       "            background-color:  #005730;\n",
       "            color:  #f1f1f1;\n",
       "        }#T_d034b1a2_7b8d_11ec_a928_6e89a2b94e08row1_col2{\n",
       "            background-color:  #00532f;\n",
       "            color:  #f1f1f1;\n",
       "        }#T_d034b1a2_7b8d_11ec_a928_6e89a2b94e08row2_col1{\n",
       "            background-color:  #e8f6ae;\n",
       "            color:  #000000;\n",
       "        }#T_d034b1a2_7b8d_11ec_a928_6e89a2b94e08row2_col2{\n",
       "            background-color:  #ddf2a6;\n",
       "            color:  #000000;\n",
       "        }#T_d034b1a2_7b8d_11ec_a928_6e89a2b94e08row3_col1,#T_d034b1a2_7b8d_11ec_a928_6e89a2b94e08row3_col2{\n",
       "            background-color:  #004529;\n",
       "            color:  #f1f1f1;\n",
       "        }#T_d034b1a2_7b8d_11ec_a928_6e89a2b94e08row4_col1{\n",
       "            background-color:  #eef9b3;\n",
       "            color:  #000000;\n",
       "        }#T_d034b1a2_7b8d_11ec_a928_6e89a2b94e08row4_col2{\n",
       "            background-color:  #ecf7b1;\n",
       "            color:  #000000;\n",
       "        }#T_d034b1a2_7b8d_11ec_a928_6e89a2b94e08row5_col1,#T_d034b1a2_7b8d_11ec_a928_6e89a2b94e08row5_col2{\n",
       "            background-color:  #ffffe5;\n",
       "            color:  #000000;\n",
       "        }#T_d034b1a2_7b8d_11ec_a928_6e89a2b94e08row6_col1{\n",
       "            background-color:  #fdfedd;\n",
       "            color:  #000000;\n",
       "        }#T_d034b1a2_7b8d_11ec_a928_6e89a2b94e08row6_col2{\n",
       "            background-color:  #f7fcb9;\n",
       "            color:  #000000;\n",
       "        }</style><table id=\"T_d034b1a2_7b8d_11ec_a928_6e89a2b94e08\" ><thead>    <tr>        <th class=\"blank level0\" ></th>        <th class=\"col_heading level0 col0\" >Model</th>        <th class=\"col_heading level0 col1\" >Cross_validation_mean(accuracy)</th>        <th class=\"col_heading level0 col2\" >Cross_validation_mean(f1_score)</th>    </tr></thead><tbody>\n",
       "                <tr>\n",
       "                        <th id=\"T_d034b1a2_7b8d_11ec_a928_6e89a2b94e08level0_row0\" class=\"row_heading level0 row0\" >0</th>\n",
       "                        <td id=\"T_d034b1a2_7b8d_11ec_a928_6e89a2b94e08row0_col0\" class=\"data row0 col0\" >Decision Tree</td>\n",
       "                        <td id=\"T_d034b1a2_7b8d_11ec_a928_6e89a2b94e08row0_col1\" class=\"data row0 col1\" >0.874976</td>\n",
       "                        <td id=\"T_d034b1a2_7b8d_11ec_a928_6e89a2b94e08row0_col2\" class=\"data row0 col2\" >0.884273</td>\n",
       "            </tr>\n",
       "            <tr>\n",
       "                        <th id=\"T_d034b1a2_7b8d_11ec_a928_6e89a2b94e08level0_row1\" class=\"row_heading level0 row1\" >1</th>\n",
       "                        <td id=\"T_d034b1a2_7b8d_11ec_a928_6e89a2b94e08row1_col0\" class=\"data row1 col0\" >Random Forest</td>\n",
       "                        <td id=\"T_d034b1a2_7b8d_11ec_a928_6e89a2b94e08row1_col1\" class=\"data row1 col1\" >0.899787</td>\n",
       "                        <td id=\"T_d034b1a2_7b8d_11ec_a928_6e89a2b94e08row1_col2\" class=\"data row1 col2\" >0.906104</td>\n",
       "            </tr>\n",
       "            <tr>\n",
       "                        <th id=\"T_d034b1a2_7b8d_11ec_a928_6e89a2b94e08level0_row2\" class=\"row_heading level0 row2\" >2</th>\n",
       "                        <td id=\"T_d034b1a2_7b8d_11ec_a928_6e89a2b94e08row2_col0\" class=\"data row2 col0\" >Neural Network</td>\n",
       "                        <td id=\"T_d034b1a2_7b8d_11ec_a928_6e89a2b94e08row2_col1\" class=\"data row2 col1\" >0.786253</td>\n",
       "                        <td id=\"T_d034b1a2_7b8d_11ec_a928_6e89a2b94e08row2_col2\" class=\"data row2 col2\" >0.799460</td>\n",
       "            </tr>\n",
       "            <tr>\n",
       "                        <th id=\"T_d034b1a2_7b8d_11ec_a928_6e89a2b94e08level0_row3\" class=\"row_heading level0 row3\" >3</th>\n",
       "                        <td id=\"T_d034b1a2_7b8d_11ec_a928_6e89a2b94e08row3_col0\" class=\"data row3 col0\" >Extra Tree</td>\n",
       "                        <td id=\"T_d034b1a2_7b8d_11ec_a928_6e89a2b94e08row3_col1\" class=\"data row3 col1\" >0.909592</td>\n",
       "                        <td id=\"T_d034b1a2_7b8d_11ec_a928_6e89a2b94e08row3_col2\" class=\"data row3 col2\" >0.913699</td>\n",
       "            </tr>\n",
       "            <tr>\n",
       "                        <th id=\"T_d034b1a2_7b8d_11ec_a928_6e89a2b94e08level0_row4\" class=\"row_heading level0 row4\" >4</th>\n",
       "                        <td id=\"T_d034b1a2_7b8d_11ec_a928_6e89a2b94e08row4_col0\" class=\"data row4 col0\" >GradientBoosting</td>\n",
       "                        <td id=\"T_d034b1a2_7b8d_11ec_a928_6e89a2b94e08row4_col1\" class=\"data row4 col1\" >0.782135</td>\n",
       "                        <td id=\"T_d034b1a2_7b8d_11ec_a928_6e89a2b94e08row4_col2\" class=\"data row4 col2\" >0.790910</td>\n",
       "            </tr>\n",
       "            <tr>\n",
       "                        <th id=\"T_d034b1a2_7b8d_11ec_a928_6e89a2b94e08level0_row5\" class=\"row_heading level0 row5\" >5</th>\n",
       "                        <td id=\"T_d034b1a2_7b8d_11ec_a928_6e89a2b94e08row5_col0\" class=\"data row5 col0\" >Logistic Regression</td>\n",
       "                        <td id=\"T_d034b1a2_7b8d_11ec_a928_6e89a2b94e08row5_col1\" class=\"data row5 col1\" >0.757321</td>\n",
       "                        <td id=\"T_d034b1a2_7b8d_11ec_a928_6e89a2b94e08row5_col2\" class=\"data row5 col2\" >0.765098</td>\n",
       "            </tr>\n",
       "            <tr>\n",
       "                        <th id=\"T_d034b1a2_7b8d_11ec_a928_6e89a2b94e08level0_row6\" class=\"row_heading level0 row6\" >6</th>\n",
       "                        <td id=\"T_d034b1a2_7b8d_11ec_a928_6e89a2b94e08row6_col0\" class=\"data row6 col0\" >KNN</td>\n",
       "                        <td id=\"T_d034b1a2_7b8d_11ec_a928_6e89a2b94e08row6_col1\" class=\"data row6 col1\" >0.761319</td>\n",
       "                        <td id=\"T_d034b1a2_7b8d_11ec_a928_6e89a2b94e08row6_col2\" class=\"data row6 col2\" >0.783885</td>\n",
       "            </tr>\n",
       "    </tbody></table>"
      ],
      "text/plain": [
       "<pandas.io.formats.style.Styler at 0x7f9d0d7b6d10>"
      ]
     },
     "execution_count": 21,
     "metadata": {},
     "output_type": "execute_result"
    }
   ],
   "source": [
    "predict = pd.DataFrame(data = compare_models, \n",
    "                       columns=['Model','Cross_validation_mean(accuracy)', 'Cross_validation_mean(f1_score)'])\n",
    "predict.style.background_gradient(cmap='YlGn')"
   ]
  },
  {
   "cell_type": "code",
   "execution_count": 22,
   "id": "5d426692",
   "metadata": {},
   "outputs": [],
   "source": [
    "#SMOTE\n",
    "x_train_sample = x_train.copy()\n",
    "y_train_sample = y_train.copy()\n",
    "\n",
    "sm = SMOTE(random_state=100)\n",
    "x_train_smote, y_train_smote = sm.fit_resample(x_train_sample, y_train_sample.ravel())"
   ]
  },
  {
   "cell_type": "code",
   "execution_count": 23,
   "id": "d798a852",
   "metadata": {},
   "outputs": [],
   "source": [
    "#Fit basic model on OverSample dataset\n",
    "DT = DecisionTreeClassifier(random_state=0)\n",
    "cross_val_DT = cross_val_score(DT, x_train_smote, y_train_smote , scoring = 'accuracy' ) \n",
    "cross_val_DT_f1 = cross_val_score(DT, x_train_smote, y_train_smote , scoring = 'f1') \n",
    "\n",
    "RF = RandomForestClassifier(random_state=0)\n",
    "cross_val_RF = cross_val_score(RF, x_train_smote, y_train_smote , scoring = 'accuracy' ) \n",
    "cross_val_RF_f1 = cross_val_score(RF, x_train_smote, y_train_smote , scoring = 'f1') \n",
    "\n",
    "ET = ExtraTreesClassifier(random_state=0)\n",
    "cross_val_ET = cross_val_score(ET, x_train_smote, y_train_smote , scoring = 'accuracy' ) \n",
    "cross_val_ET_f1 = cross_val_score(ET, x_train_smote, y_train_smote , scoring = 'f1') \n",
    "\n",
    "MLP = MLPClassifier(random_state=0)\n",
    "cross_val_MLP = cross_val_score(MLP, x_train_smote, y_train_smote , scoring = 'accuracy' ) \n",
    "cross_val_MLP_f1 = cross_val_score(MLP, x_train_smote, y_train_smote , scoring = 'f1') \n",
    "\n",
    "GB = GradientBoostingClassifier(random_state=0)\n",
    "cross_val_GB = cross_val_score(GB, x_train_smote, y_train_smote , scoring = 'accuracy' ) \n",
    "cross_val_GB_f1 = cross_val_score(GB, x_train_smote, y_train_smote , scoring = 'f1') \n",
    "\n",
    "LR = LogisticRegression(random_state=0)\n",
    "cross_val_LR = cross_val_score(LR, x_train_smote, y_train_smote , scoring = 'accuracy' ) \n",
    "cross_val_LR_f1 = cross_val_score(LR, x_train_smote, y_train_smote , scoring = 'f1') \n",
    "\n",
    "KNN = KNeighborsClassifier()\n",
    "cross_val_KNN = cross_val_score(KNN, x_train_smote, y_train_smote , scoring = 'accuracy' ) \n",
    "cross_val_KNN_f1 = cross_val_score(KNN, x_train_smote, y_train_smote , scoring = 'f1') "
   ]
  },
  {
   "cell_type": "code",
   "execution_count": 24,
   "id": "70fc058b",
   "metadata": {},
   "outputs": [],
   "source": [
    "compare_models = [('Decision Tree', cross_val_DT.mean(),cross_val_DT_f1.mean()),\n",
    "                  ('Random Forest', cross_val_RF.mean(),cross_val_RF_f1.mean()),\n",
    "                  ('Neural Network', cross_val_MLP.mean(),cross_val_MLP_f1.mean()),\n",
    "                  ('Extra Tree', cross_val_ET.mean(),cross_val_ET_f1.mean()),\n",
    "                  ('GradientBoosting', cross_val_GB.mean(),cross_val_GB_f1.mean()),\n",
    "                  ('Logistic Regression', cross_val_LR.mean(),cross_val_LR_f1.mean()),\n",
    "                  ('KNN', cross_val_KNN.mean(), cross_val_KNN_f1.mean())]"
   ]
  },
  {
   "cell_type": "code",
   "execution_count": 25,
   "id": "8ff2d256",
   "metadata": {},
   "outputs": [
    {
     "data": {
      "text/html": [
       "<style  type=\"text/css\" >\n",
       "#T_d48b9d70_7b91_11ec_a928_6e89a2b94e08row0_col1{\n",
       "            background-color:  #feffde;\n",
       "            color:  #000000;\n",
       "        }#T_d48b9d70_7b91_11ec_a928_6e89a2b94e08row0_col2,#T_d48b9d70_7b91_11ec_a928_6e89a2b94e08row5_col1{\n",
       "            background-color:  #ffffe5;\n",
       "            color:  #000000;\n",
       "        }#T_d48b9d70_7b91_11ec_a928_6e89a2b94e08row1_col1{\n",
       "            background-color:  #036b38;\n",
       "            color:  #f1f1f1;\n",
       "        }#T_d48b9d70_7b91_11ec_a928_6e89a2b94e08row1_col2{\n",
       "            background-color:  #0d733c;\n",
       "            color:  #f1f1f1;\n",
       "        }#T_d48b9d70_7b91_11ec_a928_6e89a2b94e08row2_col1{\n",
       "            background-color:  #b5e092;\n",
       "            color:  #000000;\n",
       "        }#T_d48b9d70_7b91_11ec_a928_6e89a2b94e08row2_col2{\n",
       "            background-color:  #86cc7f;\n",
       "            color:  #000000;\n",
       "        }#T_d48b9d70_7b91_11ec_a928_6e89a2b94e08row3_col1,#T_d48b9d70_7b91_11ec_a928_6e89a2b94e08row3_col2{\n",
       "            background-color:  #004529;\n",
       "            color:  #f1f1f1;\n",
       "        }#T_d48b9d70_7b91_11ec_a928_6e89a2b94e08row4_col1{\n",
       "            background-color:  #40aa5c;\n",
       "            color:  #000000;\n",
       "        }#T_d48b9d70_7b91_11ec_a928_6e89a2b94e08row4_col2{\n",
       "            background-color:  #3da559;\n",
       "            color:  #000000;\n",
       "        }#T_d48b9d70_7b91_11ec_a928_6e89a2b94e08row5_col2{\n",
       "            background-color:  #f9fdc2;\n",
       "            color:  #000000;\n",
       "        }#T_d48b9d70_7b91_11ec_a928_6e89a2b94e08row6_col1{\n",
       "            background-color:  #e4f4ab;\n",
       "            color:  #000000;\n",
       "        }#T_d48b9d70_7b91_11ec_a928_6e89a2b94e08row6_col2{\n",
       "            background-color:  #89ce80;\n",
       "            color:  #000000;\n",
       "        }</style><table id=\"T_d48b9d70_7b91_11ec_a928_6e89a2b94e08\" ><thead>    <tr>        <th class=\"blank level0\" ></th>        <th class=\"col_heading level0 col0\" >Model</th>        <th class=\"col_heading level0 col1\" >Cross_validation_mean(accuracy)</th>        <th class=\"col_heading level0 col2\" >Cross_validation_mean(f1_score)</th>    </tr></thead><tbody>\n",
       "                <tr>\n",
       "                        <th id=\"T_d48b9d70_7b91_11ec_a928_6e89a2b94e08level0_row0\" class=\"row_heading level0 row0\" >0</th>\n",
       "                        <td id=\"T_d48b9d70_7b91_11ec_a928_6e89a2b94e08row0_col0\" class=\"data row0 col0\" >Decision Tree</td>\n",
       "                        <td id=\"T_d48b9d70_7b91_11ec_a928_6e89a2b94e08row0_col1\" class=\"data row0 col1\" >0.775131</td>\n",
       "                        <td id=\"T_d48b9d70_7b91_11ec_a928_6e89a2b94e08row0_col2\" class=\"data row0 col2\" >0.769884</td>\n",
       "            </tr>\n",
       "            <tr>\n",
       "                        <th id=\"T_d48b9d70_7b91_11ec_a928_6e89a2b94e08level0_row1\" class=\"row_heading level0 row1\" >1</th>\n",
       "                        <td id=\"T_d48b9d70_7b91_11ec_a928_6e89a2b94e08row1_col0\" class=\"data row1 col0\" >Random Forest</td>\n",
       "                        <td id=\"T_d48b9d70_7b91_11ec_a928_6e89a2b94e08row1_col1\" class=\"data row1 col1\" >0.853565</td>\n",
       "                        <td id=\"T_d48b9d70_7b91_11ec_a928_6e89a2b94e08row1_col2\" class=\"data row1 col2\" >0.848848</td>\n",
       "            </tr>\n",
       "            <tr>\n",
       "                        <th id=\"T_d48b9d70_7b91_11ec_a928_6e89a2b94e08level0_row2\" class=\"row_heading level0 row2\" >2</th>\n",
       "                        <td id=\"T_d48b9d70_7b91_11ec_a928_6e89a2b94e08row2_col0\" class=\"data row2 col0\" >Neural Network</td>\n",
       "                        <td id=\"T_d48b9d70_7b91_11ec_a928_6e89a2b94e08row2_col1\" class=\"data row2 col1\" >0.806109</td>\n",
       "                        <td id=\"T_d48b9d70_7b91_11ec_a928_6e89a2b94e08row2_col2\" class=\"data row2 col2\" >0.814325</td>\n",
       "            </tr>\n",
       "            <tr>\n",
       "                        <th id=\"T_d48b9d70_7b91_11ec_a928_6e89a2b94e08level0_row3\" class=\"row_heading level0 row3\" >3</th>\n",
       "                        <td id=\"T_d48b9d70_7b91_11ec_a928_6e89a2b94e08row3_col0\" class=\"data row3 col0\" >Extra Tree</td>\n",
       "                        <td id=\"T_d48b9d70_7b91_11ec_a928_6e89a2b94e08row3_col1\" class=\"data row3 col1\" >0.866754</td>\n",
       "                        <td id=\"T_d48b9d70_7b91_11ec_a928_6e89a2b94e08row3_col2\" class=\"data row3 col2\" >0.865387</td>\n",
       "            </tr>\n",
       "            <tr>\n",
       "                        <th id=\"T_d48b9d70_7b91_11ec_a928_6e89a2b94e08level0_row4\" class=\"row_heading level0 row4\" >4</th>\n",
       "                        <td id=\"T_d48b9d70_7b91_11ec_a928_6e89a2b94e08row4_col0\" class=\"data row4 col0\" >GradientBoosting</td>\n",
       "                        <td id=\"T_d48b9d70_7b91_11ec_a928_6e89a2b94e08row4_col1\" class=\"data row4 col1\" >0.831775</td>\n",
       "                        <td id=\"T_d48b9d70_7b91_11ec_a928_6e89a2b94e08row4_col2\" class=\"data row4 col2\" >0.831114</td>\n",
       "            </tr>\n",
       "            <tr>\n",
       "                        <th id=\"T_d48b9d70_7b91_11ec_a928_6e89a2b94e08level0_row5\" class=\"row_heading level0 row5\" >5</th>\n",
       "                        <td id=\"T_d48b9d70_7b91_11ec_a928_6e89a2b94e08row5_col0\" class=\"data row5 col0\" >Logistic Regression</td>\n",
       "                        <td id=\"T_d48b9d70_7b91_11ec_a928_6e89a2b94e08row5_col1\" class=\"data row5 col1\" >0.772938</td>\n",
       "                        <td id=\"T_d48b9d70_7b91_11ec_a928_6e89a2b94e08row5_col2\" class=\"data row5 col2\" >0.779370</td>\n",
       "            </tr>\n",
       "            <tr>\n",
       "                        <th id=\"T_d48b9d70_7b91_11ec_a928_6e89a2b94e08level0_row6\" class=\"row_heading level0 row6\" >6</th>\n",
       "                        <td id=\"T_d48b9d70_7b91_11ec_a928_6e89a2b94e08row6_col0\" class=\"data row6 col0\" >KNN</td>\n",
       "                        <td id=\"T_d48b9d70_7b91_11ec_a928_6e89a2b94e08row6_col1\" class=\"data row6 col1\" >0.792187</td>\n",
       "                        <td id=\"T_d48b9d70_7b91_11ec_a928_6e89a2b94e08row6_col2\" class=\"data row6 col2\" >0.813715</td>\n",
       "            </tr>\n",
       "    </tbody></table>"
      ],
      "text/plain": [
       "<pandas.io.formats.style.Styler at 0x7f9d0cf283d0>"
      ]
     },
     "execution_count": 25,
     "metadata": {},
     "output_type": "execute_result"
    }
   ],
   "source": [
    "predict = pd.DataFrame(data = compare_models, \n",
    "                       columns=['Model','Cross_validation_mean(accuracy)', 'Cross_validation_mean(f1_score)'])\n",
    "predict.style.background_gradient(cmap='YlGn')"
   ]
  },
  {
   "cell_type": "code",
   "execution_count": 26,
   "id": "68c965f9",
   "metadata": {},
   "outputs": [
    {
     "name": "stdout",
     "output_type": "stream",
     "text": [
      "Accuracy score:  0.7935943060498221\n",
      "------------------------------\n",
      "F1_score:  0.5994475138121548\n"
     ]
    }
   ],
   "source": [
    "#let's try out Random OverSampling technique on a RandomForest model.\n",
    "RF = RandomForestClassifier(random_state=0)\n",
    "RF.fit(x_train_OverSample,y_train_OverSample)\n",
    "y_pred = RF.predict(x_test)\n",
    "print (\"Accuracy score: \",accuracy_score(y_pred,y_test))\n",
    "print (\"------------------------------\")\n",
    "print (\"F1_score: \",f1_score(y_pred,y_test))"
   ]
  },
  {
   "cell_type": "code",
   "execution_count": 27,
   "id": "099cc0ca",
   "metadata": {},
   "outputs": [
    {
     "name": "stdout",
     "output_type": "stream",
     "text": [
      "Accuracy score:  0.7786476868327402\n",
      "------------------------------\n",
      "F1_score:  0.5266362252663622\n"
     ]
    }
   ],
   "source": [
    "#let's try out Random OverSampling technique on a Extra tree classifier.\n",
    "ET = ExtraTreesClassifier(random_state=0)\n",
    "ET.fit(x_train_OverSample,y_train_OverSample)\n",
    "y_pred = ET.predict(x_test)\n",
    "print (\"Accuracy score: \",accuracy_score(y_pred,y_test))\n",
    "print (\"------------------------------\")\n",
    "print (\"F1_score: \",f1_score(y_pred,y_test))"
   ]
  },
  {
   "cell_type": "code",
   "execution_count": 28,
   "id": "19f26fe4",
   "metadata": {},
   "outputs": [
    {
     "name": "stdout",
     "output_type": "stream",
     "text": [
      "{'n_estimators': [200, 400, 600, 800, 1000, 1200, 1400, 1600, 1800, 2000], 'max_features': ['auto', 'sqrt'], 'max_depth': [10, 20, 30, 40, 50, 60, 70, 80, 90, 100, 110, None], 'min_samples_split': [2, 5, 10], 'min_samples_leaf': [1, 2, 4], 'bootstrap': [True, False]}\n"
     ]
    }
   ],
   "source": [
    "# Number of trees in random forest\n",
    "n_estimators = [int(x) for x in np.linspace(start = 200, stop = 2000, num = 10)]\n",
    "# Number of features to consider at every split\n",
    "max_features = ['auto', 'sqrt']\n",
    "# Maximum number of levels in tree\n",
    "max_depth = [int(x) for x in np.linspace(10, 110, num = 11)]\n",
    "max_depth.append(None)\n",
    "# Minimum number of samples required to split a node\n",
    "min_samples_split = [2, 5, 10]\n",
    "# Minimum number of samples required at each leaf node\n",
    "min_samples_leaf = [1, 2, 4]\n",
    "# Method of selecting samples for training each tree\n",
    "bootstrap = [True, False]\n",
    "# Create the random grid\n",
    "random_grid = {'n_estimators': n_estimators,\n",
    "               'max_features': max_features,\n",
    "               'max_depth': max_depth,\n",
    "               'min_samples_split': min_samples_split,\n",
    "               'min_samples_leaf': min_samples_leaf,\n",
    "               'bootstrap': bootstrap}\n",
    "print(random_grid)"
   ]
  },
  {
   "cell_type": "code",
   "execution_count": 29,
   "id": "33940054",
   "metadata": {},
   "outputs": [
    {
     "name": "stdout",
     "output_type": "stream",
     "text": [
      "Fitting 3 folds for each of 100 candidates, totalling 300 fits\n"
     ]
    },
    {
     "data": {
      "text/plain": [
       "RandomizedSearchCV(cv=3, estimator=RandomForestClassifier(), n_iter=100,\n",
       "                   n_jobs=-1,\n",
       "                   param_distributions={'bootstrap': [True, False],\n",
       "                                        'max_depth': [10, 20, 30, 40, 50, 60,\n",
       "                                                      70, 80, 90, 100, 110,\n",
       "                                                      None],\n",
       "                                        'max_features': ['auto', 'sqrt'],\n",
       "                                        'min_samples_leaf': [1, 2, 4],\n",
       "                                        'min_samples_split': [2, 5, 10],\n",
       "                                        'n_estimators': [200, 400, 600, 800,\n",
       "                                                         1000, 1200, 1400, 1600,\n",
       "                                                         1800, 2000]},\n",
       "                   random_state=42, verbose=2)"
      ]
     },
     "execution_count": 29,
     "metadata": {},
     "output_type": "execute_result"
    }
   ],
   "source": [
    "rf = RandomForestClassifier()\n",
    "rf_random = RandomizedSearchCV(estimator = rf, param_distributions = random_grid, n_iter = 100, cv = 3, verbose=2, random_state=42, n_jobs = -1)\n",
    "# Fit the random search model\n",
    "rf_random.fit(x_train_OverSample, y_train_OverSample)"
   ]
  },
  {
   "cell_type": "code",
   "execution_count": 30,
   "id": "d9daf235",
   "metadata": {},
   "outputs": [
    {
     "data": {
      "text/plain": [
       "\"\\n{'bootstrap': True,\\n 'max_depth': 70,\\n 'max_features': 'auto',\\n 'min_samples_leaf': 4,\\n 'min_samples_split': 10,\\n 'n_estimators': 400}\\n\""
      ]
     },
     "execution_count": 30,
     "metadata": {},
     "output_type": "execute_result"
    }
   ],
   "source": [
    "rf_random.best_params_\n",
    "'''\n",
    "{'bootstrap': True,\n",
    " 'max_depth': 70,\n",
    " 'max_features': 'auto',\n",
    " 'min_samples_leaf': 4,\n",
    " 'min_samples_split': 10,\n",
    " 'n_estimators': 400}\n",
    "''' "
   ]
  },
  {
   "cell_type": "code",
   "execution_count": 49,
   "id": "0132eb71",
   "metadata": {
    "scrolled": true
   },
   "outputs": [
    {
     "name": "stdout",
     "output_type": "stream",
     "text": [
      "Train Accuracy Score:  0.8983297022512708\n",
      "Test Accuracy Score:  0.7857651245551601\n"
     ]
    }
   ],
   "source": [
    "RFmodel = RandomForestClassifier(bootstrap=True,max_features='auto',min_samples_leaf=4,max_depth=70,\n",
    " min_samples_split=10,n_estimators=400, random_state = 42)\n",
    "RFmodel.fit(x_train_OverSample, y_train_OverSample)\n",
    "y_pred = RFmodel.predict(x_test)\n",
    "print (\"Train Accuracy Score: \",accuracy_score(y_train_OverSample, RFmodel.predict(x_train_OverSample)))\n",
    "print (\"Test Accuracy Score: \",accuracy_score(y_test, y_pred))"
   ]
  },
  {
   "cell_type": "code",
   "execution_count": 58,
   "id": "dd04dc2f",
   "metadata": {},
   "outputs": [
    {
     "data": {
      "text/plain": [
       "{0.006351451248578188: 'phoneservice',\n",
       " 0.0109644145056215: 'paymentmethod_Mailed check',\n",
       " 0.013129265270609725: 'paymentmethod_Credit card (automatic)',\n",
       " 0.016081749760935092: 'streamingtv',\n",
       " 0.01686442541154547: 'dependents',\n",
       " 0.01721032661762825: 'seniorcitizen',\n",
       " 0.017467569502256093: 'streamingmovies',\n",
       " 0.018905024830090447: 'partner',\n",
       " 0.020378834321390513: 'multiplelines',\n",
       " 0.021449340573751245: 'gender',\n",
       " 0.02523524856213912: 'paperlessbilling',\n",
       " 0.026197862487258146: 'deviceprotection',\n",
       " 0.03606245910240231: 'onlinebackup',\n",
       " 0.04129611358118373: 'internetservice',\n",
       " 0.04676624794762164: 'contract_One year',\n",
       " 0.0505539764225186: 'paymentmethod_Electronic check',\n",
       " 0.06810925620261893: 'techsupport',\n",
       " 0.07240803341435108: 'onlinesecurity',\n",
       " 0.09545869795980336: 'contract_Two year',\n",
       " 0.1488821320766127: 'monthlycharges',\n",
       " 0.2302275702010839: 'tenure'}"
      ]
     },
     "execution_count": 58,
     "metadata": {},
     "output_type": "execute_result"
    }
   ],
   "source": [
    "d = dict(zip(RFmodel.feature_importances_, x_train_OverSample.columns))\n",
    "dict(sorted(d.items()))"
   ]
  },
  {
   "cell_type": "code",
   "execution_count": 63,
   "id": "b1f9537f",
   "metadata": {},
   "outputs": [],
   "source": [
    "feature_selected = ['tenure','monthlycharges','contract_Two year','onlinesecurity','techsupport']"
   ]
  },
  {
   "cell_type": "code",
   "execution_count": 65,
   "id": "9eb75695",
   "metadata": {},
   "outputs": [
    {
     "name": "stdout",
     "output_type": "stream",
     "text": [
      "Train Accuracy Score:  0.901839748244977\n",
      "Test Accuracy Score:  0.7672597864768683\n"
     ]
    }
   ],
   "source": [
    "RFmodel = RandomForestClassifier(bootstrap=True,max_features='auto',min_samples_leaf=4,max_depth=70,\n",
    " min_samples_split=10,n_estimators=400, random_state = 42)\n",
    "RFmodel.fit(x_train_OverSample[feature_selected], y_train_OverSample)\n",
    "y_pred = RFmodel.predict(x_test[feature_selected])\n",
    "print (\"Train Accuracy Score: \",accuracy_score(y_train_OverSample, RFmodel.predict(x_train_OverSample[feature_selected])))\n",
    "print (\"Test Accuracy Score: \",accuracy_score(y_test, y_pred))"
   ]
  },
  {
   "cell_type": "code",
   "execution_count": 71,
   "id": "53251ffb",
   "metadata": {},
   "outputs": [
    {
     "name": "stdout",
     "output_type": "stream",
     "text": [
      "Train Accuracy Score:  0.8997821350762527\n",
      "Test Accuracy Score:  0.8021352313167259\n"
     ]
    }
   ],
   "source": [
    "#Using Smote algorithm\n",
    "RFmodel = RandomForestClassifier(bootstrap=True,max_features='auto',min_samples_leaf=4,max_depth=70,\n",
    " min_samples_split=10,n_estimators=400, random_state = 42)\n",
    "RFmodel.fit(x_train_smote, y_train_smote)\n",
    "y_pred = RFmodel.predict(x_test)\n",
    "print (\"Train Accuracy Score: \",accuracy_score(y_train_smote, RFmodel.predict(x_train_smote)))\n",
    "print (\"Test Accuracy Score: \",accuracy_score(y_test, y_pred))"
   ]
  },
  {
   "cell_type": "code",
   "execution_count": 70,
   "id": "c77eaf28",
   "metadata": {
    "scrolled": false
   },
   "outputs": [
    {
     "name": "stdout",
     "output_type": "stream",
     "text": [
      "Train Accuracy Score:  0.8568143306705398\n",
      "Test Accuracy Score:  0.7708185053380783\n"
     ]
    }
   ],
   "source": [
    "RFmodel_1 = RandomForestClassifier(bootstrap=True,max_features='auto',min_samples_leaf=4,max_depth=70,\n",
    " min_samples_split=10,n_estimators=400, random_state = 42)\n",
    "RFmodel_1.fit(x_train_smote[feature_selected], y_train_smote)\n",
    "y_pred = RFmodel_1.predict(x_test[feature_selected])\n",
    "print (\"Train Accuracy Score: \",accuracy_score(y_train_smote, RFmodel_1.predict(x_train_smote[feature_selected])))\n",
    "print (\"Test Accuracy Score: \",accuracy_score(y_test, y_pred))"
   ]
  },
  {
   "cell_type": "code",
   "execution_count": 81,
   "id": "c005d34b",
   "metadata": {},
   "outputs": [
    {
     "name": "stdout",
     "output_type": "stream",
     "text": [
      "Collecting scikit-learn==0.20.3\n",
      "\u001b[?25l  Downloading https://files.pythonhosted.org/packages/aa/cc/a84e1748a2a70d0f3e081f56cefc634f3b57013b16faa6926d3a6f0598df/scikit_learn-0.20.3-cp37-cp37m-manylinux1_x86_64.whl (5.4MB)\n",
      "\u001b[K     |████████████████████████████████| 5.4MB 24.7MB/s eta 0:00:01\n",
      "\u001b[?25hRequirement already satisfied, skipping upgrade: numpy>=1.8.2 in /opt/conda/lib/python3.7/site-packages (from scikit-learn==0.20.3) (1.21.4)\n",
      "Requirement already satisfied, skipping upgrade: scipy>=0.13.3 in /opt/conda/lib/python3.7/site-packages (from scikit-learn==0.20.3) (1.7.3)\n",
      "\u001b[31mERROR: mosaic-connector-python 1.0.0 has requirement nltk==3.3, but you'll have nltk 3.5 which is incompatible.\u001b[0m\n",
      "\u001b[31mERROR: mosaic-connector-python 1.0.0 has requirement numpy==1.16.1, but you'll have numpy 1.21.4 which is incompatible.\u001b[0m\n",
      "\u001b[31mERROR: mosaic-connector-python 1.0.0 has requirement pandas==1.0.4, but you'll have pandas 1.1.4 which is incompatible.\u001b[0m\n",
      "\u001b[31mERROR: mosaic-connector-python 1.0.0 has requirement scikit-learn==0.24.2, but you'll have scikit-learn 0.20.3 which is incompatible.\u001b[0m\n",
      "\u001b[31mERROR: kyd 0.1.10 has requirement bokeh==2.3.3, but you'll have bokeh 2.1.1 which is incompatible.\u001b[0m\n",
      "\u001b[31mERROR: kyd 0.1.10 has requirement matplotlib==3.3.4, but you'll have matplotlib 3.1.1 which is incompatible.\u001b[0m\n",
      "\u001b[31mERROR: kyd 0.1.10 has requirement nltk==3.6.2, but you'll have nltk 3.5 which is incompatible.\u001b[0m\n",
      "\u001b[31mERROR: kyd 0.1.10 has requirement numpy==1.19.2, but you'll have numpy 1.21.4 which is incompatible.\u001b[0m\n",
      "\u001b[31mERROR: kyd 0.1.10 has requirement pandas==1.1.5, but you'll have pandas 1.1.4 which is incompatible.\u001b[0m\n",
      "\u001b[31mERROR: kyd 0.1.10 has requirement scikit-learn==0.24.2, but you'll have scikit-learn 0.20.3 which is incompatible.\u001b[0m\n",
      "\u001b[31mERROR: imbalanced-learn 0.9.0 has requirement scikit-learn>=1.0.1, but you'll have scikit-learn 0.20.3 which is incompatible.\u001b[0m\n",
      "Installing collected packages: scikit-learn\n",
      "  Found existing installation: scikit-learn 1.0.2\n",
      "    Uninstalling scikit-learn-1.0.2:\n",
      "      Successfully uninstalled scikit-learn-1.0.2\n",
      "Successfully installed scikit-learn-0.20.3\n",
      "\u001b[33mWARNING: You are using pip version 19.3.1; however, version 21.3.1 is available.\n",
      "You should consider upgrading via the 'pip install --upgrade pip' command.\u001b[0m\n"
     ]
    }
   ],
   "source": [
    "!pip install --upgrade scikit-learn==0.20.3"
   ]
  },
  {
   "cell_type": "code",
   "execution_count": 82,
   "id": "1c8fb19d",
   "metadata": {
    "scrolled": true
   },
   "outputs": [],
   "source": [
    "from mosaicml import *\n",
    "from mosaicml.constants import MLModelFlavours"
   ]
  },
  {
   "cell_type": "code",
   "execution_count": 85,
   "id": "10877cbf",
   "metadata": {},
   "outputs": [],
   "source": [
    "def model(algorithm,dtrain_X,dtrain_Y,dtest_X,dtest_Y,cols=None):\n",
    "\n",
    "    algorithm.fit(dtrain_X[cols],dtrain_Y)\n",
    "    predictions = algorithm.predict(dtest_X[cols])\n",
    "    print (algorithm)\n",
    "    \n",
    "    print (\"Accuracy score : \", accuracy_score(predictions,dtest_Y))\n",
    "    print (\"classification report :\\n\",classification_report(predictions,dtest_Y))\n",
    "    \n",
    "    fig = plt.figure(figsize=(10,8))\n",
    "    ax  = fig.add_subplot(111)\n",
    "    prediction_probabilities = algorithm.predict_proba(dtest_X[cols])[:,1]\n",
    "    fpr , tpr , thresholds   = roc_curve(dtest_Y,prediction_probabilities)\n",
    "    ax.plot(fpr,tpr,label   = [\"Area under curve : \",auc(fpr,tpr)],linewidth=2,linestyle=\"dotted\")\n",
    "    ax.plot([0,1],[0,1],linewidth=2,linestyle=\"dashed\")\n",
    "    plt.legend(loc=\"best\")\n",
    "    plt.title(\"ROC-CURVE & AREA UNDER CURVE\")\n",
    "    ax.set_facecolor(\"k\")\n",
    "    return predictions,prediction_probabilities,algorithm"
   ]
  },
  {
   "cell_type": "code",
   "execution_count": 88,
   "id": "34626d39",
   "metadata": {},
   "outputs": [
    {
     "name": "stdout",
     "output_type": "stream",
     "text": [
      "RandomForestClassifier(max_depth=70, min_samples_leaf=4, min_samples_split=10,\n",
      "                       n_estimators=400, random_state=42)\n",
      "Accuracy score :  0.8021352313167259\n",
      "classification report :\n",
      "               precision    recall  f1-score   support\n",
      "\n",
      "           0       0.84      0.88      0.86       987\n",
      "           1       0.69      0.61      0.65       418\n",
      "\n",
      "    accuracy                           0.80      1405\n",
      "   macro avg       0.77      0.75      0.76      1405\n",
      "weighted avg       0.80      0.80      0.80      1405\n",
      "\n"
     ]
    },
    {
     "data": {
      "image/png": "[encoded data removed]",
      "text/plain": [
       "<Figure size 720x576 with 1 Axes>"
      ]
     },
     "metadata": {
      "needs_background": "light"
     },
     "output_type": "display_data"
    }
   ],
   "source": [
    "RFmodel = RandomForestClassifier(bootstrap=True,max_features='auto',min_samples_leaf=4,max_depth=70,\n",
    " min_samples_split=10,n_estimators=400, random_state = 42)\n",
    "\n",
    "y_pred,y_prob,model_obj=model(RFmodel,x_train_smote,y_train_smote,x_test,y_test,x_train_smote.columns)"
   ]
  },
  {
   "cell_type": "code",
   "execution_count": 89,
   "id": "2ea28459",
   "metadata": {},
   "outputs": [
    {
     "name": "stdout",
     "output_type": "stream",
     "text": [
      "{'input': {'type': 'pd.core.frame.DataFrame', 'items': {'type': 'object', 'properties': {'gender': {'type': 'number', 'format': 'double'}, 'seniorcitizen': {'type': 'number', 'format': 'double'}, 'partner': {'type': 'number', 'format': 'double'}, 'dependents': {'type': 'number', 'format': 'double'}, 'tenure': {'type': 'number', 'format': 'double'}, 'phoneservice': {'type': 'number', 'format': 'double'}, 'multiplelines': {'type': 'number', 'format': 'double'}, 'internetservice': {'type': 'number', 'format': 'double'}, 'onlinesecurity': {'type': 'number', 'format': 'double'}, 'onlinebackup': {'type': 'number', 'format': 'double'}, 'deviceprotection': {'type': 'number', 'format': 'double'}, 'techsupport': {'type': 'number', 'format': 'double'}, 'streamingtv': {'type': 'number', 'format': 'double'}, 'streamingmovies': {'type': 'number', 'format': 'double'}, 'paperlessbilling': {'type': 'number', 'format': 'double'}, 'monthlycharges': {'type': 'number', 'format': 'double'}, 'contract_One year': {'type': 'number', 'format': 'double'}, 'contract_Two year': {'type': 'number', 'format': 'double'}, 'paymentmethod_Credit card (automatic)': {'type': 'number', 'format': 'double'}, 'paymentmethod_Electronic check': {'type': 'number', 'format': 'double'}, 'paymentmethod_Mailed check': {'type': 'number', 'format': 'double'}}}, 'example': [{'gender': 0.0, 'seniorcitizen': 1.0, 'partner': 0.0, 'dependents': 0.0, 'tenure': 0.3194444444444444, 'phoneservice': 1.0, 'multiplelines': 1.0, 'internetservice': 0.5, 'onlinesecurity': 0.0, 'onlinebackup': 0.0, 'deviceprotection': 1.0, 'techsupport': 0.0, 'streamingtv': 0.0, 'streamingmovies': 0.0, 'paperlessbilling': 1.0, 'monthlycharges': 0.607960199004975, 'contract_One year': 0.0, 'contract_Two year': 0.0, 'paymentmethod_Credit card (automatic)': 0.0, 'paymentmethod_Electronic check': 0.0, 'paymentmethod_Mailed check': 1.0}, {'gender': 1.0, 'seniorcitizen': 0.0, 'partner': 1.0, 'dependents': 1.0, 'tenure': 0.013888888888888888, 'phoneservice': 1.0, 'multiplelines': 0.0, 'internetservice': 0.5, 'onlinesecurity': 0.0, 'onlinebackup': 0.0, 'deviceprotection': 0.0, 'techsupport': 0.0, 'streamingtv': 0.0, 'streamingmovies': 1.0, 'paperlessbilling': 0.0, 'monthlycharges': 0.6144278606965173, 'contract_One year': 0.0, 'contract_Two year': 0.0, 'paymentmethod_Credit card (automatic)': 0.0, 'paymentmethod_Electronic check': 1.0, 'paymentmethod_Mailed check': 0.0}]}, 'output': {'type': 'array', 'items': {'type': 'object'}, 'example': [0]}}\n"
     ]
    }
   ],
   "source": [
    "@scoring_func\n",
    "def score(model, request):\n",
    "    payload = request.json[\"payload\"]\n",
    "    data = pd.DataFrame(eval(payload))\n",
    "    #data_list = payload\n",
    "    #data_array = numpy.asarray(data_list)\n",
    "    prediction = pd.Series(model.predict(data))\n",
    "    #prediction_proba = model.predict_proba(data_array)\n",
    "    return prediction.tolist()\n",
    "\n",
    "import requests\n",
    "req = requests.Request()\n",
    "#req.json = {\"payload\":train_X.head(1).to_numpy()}\n",
    "req.json = {\"payload\":x_train_smote.head(1).to_json()}\n",
    "\n",
    "sch = generate_schema(score,(model_obj, req),x_train_smote)\n",
    "print(sch)"
   ]
  },
  {
   "cell_type": "code",
   "execution_count": null,
   "id": "a9f39383",
   "metadata": {},
   "outputs": [],
   "source": [
    "register_model(model_obj, \n",
    "               score, \n",
    "               name=\"telecom_churn_prediction\", \n",
    "               description=\"Predicting the churn related to telecom industry\",\n",
    "               flavour=MLModelFlavours.sklearn,\n",
    "               model_type=\"classification\",\n",
    "               schema=sch,\n",
    "               y_true=y_test,\n",
    "               y_pred=y_pred, \n",
    "               prob=y_prob, \n",
    "               features=x_train_smote.columns,\n",
    "               labels=[0,1], \n",
    "               init_script=\"\" ,\n",
    "               input_type=\"json\", \n",
    "               explain_ai=True, \n",
    "               x_train=x_train_smote, \n",
    "               x_test=test_X, \n",
    "               y_train=train_Y['TARGET'].tolist(),\n",
    "               y_test=test_Y['TARGET'].tolist(),\n",
    "               feature_names=train_X.columns.tolist(),\n",
    "               original_features=train_X.columns.tolist(),\n",
    "               feature_ids=train_X.columns,\n",
    "               target_names=['Low Risk','High Risk'])\n",
    "#kyd=True, kyd_score = True)\n",
    "print(\"Registering model\")"
   ]
  },
  {
   "cell_type": "code",
   "execution_count": null,
   "id": "704f3e6b",
   "metadata": {},
   "outputs": [],
   "source": []
  },
  {
   "cell_type": "code",
   "execution_count": null,
   "id": "8f073145",
   "metadata": {},
   "outputs": [],
   "source": []
  },
  {
   "cell_type": "code",
   "execution_count": null,
   "id": "237b2315",
   "metadata": {},
   "outputs": [],
   "source": []
  },
  {
   "cell_type": "code",
   "execution_count": null,
   "id": "14cea772",
   "metadata": {},
   "outputs": [],
   "source": []
  }
 ],
 "metadata": {
  "kernelspec": {
   "display_name": "Python 3",
   "language": "python",
   "name": "python3"
  },
  "language_info": {
   "codemirror_mode": {
    "name": "ipython",
    "version": 3
   },
   "file_extension": ".py",
   "mimetype": "text/x-python",
   "name": "python",
   "nbconvert_exporter": "python",
   "pygments_lexer": "ipython3",
   "version": "3.7.12"
  }
 },
 "nbformat": 4,
 "nbformat_minor": 5
}
