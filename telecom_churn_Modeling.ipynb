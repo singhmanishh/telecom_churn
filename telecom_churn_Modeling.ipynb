{
 "cells": [
  {
   "cell_type": "code",
   "execution_count": 1,
   "id": "273f4a45",
   "metadata": {
    "scrolled": false
   },
   "outputs": [
    {
     "name": "stdout",
     "output_type": "stream",
     "text": [
      "Collecting imbalanced-learn\n",
      "\u001b[?25l  Downloading https://files.pythonhosted.org/packages/83/92/a4d1f42b29e9f62f9c3fad68d28282a9610a02801e1d89945702f981dd8e/imbalanced_learn-0.9.0-py3-none-any.whl (199kB)\n",
      "\u001b[K     |████████████████████████████████| 204kB 22.3MB/s eta 0:00:01\n",
      "\u001b[?25hRequirement already satisfied: joblib>=0.11 in /opt/conda/lib/python3.7/site-packages (from imbalanced-learn) (1.1.0)\n",
      "Requirement already satisfied: threadpoolctl>=2.0.0 in /opt/conda/lib/python3.7/site-packages (from imbalanced-learn) (3.0.0)\n",
      "Requirement already satisfied: numpy>=1.14.6 in /opt/conda/lib/python3.7/site-packages (from imbalanced-learn) (1.21.4)\n",
      "Collecting scikit-learn>=1.0.1\n",
      "\u001b[?25l  Downloading https://files.pythonhosted.org/packages/bd/05/e561bc99a615b5c099c7a9355409e5e57c525a108f1c2e156abb005b90a6/scikit_learn-1.0.2-cp37-cp37m-manylinux_2_17_x86_64.manylinux2014_x86_64.whl (24.8MB)\n",
      "\u001b[K     |████████████████████████████████| 24.8MB 71.6MB/s eta 0:00:01\n",
      "\u001b[?25hRequirement already satisfied: scipy>=1.1.0 in /opt/conda/lib/python3.7/site-packages (from imbalanced-learn) (1.7.3)\n",
      "\u001b[31mERROR: mosaic-connector-python 1.0.0 has requirement nltk==3.3, but you'll have nltk 3.5 which is incompatible.\u001b[0m\n",
      "\u001b[31mERROR: mosaic-connector-python 1.0.0 has requirement numpy==1.16.1, but you'll have numpy 1.21.4 which is incompatible.\u001b[0m\n",
      "\u001b[31mERROR: mosaic-connector-python 1.0.0 has requirement pandas==1.0.4, but you'll have pandas 1.1.4 which is incompatible.\u001b[0m\n",
      "\u001b[31mERROR: mosaic-connector-python 1.0.0 has requirement scikit-learn==0.24.2, but you'll have scikit-learn 1.0.2 which is incompatible.\u001b[0m\n",
      "\u001b[31mERROR: kyd 0.1.10 has requirement bokeh==2.3.3, but you'll have bokeh 2.1.1 which is incompatible.\u001b[0m\n",
      "\u001b[31mERROR: kyd 0.1.10 has requirement matplotlib==3.3.4, but you'll have matplotlib 3.1.1 which is incompatible.\u001b[0m\n",
      "\u001b[31mERROR: kyd 0.1.10 has requirement nltk==3.6.2, but you'll have nltk 3.5 which is incompatible.\u001b[0m\n",
      "\u001b[31mERROR: kyd 0.1.10 has requirement numpy==1.19.2, but you'll have numpy 1.21.4 which is incompatible.\u001b[0m\n",
      "\u001b[31mERROR: kyd 0.1.10 has requirement pandas==1.1.5, but you'll have pandas 1.1.4 which is incompatible.\u001b[0m\n",
      "\u001b[31mERROR: kyd 0.1.10 has requirement scikit-learn==0.24.2, but you'll have scikit-learn 1.0.2 which is incompatible.\u001b[0m\n",
      "Installing collected packages: scikit-learn, imbalanced-learn\n",
      "  Found existing installation: scikit-learn 0.21.3\n",
      "    Uninstalling scikit-learn-0.21.3:\n",
      "      Successfully uninstalled scikit-learn-0.21.3\n",
      "Successfully installed imbalanced-learn-0.9.0 scikit-learn-1.0.2\n",
      "\u001b[33mWARNING: You are using pip version 19.3.1; however, version 21.3.1 is available.\n",
      "You should consider upgrading via the 'pip install --upgrade pip' command.\u001b[0m\n"
     ]
    }
   ],
   "source": [
    "!pip3 install imbalanced-learn"
   ]
  },
  {
   "cell_type": "code",
   "execution_count": 2,
   "id": "d1df4801",
   "metadata": {},
   "outputs": [],
   "source": [
    "import warnings\n",
    "warnings.filterwarnings(\"ignore\")"
   ]
  },
  {
   "cell_type": "code",
   "execution_count": 3,
   "id": "36891999",
   "metadata": {
    "scrolled": true
   },
   "outputs": [],
   "source": [
    "from imblearn.over_sampling import RandomOverSampler, SMOTE"
   ]
  },
  {
   "cell_type": "code",
   "execution_count": 4,
   "id": "d9e24ee6",
   "metadata": {},
   "outputs": [],
   "source": [
    "import numpy as np \n",
    "import pandas as pd\n",
    "from sklearn.model_selection import train_test_split\n",
    "from sklearn.model_selection import KFold, StratifiedKFold, RepeatedStratifiedKFold\n",
    "from sklearn.model_selection import cross_val_score, cross_val_predict\n",
    "from sklearn.model_selection import GridSearchCV, RandomizedSearchCV\n",
    "from sklearn.preprocessing import LabelEncoder\n",
    "from sklearn.preprocessing import StandardScaler\n",
    "from sklearn.preprocessing import MinMaxScaler\n",
    "from sklearn.preprocessing import RobustScaler"
   ]
  },
  {
   "cell_type": "code",
   "execution_count": 5,
   "id": "545fa0be",
   "metadata": {},
   "outputs": [],
   "source": [
    "from sklearn.tree import DecisionTreeClassifier\n",
    "from sklearn.neural_network import MLPClassifier\n",
    "from sklearn.neighbors import KNeighborsClassifier\n",
    "from sklearn.ensemble import ExtraTreesClassifier\n",
    "from sklearn.ensemble import GradientBoostingClassifier\n",
    "from sklearn.ensemble import RandomForestClassifier\n",
    "from sklearn.linear_model import LogisticRegression"
   ]
  },
  {
   "cell_type": "code",
   "execution_count": 6,
   "id": "736ba317",
   "metadata": {},
   "outputs": [],
   "source": [
    "from sklearn.metrics import confusion_matrix, classification_report\n",
    "from sklearn.metrics import accuracy_score, f1_score,recall_score, precision_score\n",
    "from sklearn.metrics import average_precision_score, roc_auc_score, roc_curve, auc"
   ]
  },
  {
   "cell_type": "code",
   "execution_count": 7,
   "id": "a3ea5583",
   "metadata": {},
   "outputs": [],
   "source": [
    "from statsmodels.stats.outliers_influence import variance_inflation_factor"
   ]
  },
  {
   "cell_type": "code",
   "execution_count": 8,
   "id": "d7bc55a5",
   "metadata": {},
   "outputs": [],
   "source": [
    "df = pd.read_csv('telecom_churn_preprocess_data.csv')"
   ]
  },
  {
   "cell_type": "code",
   "execution_count": 9,
   "id": "578dfeb7",
   "metadata": {
    "scrolled": true
   },
   "outputs": [
    {
     "data": {
      "text/html": [
       "<div>\n",
       "<style scoped>\n",
       "    .dataframe tbody tr th:only-of-type {\n",
       "        vertical-align: middle;\n",
       "    }\n",
       "\n",
       "    .dataframe tbody tr th {\n",
       "        vertical-align: top;\n",
       "    }\n",
       "\n",
       "    .dataframe thead th {\n",
       "        text-align: right;\n",
       "    }\n",
       "</style>\n",
       "<table border=\"1\" class=\"dataframe\">\n",
       "  <thead>\n",
       "    <tr style=\"text-align: right;\">\n",
       "      <th></th>\n",
       "      <th>Unnamed: 0</th>\n",
       "      <th>gender</th>\n",
       "      <th>seniorcitizen</th>\n",
       "      <th>partner</th>\n",
       "      <th>dependents</th>\n",
       "      <th>tenure</th>\n",
       "      <th>phoneservice</th>\n",
       "      <th>multiplelines</th>\n",
       "      <th>internetservice</th>\n",
       "      <th>onlinesecurity</th>\n",
       "      <th>...</th>\n",
       "      <th>streamingmovies</th>\n",
       "      <th>paperlessbilling</th>\n",
       "      <th>monthlycharges</th>\n",
       "      <th>totalcharges</th>\n",
       "      <th>churn</th>\n",
       "      <th>contract_One year</th>\n",
       "      <th>contract_Two year</th>\n",
       "      <th>paymentmethod_Credit card (automatic)</th>\n",
       "      <th>paymentmethod_Electronic check</th>\n",
       "      <th>paymentmethod_Mailed check</th>\n",
       "    </tr>\n",
       "  </thead>\n",
       "  <tbody>\n",
       "    <tr>\n",
       "      <th>0</th>\n",
       "      <td>0</td>\n",
       "      <td>0</td>\n",
       "      <td>0</td>\n",
       "      <td>1</td>\n",
       "      <td>0</td>\n",
       "      <td>1</td>\n",
       "      <td>0</td>\n",
       "      <td>1</td>\n",
       "      <td>0</td>\n",
       "      <td>0</td>\n",
       "      <td>...</td>\n",
       "      <td>0</td>\n",
       "      <td>1</td>\n",
       "      <td>29.85</td>\n",
       "      <td>29</td>\n",
       "      <td>0</td>\n",
       "      <td>0</td>\n",
       "      <td>0</td>\n",
       "      <td>0</td>\n",
       "      <td>1</td>\n",
       "      <td>0</td>\n",
       "    </tr>\n",
       "    <tr>\n",
       "      <th>1</th>\n",
       "      <td>1</td>\n",
       "      <td>1</td>\n",
       "      <td>0</td>\n",
       "      <td>0</td>\n",
       "      <td>0</td>\n",
       "      <td>34</td>\n",
       "      <td>1</td>\n",
       "      <td>0</td>\n",
       "      <td>0</td>\n",
       "      <td>2</td>\n",
       "      <td>...</td>\n",
       "      <td>0</td>\n",
       "      <td>0</td>\n",
       "      <td>56.95</td>\n",
       "      <td>1889</td>\n",
       "      <td>0</td>\n",
       "      <td>1</td>\n",
       "      <td>0</td>\n",
       "      <td>0</td>\n",
       "      <td>0</td>\n",
       "      <td>1</td>\n",
       "    </tr>\n",
       "    <tr>\n",
       "      <th>2</th>\n",
       "      <td>2</td>\n",
       "      <td>1</td>\n",
       "      <td>0</td>\n",
       "      <td>0</td>\n",
       "      <td>0</td>\n",
       "      <td>2</td>\n",
       "      <td>1</td>\n",
       "      <td>0</td>\n",
       "      <td>0</td>\n",
       "      <td>2</td>\n",
       "      <td>...</td>\n",
       "      <td>0</td>\n",
       "      <td>1</td>\n",
       "      <td>53.85</td>\n",
       "      <td>108</td>\n",
       "      <td>1</td>\n",
       "      <td>0</td>\n",
       "      <td>0</td>\n",
       "      <td>0</td>\n",
       "      <td>0</td>\n",
       "      <td>1</td>\n",
       "    </tr>\n",
       "    <tr>\n",
       "      <th>3</th>\n",
       "      <td>3</td>\n",
       "      <td>1</td>\n",
       "      <td>0</td>\n",
       "      <td>0</td>\n",
       "      <td>0</td>\n",
       "      <td>45</td>\n",
       "      <td>0</td>\n",
       "      <td>1</td>\n",
       "      <td>0</td>\n",
       "      <td>2</td>\n",
       "      <td>...</td>\n",
       "      <td>0</td>\n",
       "      <td>0</td>\n",
       "      <td>42.30</td>\n",
       "      <td>1840</td>\n",
       "      <td>0</td>\n",
       "      <td>1</td>\n",
       "      <td>0</td>\n",
       "      <td>0</td>\n",
       "      <td>0</td>\n",
       "      <td>0</td>\n",
       "    </tr>\n",
       "    <tr>\n",
       "      <th>4</th>\n",
       "      <td>4</td>\n",
       "      <td>0</td>\n",
       "      <td>0</td>\n",
       "      <td>0</td>\n",
       "      <td>0</td>\n",
       "      <td>2</td>\n",
       "      <td>1</td>\n",
       "      <td>0</td>\n",
       "      <td>1</td>\n",
       "      <td>0</td>\n",
       "      <td>...</td>\n",
       "      <td>0</td>\n",
       "      <td>1</td>\n",
       "      <td>70.70</td>\n",
       "      <td>151</td>\n",
       "      <td>1</td>\n",
       "      <td>0</td>\n",
       "      <td>0</td>\n",
       "      <td>0</td>\n",
       "      <td>1</td>\n",
       "      <td>0</td>\n",
       "    </tr>\n",
       "  </tbody>\n",
       "</table>\n",
       "<p>5 rows × 24 columns</p>\n",
       "</div>"
      ],
      "text/plain": [
       "   Unnamed: 0  gender  seniorcitizen  partner  dependents  tenure  \\\n",
       "0           0       0              0        1           0       1   \n",
       "1           1       1              0        0           0      34   \n",
       "2           2       1              0        0           0       2   \n",
       "3           3       1              0        0           0      45   \n",
       "4           4       0              0        0           0       2   \n",
       "\n",
       "   phoneservice  multiplelines  internetservice  onlinesecurity  ...  \\\n",
       "0             0              1                0               0  ...   \n",
       "1             1              0                0               2  ...   \n",
       "2             1              0                0               2  ...   \n",
       "3             0              1                0               2  ...   \n",
       "4             1              0                1               0  ...   \n",
       "\n",
       "   streamingmovies  paperlessbilling  monthlycharges  totalcharges  churn  \\\n",
       "0                0                 1           29.85            29      0   \n",
       "1                0                 0           56.95          1889      0   \n",
       "2                0                 1           53.85           108      1   \n",
       "3                0                 0           42.30          1840      0   \n",
       "4                0                 1           70.70           151      1   \n",
       "\n",
       "   contract_One year  contract_Two year  \\\n",
       "0                  0                  0   \n",
       "1                  1                  0   \n",
       "2                  0                  0   \n",
       "3                  1                  0   \n",
       "4                  0                  0   \n",
       "\n",
       "   paymentmethod_Credit card (automatic)  paymentmethod_Electronic check  \\\n",
       "0                                      0                               1   \n",
       "1                                      0                               0   \n",
       "2                                      0                               0   \n",
       "3                                      0                               0   \n",
       "4                                      0                               1   \n",
       "\n",
       "   paymentmethod_Mailed check  \n",
       "0                           0  \n",
       "1                           1  \n",
       "2                           1  \n",
       "3                           0  \n",
       "4                           0  \n",
       "\n",
       "[5 rows x 24 columns]"
      ]
     },
     "execution_count": 9,
     "metadata": {},
     "output_type": "execute_result"
    }
   ],
   "source": [
    "df.head()"
   ]
  },
  {
   "cell_type": "code",
   "execution_count": 10,
   "id": "d68baf25",
   "metadata": {},
   "outputs": [],
   "source": [
    "df.drop('Unnamed: 0', axis=1, inplace=True)"
   ]
  },
  {
   "cell_type": "code",
   "execution_count": 11,
   "id": "d47dc419",
   "metadata": {},
   "outputs": [],
   "source": [
    "x = df.drop(\"churn\", axis = 1)\n",
    "y = df['churn']"
   ]
  },
  {
   "cell_type": "code",
   "execution_count": 12,
   "id": "6d2e2ade",
   "metadata": {},
   "outputs": [],
   "source": [
    "#We are deleting totalcharges due to high correlation with tenure column.\n",
    "x.drop('totalcharges', axis=1, inplace=True)"
   ]
  },
  {
   "cell_type": "code",
   "execution_count": 13,
   "id": "ad16bb94",
   "metadata": {
    "scrolled": true
   },
   "outputs": [
    {
     "name": "stdout",
     "output_type": "stream",
     "text": [
      "0    4131\n",
      "1    1485\n",
      "Name: churn, dtype: int64\n"
     ]
    }
   ],
   "source": [
    "x_train, x_test, y_train, y_test = train_test_split(x, y, random_state =100 ,stratify=y, test_size = 0.2)\n",
    "print(y_train.value_counts())"
   ]
  },
  {
   "cell_type": "code",
   "execution_count": 14,
   "id": "1b77f6a6",
   "metadata": {},
   "outputs": [],
   "source": [
    "scale = MinMaxScaler()\n",
    "col = x_train.columns\n",
    "\n",
    "x_train[col] = scale.fit_transform(x_train[col])\n",
    "x_test[col] = scale.transform(x_test[col])"
   ]
  },
  {
   "cell_type": "code",
   "execution_count": 15,
   "id": "c4e1ddcb",
   "metadata": {},
   "outputs": [],
   "source": [
    "#Fit basic model on imbalanced dataset\n",
    "DT = DecisionTreeClassifier(random_state=0)\n",
    "cross_val_DT = cross_val_score(DT, x_train, y_train , scoring = 'accuracy' ) \n",
    "cross_val_DT_f1 = cross_val_score(DT, x_train, y_train , scoring = 'f1') \n",
    "\n",
    "RF = RandomForestClassifier(random_state=0)\n",
    "cross_val_RF = cross_val_score(RF, x_train, y_train , scoring = 'accuracy' ) \n",
    "cross_val_RF_f1 = cross_val_score(RF, x_train, y_train , scoring = 'f1') \n",
    "\n",
    "ET = ExtraTreesClassifier(random_state=0)\n",
    "cross_val_ET = cross_val_score(ET, x_train, y_train , scoring = 'accuracy' ) \n",
    "cross_val_ET_f1 = cross_val_score(ET, x_train, y_train , scoring = 'f1') \n",
    "\n",
    "MLP = MLPClassifier(random_state=0)\n",
    "cross_val_MLP = cross_val_score(MLP, x_train, y_train , scoring = 'accuracy' ) \n",
    "cross_val_MLP_f1 = cross_val_score(MLP, x_train, y_train , scoring = 'f1') \n",
    "\n",
    "GB = GradientBoostingClassifier(random_state=0)\n",
    "cross_val_GB = cross_val_score(GB, x_train, y_train , scoring = 'accuracy' ) \n",
    "cross_val_GB_f1 = cross_val_score(GB, x_train, y_train , scoring = 'f1') \n",
    "\n",
    "LR = LogisticRegression(random_state=0)\n",
    "cross_val_LR = cross_val_score(LR, x_train, y_train , scoring = 'accuracy' ) \n",
    "cross_val_LR_f1 = cross_val_score(LR, x_train, y_train , scoring = 'f1') \n",
    "\n",
    "KNN = KNeighborsClassifier()\n",
    "cross_val_KNN = cross_val_score(KNN, x_train, y_train , scoring = 'accuracy' ) \n",
    "cross_val_KNN_f1 = cross_val_score(KNN, x_train, y_train , scoring = 'f1') "
   ]
  },
  {
   "cell_type": "code",
   "execution_count": 16,
   "id": "a8d083b7",
   "metadata": {},
   "outputs": [],
   "source": [
    "compare_models = [('Decision Tree', cross_val_DT.mean(),cross_val_DT_f1.mean()),\n",
    "                  ('Random Forest', cross_val_RF.mean(),cross_val_RF_f1.mean()),\n",
    "                  ('Neural Network', cross_val_MLP.mean(),cross_val_MLP_f1.mean()),\n",
    "                  ('Extra Tree', cross_val_ET.mean(),cross_val_ET_f1.mean()),\n",
    "                  ('GradientBoosting', cross_val_GB.mean(),cross_val_GB_f1.mean()),\n",
    "                  ('Logistic Regression', cross_val_LR.mean(),cross_val_LR_f1.mean()),\n",
    "                  ('KNN', cross_val_KNN.mean(), cross_val_KNN_f1.mean())]"
   ]
  },
  {
   "cell_type": "code",
   "execution_count": 17,
   "id": "c9eec379",
   "metadata": {
    "scrolled": true
   },
   "outputs": [
    {
     "data": {
      "text/html": [
       "<style  type=\"text/css\" >\n",
       "#T_ac73f592_7b89_11ec_a928_6e89a2b94e08row0_col1,#T_ac73f592_7b89_11ec_a928_6e89a2b94e08row0_col2{\n",
       "            background-color:  #ffffe5;\n",
       "            color:  #000000;\n",
       "        }#T_ac73f592_7b89_11ec_a928_6e89a2b94e08row1_col1{\n",
       "            background-color:  #1a7d40;\n",
       "            color:  #f1f1f1;\n",
       "        }#T_ac73f592_7b89_11ec_a928_6e89a2b94e08row1_col2{\n",
       "            background-color:  #9cd687;\n",
       "            color:  #000000;\n",
       "        }#T_ac73f592_7b89_11ec_a928_6e89a2b94e08row2_col1{\n",
       "            background-color:  #14783e;\n",
       "            color:  #f1f1f1;\n",
       "        }#T_ac73f592_7b89_11ec_a928_6e89a2b94e08row2_col2{\n",
       "            background-color:  #187b3f;\n",
       "            color:  #f1f1f1;\n",
       "        }#T_ac73f592_7b89_11ec_a928_6e89a2b94e08row3_col1{\n",
       "            background-color:  #62bb6e;\n",
       "            color:  #000000;\n",
       "        }#T_ac73f592_7b89_11ec_a928_6e89a2b94e08row3_col2{\n",
       "            background-color:  #e9f6af;\n",
       "            color:  #000000;\n",
       "        }#T_ac73f592_7b89_11ec_a928_6e89a2b94e08row4_col1{\n",
       "            background-color:  #004e2d;\n",
       "            color:  #f1f1f1;\n",
       "        }#T_ac73f592_7b89_11ec_a928_6e89a2b94e08row4_col2{\n",
       "            background-color:  #10743c;\n",
       "            color:  #f1f1f1;\n",
       "        }#T_ac73f592_7b89_11ec_a928_6e89a2b94e08row5_col1,#T_ac73f592_7b89_11ec_a928_6e89a2b94e08row5_col2{\n",
       "            background-color:  #004529;\n",
       "            color:  #f1f1f1;\n",
       "        }#T_ac73f592_7b89_11ec_a928_6e89a2b94e08row6_col1{\n",
       "            background-color:  #74c477;\n",
       "            color:  #000000;\n",
       "        }#T_ac73f592_7b89_11ec_a928_6e89a2b94e08row6_col2{\n",
       "            background-color:  #72c376;\n",
       "            color:  #000000;\n",
       "        }</style><table id=\"T_ac73f592_7b89_11ec_a928_6e89a2b94e08\" ><thead>    <tr>        <th class=\"blank level0\" ></th>        <th class=\"col_heading level0 col0\" >Model</th>        <th class=\"col_heading level0 col1\" >Cross_validation_mean(accuracy)</th>        <th class=\"col_heading level0 col2\" >Cross_validation_mean(f1_score)</th>    </tr></thead><tbody>\n",
       "                <tr>\n",
       "                        <th id=\"T_ac73f592_7b89_11ec_a928_6e89a2b94e08level0_row0\" class=\"row_heading level0 row0\" >0</th>\n",
       "                        <td id=\"T_ac73f592_7b89_11ec_a928_6e89a2b94e08row0_col0\" class=\"data row0 col0\" >Decision Tree</td>\n",
       "                        <td id=\"T_ac73f592_7b89_11ec_a928_6e89a2b94e08row0_col1\" class=\"data row0 col1\" >0.717949</td>\n",
       "                        <td id=\"T_ac73f592_7b89_11ec_a928_6e89a2b94e08row0_col2\" class=\"data row0 col2\" >0.477875</td>\n",
       "            </tr>\n",
       "            <tr>\n",
       "                        <th id=\"T_ac73f592_7b89_11ec_a928_6e89a2b94e08level0_row1\" class=\"row_heading level0 row1\" >1</th>\n",
       "                        <td id=\"T_ac73f592_7b89_11ec_a928_6e89a2b94e08row1_col0\" class=\"data row1 col0\" >Random Forest</td>\n",
       "                        <td id=\"T_ac73f592_7b89_11ec_a928_6e89a2b94e08row1_col1\" class=\"data row1 col1\" >0.780092</td>\n",
       "                        <td id=\"T_ac73f592_7b89_11ec_a928_6e89a2b94e08row1_col2\" class=\"data row1 col2\" >0.518339</td>\n",
       "            </tr>\n",
       "            <tr>\n",
       "                        <th id=\"T_ac73f592_7b89_11ec_a928_6e89a2b94e08level0_row2\" class=\"row_heading level0 row2\" >2</th>\n",
       "                        <td id=\"T_ac73f592_7b89_11ec_a928_6e89a2b94e08row2_col0\" class=\"data row2 col0\" >Neural Network</td>\n",
       "                        <td id=\"T_ac73f592_7b89_11ec_a928_6e89a2b94e08row2_col1\" class=\"data row2 col1\" >0.781694</td>\n",
       "                        <td id=\"T_ac73f592_7b89_11ec_a928_6e89a2b94e08row2_col2\" class=\"data row2 col2\" >0.554622</td>\n",
       "            </tr>\n",
       "            <tr>\n",
       "                        <th id=\"T_ac73f592_7b89_11ec_a928_6e89a2b94e08level0_row3\" class=\"row_heading level0 row3\" >3</th>\n",
       "                        <td id=\"T_ac73f592_7b89_11ec_a928_6e89a2b94e08row3_col0\" class=\"data row3 col0\" >Extra Tree</td>\n",
       "                        <td id=\"T_ac73f592_7b89_11ec_a928_6e89a2b94e08row3_col1\" class=\"data row3 col1\" >0.761575</td>\n",
       "                        <td id=\"T_ac73f592_7b89_11ec_a928_6e89a2b94e08row3_col2\" class=\"data row3 col2\" >0.496172</td>\n",
       "            </tr>\n",
       "            <tr>\n",
       "                        <th id=\"T_ac73f592_7b89_11ec_a928_6e89a2b94e08level0_row4\" class=\"row_heading level0 row4\" >4</th>\n",
       "                        <td id=\"T_ac73f592_7b89_11ec_a928_6e89a2b94e08row4_col0\" class=\"data row4 col0\" >GradientBoosting</td>\n",
       "                        <td id=\"T_ac73f592_7b89_11ec_a928_6e89a2b94e08row4_col1\" class=\"data row4 col1\" >0.795048</td>\n",
       "                        <td id=\"T_ac73f592_7b89_11ec_a928_6e89a2b94e08row4_col2\" class=\"data row4 col2\" >0.557716</td>\n",
       "            </tr>\n",
       "            <tr>\n",
       "                        <th id=\"T_ac73f592_7b89_11ec_a928_6e89a2b94e08level0_row5\" class=\"row_heading level0 row5\" >5</th>\n",
       "                        <td id=\"T_ac73f592_7b89_11ec_a928_6e89a2b94e08row5_col0\" class=\"data row5 col0\" >Logistic Regression</td>\n",
       "                        <td id=\"T_ac73f592_7b89_11ec_a928_6e89a2b94e08row5_col1\" class=\"data row5 col1\" >0.797540</td>\n",
       "                        <td id=\"T_ac73f592_7b89_11ec_a928_6e89a2b94e08row5_col2\" class=\"data row5 col2\" >0.575564</td>\n",
       "            </tr>\n",
       "            <tr>\n",
       "                        <th id=\"T_ac73f592_7b89_11ec_a928_6e89a2b94e08level0_row6\" class=\"row_heading level0 row6\" >6</th>\n",
       "                        <td id=\"T_ac73f592_7b89_11ec_a928_6e89a2b94e08row6_col0\" class=\"data row6 col0\" >KNN</td>\n",
       "                        <td id=\"T_ac73f592_7b89_11ec_a928_6e89a2b94e08row6_col1\" class=\"data row6 col1\" >0.758548</td>\n",
       "                        <td id=\"T_ac73f592_7b89_11ec_a928_6e89a2b94e08row6_col2\" class=\"data row6 col2\" >0.528010</td>\n",
       "            </tr>\n",
       "    </tbody></table>"
      ],
      "text/plain": [
       "<pandas.io.formats.style.Styler at 0x7f9cccd1c650>"
      ]
     },
     "execution_count": 17,
     "metadata": {},
     "output_type": "execute_result"
    }
   ],
   "source": [
    "predict = pd.DataFrame(data = compare_models, \n",
    "                       columns=['Model','Cross_validation_mean(accuracy)', 'Cross_validation_mean(f1_score)'])\n",
    "predict.style.background_gradient(cmap='YlGn')"
   ]
  },
  {
   "cell_type": "code",
   "execution_count": 18,
   "id": "39bbc465",
   "metadata": {},
   "outputs": [],
   "source": [
    "#Random OverSample\n",
    "x_train_Sample = x_train.copy()\n",
    "y_train_Sample = y_train.copy()\n",
    "\n",
    "randOverSample = RandomOverSampler(random_state=100,)\n",
    "x_train_OverSample, y_train_OverSample = randOverSample.fit_resample(x_train_Sample, y_train_Sample.ravel())"
   ]
  },
  {
   "cell_type": "code",
   "execution_count": 19,
   "id": "35b80010",
   "metadata": {},
   "outputs": [],
   "source": [
    "#Fit basic model on OverSample dataset\n",
    "DT = DecisionTreeClassifier(random_state=0)\n",
    "cross_val_DT = cross_val_score(DT, x_train_OverSample, y_train_OverSample , scoring = 'accuracy' ) \n",
    "cross_val_DT_f1 = cross_val_score(DT, x_train_OverSample, y_train_OverSample , scoring = 'f1') \n",
    "\n",
    "RF = RandomForestClassifier(random_state=0)\n",
    "cross_val_RF = cross_val_score(RF, x_train_OverSample, y_train_OverSample , scoring = 'accuracy' ) \n",
    "cross_val_RF_f1 = cross_val_score(RF, x_train_OverSample, y_train_OverSample , scoring = 'f1') \n",
    "\n",
    "ET = ExtraTreesClassifier(random_state=0)\n",
    "cross_val_ET = cross_val_score(ET, x_train_OverSample, y_train_OverSample , scoring = 'accuracy' ) \n",
    "cross_val_ET_f1 = cross_val_score(ET, x_train_OverSample, y_train_OverSample , scoring = 'f1') \n",
    "\n",
    "MLP = MLPClassifier(random_state=0)\n",
    "cross_val_MLP = cross_val_score(MLP, x_train_OverSample, y_train_OverSample , scoring = 'accuracy' ) \n",
    "cross_val_MLP_f1 = cross_val_score(MLP, x_train_OverSample, y_train_OverSample , scoring = 'f1') \n",
    "\n",
    "GB = GradientBoostingClassifier(random_state=0)\n",
    "cross_val_GB = cross_val_score(GB, x_train_OverSample, y_train_OverSample , scoring = 'accuracy' ) \n",
    "cross_val_GB_f1 = cross_val_score(GB, x_train_OverSample, y_train_OverSample , scoring = 'f1') \n",
    "\n",
    "LR = LogisticRegression(random_state=0)\n",
    "cross_val_LR = cross_val_score(LR, x_train_OverSample, y_train_OverSample , scoring = 'accuracy' ) \n",
    "cross_val_LR_f1 = cross_val_score(LR, x_train_OverSample, y_train_OverSample , scoring = 'f1') \n",
    "\n",
    "KNN = KNeighborsClassifier()\n",
    "cross_val_KNN = cross_val_score(KNN, x_train_OverSample, y_train_OverSample , scoring = 'accuracy' ) \n",
    "cross_val_KNN_f1 = cross_val_score(KNN, x_train_OverSample, y_train_OverSample , scoring = 'f1') "
   ]
  },
  {
   "cell_type": "code",
   "execution_count": 20,
   "id": "fd5f4e38",
   "metadata": {},
   "outputs": [],
   "source": [
    "compare_models = [('Decision Tree', cross_val_DT.mean(),cross_val_DT_f1.mean()),\n",
    "                  ('Random Forest', cross_val_RF.mean(),cross_val_RF_f1.mean()),\n",
    "                  ('Neural Network', cross_val_MLP.mean(),cross_val_MLP_f1.mean()),\n",
    "                  ('Extra Tree', cross_val_ET.mean(),cross_val_ET_f1.mean()),\n",
    "                  ('GradientBoosting', cross_val_GB.mean(),cross_val_GB_f1.mean()),\n",
    "                  ('Logistic Regression', cross_val_LR.mean(),cross_val_LR_f1.mean()),\n",
    "                  ('KNN', cross_val_KNN.mean(), cross_val_KNN_f1.mean())]"
   ]
  },
  {
   "cell_type": "code",
   "execution_count": 21,
   "id": "05dfcd67",
   "metadata": {},
   "outputs": [
    {
     "data": {
      "text/html": [
       "<style  type=\"text/css\" >\n",
       "#T_d034b1a2_7b8d_11ec_a928_6e89a2b94e08row0_col1{\n",
       "            background-color:  #1d7f41;\n",
       "            color:  #f1f1f1;\n",
       "        }#T_d034b1a2_7b8d_11ec_a928_6e89a2b94e08row0_col2{\n",
       "            background-color:  #14783e;\n",
       "            color:  #f1f1f1;\n",
       "        }#T_d034b1a2_7b8d_11ec_a928_6e89a2b94e08row1_col1{\n",
       "            background-color:  #005730;\n",
       "            color:  #f1f1f1;\n",
       "        }#T_d034b1a2_7b8d_11ec_a928_6e89a2b94e08row1_col2{\n",
       "            background-color:  #00532f;\n",
       "            color:  #f1f1f1;\n",
       "        }#T_d034b1a2_7b8d_11ec_a928_6e89a2b94e08row2_col1{\n",
       "            background-color:  #e8f6ae;\n",
       "            color:  #000000;\n",
       "        }#T_d034b1a2_7b8d_11ec_a928_6e89a2b94e08row2_col2{\n",
       "            background-color:  #ddf2a6;\n",
       "            color:  #000000;\n",
       "        }#T_d034b1a2_7b8d_11ec_a928_6e89a2b94e08row3_col1,#T_d034b1a2_7b8d_11ec_a928_6e89a2b94e08row3_col2{\n",
       "            background-color:  #004529;\n",
       "            color:  #f1f1f1;\n",
       "        }#T_d034b1a2_7b8d_11ec_a928_6e89a2b94e08row4_col1{\n",
       "            background-color:  #eef9b3;\n",
       "            color:  #000000;\n",
       "        }#T_d034b1a2_7b8d_11ec_a928_6e89a2b94e08row4_col2{\n",
       "            background-color:  #ecf7b1;\n",
       "            color:  #000000;\n",
       "        }#T_d034b1a2_7b8d_11ec_a928_6e89a2b94e08row5_col1,#T_d034b1a2_7b8d_11ec_a928_6e89a2b94e08row5_col2{\n",
       "            background-color:  #ffffe5;\n",
       "            color:  #000000;\n",
       "        }#T_d034b1a2_7b8d_11ec_a928_6e89a2b94e08row6_col1{\n",
       "            background-color:  #fdfedd;\n",
       "            color:  #000000;\n",
       "        }#T_d034b1a2_7b8d_11ec_a928_6e89a2b94e08row6_col2{\n",
       "            background-color:  #f7fcb9;\n",
       "            color:  #000000;\n",
       "        }</style><table id=\"T_d034b1a2_7b8d_11ec_a928_6e89a2b94e08\" ><thead>    <tr>        <th class=\"blank level0\" ></th>        <th class=\"col_heading level0 col0\" >Model</th>        <th class=\"col_heading level0 col1\" >Cross_validation_mean(accuracy)</th>        <th class=\"col_heading level0 col2\" >Cross_validation_mean(f1_score)</th>    </tr></thead><tbody>\n",
       "                <tr>\n",
       "                        <th id=\"T_d034b1a2_7b8d_11ec_a928_6e89a2b94e08level0_row0\" class=\"row_heading level0 row0\" >0</th>\n",
       "                        <td id=\"T_d034b1a2_7b8d_11ec_a928_6e89a2b94e08row0_col0\" class=\"data row0 col0\" >Decision Tree</td>\n",
       "                        <td id=\"T_d034b1a2_7b8d_11ec_a928_6e89a2b94e08row0_col1\" class=\"data row0 col1\" >0.874976</td>\n",
       "                        <td id=\"T_d034b1a2_7b8d_11ec_a928_6e89a2b94e08row0_col2\" class=\"data row0 col2\" >0.884273</td>\n",
       "            </tr>\n",
       "            <tr>\n",
       "                        <th id=\"T_d034b1a2_7b8d_11ec_a928_6e89a2b94e08level0_row1\" class=\"row_heading level0 row1\" >1</th>\n",
       "                        <td id=\"T_d034b1a2_7b8d_11ec_a928_6e89a2b94e08row1_col0\" class=\"data row1 col0\" >Random Forest</td>\n",
       "                        <td id=\"T_d034b1a2_7b8d_11ec_a928_6e89a2b94e08row1_col1\" class=\"data row1 col1\" >0.899787</td>\n",
       "                        <td id=\"T_d034b1a2_7b8d_11ec_a928_6e89a2b94e08row1_col2\" class=\"data row1 col2\" >0.906104</td>\n",
       "            </tr>\n",
       "            <tr>\n",
       "                        <th id=\"T_d034b1a2_7b8d_11ec_a928_6e89a2b94e08level0_row2\" class=\"row_heading level0 row2\" >2</th>\n",
       "                        <td id=\"T_d034b1a2_7b8d_11ec_a928_6e89a2b94e08row2_col0\" class=\"data row2 col0\" >Neural Network</td>\n",
       "                        <td id=\"T_d034b1a2_7b8d_11ec_a928_6e89a2b94e08row2_col1\" class=\"data row2 col1\" >0.786253</td>\n",
       "                        <td id=\"T_d034b1a2_7b8d_11ec_a928_6e89a2b94e08row2_col2\" class=\"data row2 col2\" >0.799460</td>\n",
       "            </tr>\n",
       "            <tr>\n",
       "                        <th id=\"T_d034b1a2_7b8d_11ec_a928_6e89a2b94e08level0_row3\" class=\"row_heading level0 row3\" >3</th>\n",
       "                        <td id=\"T_d034b1a2_7b8d_11ec_a928_6e89a2b94e08row3_col0\" class=\"data row3 col0\" >Extra Tree</td>\n",
       "                        <td id=\"T_d034b1a2_7b8d_11ec_a928_6e89a2b94e08row3_col1\" class=\"data row3 col1\" >0.909592</td>\n",
       "                        <td id=\"T_d034b1a2_7b8d_11ec_a928_6e89a2b94e08row3_col2\" class=\"data row3 col2\" >0.913699</td>\n",
       "            </tr>\n",
       "            <tr>\n",
       "                        <th id=\"T_d034b1a2_7b8d_11ec_a928_6e89a2b94e08level0_row4\" class=\"row_heading level0 row4\" >4</th>\n",
       "                        <td id=\"T_d034b1a2_7b8d_11ec_a928_6e89a2b94e08row4_col0\" class=\"data row4 col0\" >GradientBoosting</td>\n",
       "                        <td id=\"T_d034b1a2_7b8d_11ec_a928_6e89a2b94e08row4_col1\" class=\"data row4 col1\" >0.782135</td>\n",
       "                        <td id=\"T_d034b1a2_7b8d_11ec_a928_6e89a2b94e08row4_col2\" class=\"data row4 col2\" >0.790910</td>\n",
       "            </tr>\n",
       "            <tr>\n",
       "                        <th id=\"T_d034b1a2_7b8d_11ec_a928_6e89a2b94e08level0_row5\" class=\"row_heading level0 row5\" >5</th>\n",
       "                        <td id=\"T_d034b1a2_7b8d_11ec_a928_6e89a2b94e08row5_col0\" class=\"data row5 col0\" >Logistic Regression</td>\n",
       "                        <td id=\"T_d034b1a2_7b8d_11ec_a928_6e89a2b94e08row5_col1\" class=\"data row5 col1\" >0.757321</td>\n",
       "                        <td id=\"T_d034b1a2_7b8d_11ec_a928_6e89a2b94e08row5_col2\" class=\"data row5 col2\" >0.765098</td>\n",
       "            </tr>\n",
       "            <tr>\n",
       "                        <th id=\"T_d034b1a2_7b8d_11ec_a928_6e89a2b94e08level0_row6\" class=\"row_heading level0 row6\" >6</th>\n",
       "                        <td id=\"T_d034b1a2_7b8d_11ec_a928_6e89a2b94e08row6_col0\" class=\"data row6 col0\" >KNN</td>\n",
       "                        <td id=\"T_d034b1a2_7b8d_11ec_a928_6e89a2b94e08row6_col1\" class=\"data row6 col1\" >0.761319</td>\n",
       "                        <td id=\"T_d034b1a2_7b8d_11ec_a928_6e89a2b94e08row6_col2\" class=\"data row6 col2\" >0.783885</td>\n",
       "            </tr>\n",
       "    </tbody></table>"
      ],
      "text/plain": [
       "<pandas.io.formats.style.Styler at 0x7f9d0d7b6d10>"
      ]
     },
     "execution_count": 21,
     "metadata": {},
     "output_type": "execute_result"
    }
   ],
   "source": [
    "predict = pd.DataFrame(data = compare_models, \n",
    "                       columns=['Model','Cross_validation_mean(accuracy)', 'Cross_validation_mean(f1_score)'])\n",
    "predict.style.background_gradient(cmap='YlGn')"
   ]
  },
  {
   "cell_type": "code",
   "execution_count": 22,
   "id": "5d426692",
   "metadata": {},
   "outputs": [],
   "source": [
    "#SMOTE\n",
    "x_train_sample = x_train.copy()\n",
    "y_train_sample = y_train.copy()\n",
    "\n",
    "sm = SMOTE(random_state=100)\n",
    "x_train_smote, y_train_smote = sm.fit_resample(x_train_sample, y_train_sample.ravel())"
   ]
  },
  {
   "cell_type": "code",
   "execution_count": 23,
   "id": "d798a852",
   "metadata": {},
   "outputs": [],
   "source": [
    "#Fit basic model on OverSample dataset\n",
    "DT = DecisionTreeClassifier(random_state=0)\n",
    "cross_val_DT = cross_val_score(DT, x_train_smote, y_train_smote , scoring = 'accuracy' ) \n",
    "cross_val_DT_f1 = cross_val_score(DT, x_train_smote, y_train_smote , scoring = 'f1') \n",
    "\n",
    "RF = RandomForestClassifier(random_state=0)\n",
    "cross_val_RF = cross_val_score(RF, x_train_smote, y_train_smote , scoring = 'accuracy' ) \n",
    "cross_val_RF_f1 = cross_val_score(RF, x_train_smote, y_train_smote , scoring = 'f1') \n",
    "\n",
    "ET = ExtraTreesClassifier(random_state=0)\n",
    "cross_val_ET = cross_val_score(ET, x_train_smote, y_train_smote , scoring = 'accuracy' ) \n",
    "cross_val_ET_f1 = cross_val_score(ET, x_train_smote, y_train_smote , scoring = 'f1') \n",
    "\n",
    "MLP = MLPClassifier(random_state=0)\n",
    "cross_val_MLP = cross_val_score(MLP, x_train_smote, y_train_smote , scoring = 'accuracy' ) \n",
    "cross_val_MLP_f1 = cross_val_score(MLP, x_train_smote, y_train_smote , scoring = 'f1') \n",
    "\n",
    "GB = GradientBoostingClassifier(random_state=0)\n",
    "cross_val_GB = cross_val_score(GB, x_train_smote, y_train_smote , scoring = 'accuracy' ) \n",
    "cross_val_GB_f1 = cross_val_score(GB, x_train_smote, y_train_smote , scoring = 'f1') \n",
    "\n",
    "LR = LogisticRegression(random_state=0)\n",
    "cross_val_LR = cross_val_score(LR, x_train_smote, y_train_smote , scoring = 'accuracy' ) \n",
    "cross_val_LR_f1 = cross_val_score(LR, x_train_smote, y_train_smote , scoring = 'f1') \n",
    "\n",
    "KNN = KNeighborsClassifier()\n",
    "cross_val_KNN = cross_val_score(KNN, x_train_smote, y_train_smote , scoring = 'accuracy' ) \n",
    "cross_val_KNN_f1 = cross_val_score(KNN, x_train_smote, y_train_smote , scoring = 'f1') "
   ]
  },
  {
   "cell_type": "code",
   "execution_count": 24,
   "id": "70fc058b",
   "metadata": {},
   "outputs": [],
   "source": [
    "compare_models = [('Decision Tree', cross_val_DT.mean(),cross_val_DT_f1.mean()),\n",
    "                  ('Random Forest', cross_val_RF.mean(),cross_val_RF_f1.mean()),\n",
    "                  ('Neural Network', cross_val_MLP.mean(),cross_val_MLP_f1.mean()),\n",
    "                  ('Extra Tree', cross_val_ET.mean(),cross_val_ET_f1.mean()),\n",
    "                  ('GradientBoosting', cross_val_GB.mean(),cross_val_GB_f1.mean()),\n",
    "                  ('Logistic Regression', cross_val_LR.mean(),cross_val_LR_f1.mean()),\n",
    "                  ('KNN', cross_val_KNN.mean(), cross_val_KNN_f1.mean())]"
   ]
  },
  {
   "cell_type": "code",
   "execution_count": 25,
   "id": "8ff2d256",
   "metadata": {},
   "outputs": [
    {
     "data": {
      "text/html": [
       "<style  type=\"text/css\" >\n",
       "#T_d48b9d70_7b91_11ec_a928_6e89a2b94e08row0_col1{\n",
       "            background-color:  #feffde;\n",
       "            color:  #000000;\n",
       "        }#T_d48b9d70_7b91_11ec_a928_6e89a2b94e08row0_col2,#T_d48b9d70_7b91_11ec_a928_6e89a2b94e08row5_col1{\n",
       "            background-color:  #ffffe5;\n",
       "            color:  #000000;\n",
       "        }#T_d48b9d70_7b91_11ec_a928_6e89a2b94e08row1_col1{\n",
       "            background-color:  #036b38;\n",
       "            color:  #f1f1f1;\n",
       "        }#T_d48b9d70_7b91_11ec_a928_6e89a2b94e08row1_col2{\n",
       "            background-color:  #0d733c;\n",
       "            color:  #f1f1f1;\n",
       "        }#T_d48b9d70_7b91_11ec_a928_6e89a2b94e08row2_col1{\n",
       "            background-color:  #b5e092;\n",
       "            color:  #000000;\n",
       "        }#T_d48b9d70_7b91_11ec_a928_6e89a2b94e08row2_col2{\n",
       "            background-color:  #86cc7f;\n",
       "            color:  #000000;\n",
       "        }#T_d48b9d70_7b91_11ec_a928_6e89a2b94e08row3_col1,#T_d48b9d70_7b91_11ec_a928_6e89a2b94e08row3_col2{\n",
       "            background-color:  #004529;\n",
       "            color:  #f1f1f1;\n",
       "        }#T_d48b9d70_7b91_11ec_a928_6e89a2b94e08row4_col1{\n",
       "            background-color:  #40aa5c;\n",
       "            color:  #000000;\n",
       "        }#T_d48b9d70_7b91_11ec_a928_6e89a2b94e08row4_col2{\n",
       "            background-color:  #3da559;\n",
       "            color:  #000000;\n",
       "        }#T_d48b9d70_7b91_11ec_a928_6e89a2b94e08row5_col2{\n",
       "            background-color:  #f9fdc2;\n",
       "            color:  #000000;\n",
       "        }#T_d48b9d70_7b91_11ec_a928_6e89a2b94e08row6_col1{\n",
       "            background-color:  #e4f4ab;\n",
       "            color:  #000000;\n",
       "        }#T_d48b9d70_7b91_11ec_a928_6e89a2b94e08row6_col2{\n",
       "            background-color:  #89ce80;\n",
       "            color:  #000000;\n",
       "        }</style><table id=\"T_d48b9d70_7b91_11ec_a928_6e89a2b94e08\" ><thead>    <tr>        <th class=\"blank level0\" ></th>        <th class=\"col_heading level0 col0\" >Model</th>        <th class=\"col_heading level0 col1\" >Cross_validation_mean(accuracy)</th>        <th class=\"col_heading level0 col2\" >Cross_validation_mean(f1_score)</th>    </tr></thead><tbody>\n",
       "                <tr>\n",
       "                        <th id=\"T_d48b9d70_7b91_11ec_a928_6e89a2b94e08level0_row0\" class=\"row_heading level0 row0\" >0</th>\n",
       "                        <td id=\"T_d48b9d70_7b91_11ec_a928_6e89a2b94e08row0_col0\" class=\"data row0 col0\" >Decision Tree</td>\n",
       "                        <td id=\"T_d48b9d70_7b91_11ec_a928_6e89a2b94e08row0_col1\" class=\"data row0 col1\" >0.775131</td>\n",
       "                        <td id=\"T_d48b9d70_7b91_11ec_a928_6e89a2b94e08row0_col2\" class=\"data row0 col2\" >0.769884</td>\n",
       "            </tr>\n",
       "            <tr>\n",
       "                        <th id=\"T_d48b9d70_7b91_11ec_a928_6e89a2b94e08level0_row1\" class=\"row_heading level0 row1\" >1</th>\n",
       "                        <td id=\"T_d48b9d70_7b91_11ec_a928_6e89a2b94e08row1_col0\" class=\"data row1 col0\" >Random Forest</td>\n",
       "                        <td id=\"T_d48b9d70_7b91_11ec_a928_6e89a2b94e08row1_col1\" class=\"data row1 col1\" >0.853565</td>\n",
       "                        <td id=\"T_d48b9d70_7b91_11ec_a928_6e89a2b94e08row1_col2\" class=\"data row1 col2\" >0.848848</td>\n",
       "            </tr>\n",
       "            <tr>\n",
       "                        <th id=\"T_d48b9d70_7b91_11ec_a928_6e89a2b94e08level0_row2\" class=\"row_heading level0 row2\" >2</th>\n",
       "                        <td id=\"T_d48b9d70_7b91_11ec_a928_6e89a2b94e08row2_col0\" class=\"data row2 col0\" >Neural Network</td>\n",
       "                        <td id=\"T_d48b9d70_7b91_11ec_a928_6e89a2b94e08row2_col1\" class=\"data row2 col1\" >0.806109</td>\n",
       "                        <td id=\"T_d48b9d70_7b91_11ec_a928_6e89a2b94e08row2_col2\" class=\"data row2 col2\" >0.814325</td>\n",
       "            </tr>\n",
       "            <tr>\n",
       "                        <th id=\"T_d48b9d70_7b91_11ec_a928_6e89a2b94e08level0_row3\" class=\"row_heading level0 row3\" >3</th>\n",
       "                        <td id=\"T_d48b9d70_7b91_11ec_a928_6e89a2b94e08row3_col0\" class=\"data row3 col0\" >Extra Tree</td>\n",
       "                        <td id=\"T_d48b9d70_7b91_11ec_a928_6e89a2b94e08row3_col1\" class=\"data row3 col1\" >0.866754</td>\n",
       "                        <td id=\"T_d48b9d70_7b91_11ec_a928_6e89a2b94e08row3_col2\" class=\"data row3 col2\" >0.865387</td>\n",
       "            </tr>\n",
       "            <tr>\n",
       "                        <th id=\"T_d48b9d70_7b91_11ec_a928_6e89a2b94e08level0_row4\" class=\"row_heading level0 row4\" >4</th>\n",
       "                        <td id=\"T_d48b9d70_7b91_11ec_a928_6e89a2b94e08row4_col0\" class=\"data row4 col0\" >GradientBoosting</td>\n",
       "                        <td id=\"T_d48b9d70_7b91_11ec_a928_6e89a2b94e08row4_col1\" class=\"data row4 col1\" >0.831775</td>\n",
       "                        <td id=\"T_d48b9d70_7b91_11ec_a928_6e89a2b94e08row4_col2\" class=\"data row4 col2\" >0.831114</td>\n",
       "            </tr>\n",
       "            <tr>\n",
       "                        <th id=\"T_d48b9d70_7b91_11ec_a928_6e89a2b94e08level0_row5\" class=\"row_heading level0 row5\" >5</th>\n",
       "                        <td id=\"T_d48b9d70_7b91_11ec_a928_6e89a2b94e08row5_col0\" class=\"data row5 col0\" >Logistic Regression</td>\n",
       "                        <td id=\"T_d48b9d70_7b91_11ec_a928_6e89a2b94e08row5_col1\" class=\"data row5 col1\" >0.772938</td>\n",
       "                        <td id=\"T_d48b9d70_7b91_11ec_a928_6e89a2b94e08row5_col2\" class=\"data row5 col2\" >0.779370</td>\n",
       "            </tr>\n",
       "            <tr>\n",
       "                        <th id=\"T_d48b9d70_7b91_11ec_a928_6e89a2b94e08level0_row6\" class=\"row_heading level0 row6\" >6</th>\n",
       "                        <td id=\"T_d48b9d70_7b91_11ec_a928_6e89a2b94e08row6_col0\" class=\"data row6 col0\" >KNN</td>\n",
       "                        <td id=\"T_d48b9d70_7b91_11ec_a928_6e89a2b94e08row6_col1\" class=\"data row6 col1\" >0.792187</td>\n",
       "                        <td id=\"T_d48b9d70_7b91_11ec_a928_6e89a2b94e08row6_col2\" class=\"data row6 col2\" >0.813715</td>\n",
       "            </tr>\n",
       "    </tbody></table>"
      ],
      "text/plain": [
       "<pandas.io.formats.style.Styler at 0x7f9d0cf283d0>"
      ]
     },
     "execution_count": 25,
     "metadata": {},
     "output_type": "execute_result"
    }
   ],
   "source": [
    "predict = pd.DataFrame(data = compare_models, \n",
    "                       columns=['Model','Cross_validation_mean(accuracy)', 'Cross_validation_mean(f1_score)'])\n",
    "predict.style.background_gradient(cmap='YlGn')"
   ]
  },
  {
   "cell_type": "code",
   "execution_count": 26,
   "id": "68c965f9",
   "metadata": {},
   "outputs": [
    {
     "name": "stdout",
     "output_type": "stream",
     "text": [
      "Accuracy score:  0.7935943060498221\n",
      "------------------------------\n",
      "F1_score:  0.5994475138121548\n"
     ]
    }
   ],
   "source": [
    "#let's try out Random OverSampling technique on a RandomForest model.\n",
    "RF = RandomForestClassifier(random_state=0)\n",
    "RF.fit(x_train_OverSample,y_train_OverSample)\n",
    "y_pred = RF.predict(x_test)\n",
    "print (\"Accuracy score: \",accuracy_score(y_pred,y_test))\n",
    "print (\"------------------------------\")\n",
    "print (\"F1_score: \",f1_score(y_pred,y_test))"
   ]
  },
  {
   "cell_type": "code",
   "execution_count": 27,
   "id": "099cc0ca",
   "metadata": {},
   "outputs": [
    {
     "name": "stdout",
     "output_type": "stream",
     "text": [
      "Accuracy score:  0.7786476868327402\n",
      "------------------------------\n",
      "F1_score:  0.5266362252663622\n"
     ]
    }
   ],
   "source": [
    "#let's try out Random OverSampling technique on a Extra tree classifier.\n",
    "ET = ExtraTreesClassifier(random_state=0)\n",
    "ET.fit(x_train_OverSample,y_train_OverSample)\n",
    "y_pred = ET.predict(x_test)\n",
    "print (\"Accuracy score: \",accuracy_score(y_pred,y_test))\n",
    "print (\"------------------------------\")\n",
    "print (\"F1_score: \",f1_score(y_pred,y_test))"
   ]
  },
  {
   "cell_type": "code",
   "execution_count": 28,
   "id": "19f26fe4",
   "metadata": {},
   "outputs": [
    {
     "name": "stdout",
     "output_type": "stream",
     "text": [
      "{'n_estimators': [200, 400, 600, 800, 1000, 1200, 1400, 1600, 1800, 2000], 'max_features': ['auto', 'sqrt'], 'max_depth': [10, 20, 30, 40, 50, 60, 70, 80, 90, 100, 110, None], 'min_samples_split': [2, 5, 10], 'min_samples_leaf': [1, 2, 4], 'bootstrap': [True, False]}\n"
     ]
    }
   ],
   "source": [
    "# Number of trees in random forest\n",
    "n_estimators = [int(x) for x in np.linspace(start = 200, stop = 2000, num = 10)]\n",
    "# Number of features to consider at every split\n",
    "max_features = ['auto', 'sqrt']\n",
    "# Maximum number of levels in tree\n",
    "max_depth = [int(x) for x in np.linspace(10, 110, num = 11)]\n",
    "max_depth.append(None)\n",
    "# Minimum number of samples required to split a node\n",
    "min_samples_split = [2, 5, 10]\n",
    "# Minimum number of samples required at each leaf node\n",
    "min_samples_leaf = [1, 2, 4]\n",
    "# Method of selecting samples for training each tree\n",
    "bootstrap = [True, False]\n",
    "# Create the random grid\n",
    "random_grid = {'n_estimators': n_estimators,\n",
    "               'max_features': max_features,\n",
    "               'max_depth': max_depth,\n",
    "               'min_samples_split': min_samples_split,\n",
    "               'min_samples_leaf': min_samples_leaf,\n",
    "               'bootstrap': bootstrap}\n",
    "print(random_grid)"
   ]
  },
  {
   "cell_type": "code",
   "execution_count": 29,
   "id": "33940054",
   "metadata": {},
   "outputs": [
    {
     "name": "stdout",
     "output_type": "stream",
     "text": [
      "Fitting 3 folds for each of 100 candidates, totalling 300 fits\n"
     ]
    },
    {
     "data": {
      "text/plain": [
       "RandomizedSearchCV(cv=3, estimator=RandomForestClassifier(), n_iter=100,\n",
       "                   n_jobs=-1,\n",
       "                   param_distributions={'bootstrap': [True, False],\n",
       "                                        'max_depth': [10, 20, 30, 40, 50, 60,\n",
       "                                                      70, 80, 90, 100, 110,\n",
       "                                                      None],\n",
       "                                        'max_features': ['auto', 'sqrt'],\n",
       "                                        'min_samples_leaf': [1, 2, 4],\n",
       "                                        'min_samples_split': [2, 5, 10],\n",
       "                                        'n_estimators': [200, 400, 600, 800,\n",
       "                                                         1000, 1200, 1400, 1600,\n",
       "                                                         1800, 2000]},\n",
       "                   random_state=42, verbose=2)"
      ]
     },
     "execution_count": 29,
     "metadata": {},
     "output_type": "execute_result"
    }
   ],
   "source": [
    "rf = RandomForestClassifier()\n",
    "rf_random = RandomizedSearchCV(estimator = rf, param_distributions = random_grid, n_iter = 100, cv = 3, verbose=2, random_state=42, n_jobs = -1)\n",
    "# Fit the random search model\n",
    "rf_random.fit(x_train_OverSample, y_train_OverSample)"
   ]
  },
  {
   "cell_type": "code",
   "execution_count": 30,
   "id": "d9daf235",
   "metadata": {},
   "outputs": [
    {
     "data": {
      "text/plain": [
       "\"\\n{'bootstrap': True,\\n 'max_depth': 70,\\n 'max_features': 'auto',\\n 'min_samples_leaf': 4,\\n 'min_samples_split': 10,\\n 'n_estimators': 400}\\n\""
      ]
     },
     "execution_count": 30,
     "metadata": {},
     "output_type": "execute_result"
    }
   ],
   "source": [
    "rf_random.best_params_\n",
    "'''\n",
    "{'bootstrap': True,\n",
    " 'max_depth': 70,\n",
    " 'max_features': 'auto',\n",
    " 'min_samples_leaf': 4,\n",
    " 'min_samples_split': 10,\n",
    " 'n_estimators': 400}\n",
    "''' "
   ]
  },
  {
   "cell_type": "code",
   "execution_count": 31,
   "id": "02f0e07f",
   "metadata": {},
   "outputs": [
    {
     "ename": "AttributeError",
     "evalue": "'RandomizedSearchCV' object has no attribute 'feature_importances_'",
     "output_type": "error",
     "traceback": [
      "\u001b[0;31m---------------------------------------------------------------------------\u001b[0m",
      "\u001b[0;31mAttributeError\u001b[0m                            Traceback (most recent call last)",
      "\u001b[0;32m<ipython-input-31-b836c0c2f5f3>\u001b[0m in \u001b[0;36m<module>\u001b[0;34m\u001b[0m\n\u001b[0;32m----> 1\u001b[0;31m \u001b[0mrf_random\u001b[0m\u001b[0;34m.\u001b[0m\u001b[0mfeature_importances_\u001b[0m\u001b[0;34m\u001b[0m\u001b[0;34m\u001b[0m\u001b[0m\n\u001b[0m",
      "\u001b[0;31mAttributeError\u001b[0m: 'RandomizedSearchCV' object has no attribute 'feature_importances_'"
     ]
    }
   ],
   "source": [
    "rf_random.feature_importances_"
   ]
  },
  {
   "cell_type": "code",
   "execution_count": null,
   "id": "94003bfc",
   "metadata": {},
   "outputs": [],
   "source": [
    "def evaluate(model, test_features, test_labels):\n",
    "    predictions = model.predict(test_features)\n",
    "    errors = abs(predictions - test_labels)\n",
    "    mape = 100 * np.mean(errors / test_labels)\n",
    "    accuracy = 100 - mape\n",
    "    print('Model Performance')\n",
    "    print('Average Error: {:0.4f} degrees.'.format(np.mean(errors)))\n",
    "    print('Accuracy = {:0.2f}%.'.format(accuracy))\n",
    "    \n",
    "    return accuracy"
   ]
  },
  {
   "cell_type": "code",
   "execution_count": null,
   "id": "0132eb71",
   "metadata": {},
   "outputs": [],
   "source": [
    "base_model = RandomForestClassifier(n_estimators = 10, random_state = 42)\n",
    "base_model.fit(x_train_OverSample, y_train_OverSample)\n",
    "base_accuracy = evaluate(base_model, x_test, y_test)"
   ]
  },
  {
   "cell_type": "code",
   "execution_count": null,
   "id": "b1f9537f",
   "metadata": {},
   "outputs": [],
   "source": [
    "best_random = rf_random.best_estimator_\n",
    "random_accuracy = evaluate(best_random, x_test, y_test)"
   ]
  },
  {
   "cell_type": "code",
   "execution_count": null,
   "id": "9eb75695",
   "metadata": {},
   "outputs": [],
   "source": [
    "#feature_importances_.argsort()"
   ]
  },
  {
   "cell_type": "code",
   "execution_count": null,
   "id": "c77eaf28",
   "metadata": {},
   "outputs": [],
   "source": []
  },
  {
   "cell_type": "code",
   "execution_count": null,
   "id": "54ee87b5",
   "metadata": {},
   "outputs": [],
   "source": []
  },
  {
   "cell_type": "code",
   "execution_count": null,
   "id": "1c8fb19d",
   "metadata": {},
   "outputs": [],
   "source": []
  }
 ],
 "metadata": {
  "kernelspec": {
   "display_name": "Python 3",
   "language": "python",
   "name": "python3"
  },
  "language_info": {
   "codemirror_mode": {
    "name": "ipython",
    "version": 3
   },
   "file_extension": ".py",
   "mimetype": "text/x-python",
   "name": "python",
   "nbconvert_exporter": "python",
   "pygments_lexer": "ipython3",
   "version": "3.7.12"
  }
 },
 "nbformat": 4,
 "nbformat_minor": 5
}
